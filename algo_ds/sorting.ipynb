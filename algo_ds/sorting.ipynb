{
  "nbformat": 4,
  "nbformat_minor": 0,
  "metadata": {
    "colab": {
      "name": "sorting.ipynb",
      "provenance": [],
      "authorship_tag": "ABX9TyNAOxgjOsrtbOmIV2R7fQj9",
      "include_colab_link": true
    },
    "kernelspec": {
      "name": "python3",
      "display_name": "Python 3"
    }
  },
  "cells": [
    {
      "cell_type": "markdown",
      "metadata": {
        "id": "view-in-github",
        "colab_type": "text"
      },
      "source": [
        "<a href=\"https://colab.research.google.com/github/thefr33radical/codeblue/blob/master/algo_ds/sorting.ipynb\" target=\"_parent\"><img src=\"https://colab.research.google.com/assets/colab-badge.svg\" alt=\"Open In Colab\"/></a>"
      ]
    },
    {
      "cell_type": "markdown",
      "metadata": {
        "id": "bsMqjsIr_MLJ",
        "colab_type": "text"
      },
      "source": [
        ""
      ]
    },
    {
      "cell_type": "code",
      "metadata": {
        "id": "9MDRVClj_FeM",
        "colab_type": "code",
        "colab": {}
      },
      "source": [
        "\"\"\"\n",
        "Radix Sort\n",
        "\"\"\""
      ],
      "execution_count": null,
      "outputs": []
    },
    {
      "cell_type": "code",
      "metadata": {
        "id": "97wUBM5j_SaT",
        "colab_type": "code",
        "colab": {}
      },
      "source": [
        "\"\"\"\"\n",
        "Merge Sort\n",
        "\"\"\""
      ],
      "execution_count": null,
      "outputs": []
    },
    {
      "cell_type": "code",
      "metadata": {
        "id": "1qrEUk9h_Ws-",
        "colab_type": "code",
        "colab": {
          "base_uri": "https://localhost:8080/",
          "height": 35
        },
        "outputId": "179f19a3-856d-4e87-eeb1-c009353dc1a1"
      },
      "source": [
        "\"\"\"\n",
        "Quick Sort\n",
        "\"\"\""
      ],
      "execution_count": null,
      "outputs": [
        {
          "output_type": "execute_result",
          "data": {
            "text/plain": [
              "'\\n'"
            ]
          },
          "metadata": {
            "tags": []
          },
          "execution_count": 1
        }
      ]
    },
    {
      "cell_type": "code",
      "metadata": {
        "id": "WujIsRpf_Y-K",
        "colab_type": "code",
        "colab": {}
      },
      "source": [
        "\"\"\"\n",
        "Heap Sort\n",
        "\"\"\""
      ],
      "execution_count": null,
      "outputs": []
    },
    {
      "cell_type": "code",
      "metadata": {
        "id": "3ZGD0XS5_k31",
        "colab_type": "code",
        "colab": {}
      },
      "source": [
        "\"\"\"\n",
        "Insertion Sort\n",
        "\"\"\""
      ],
      "execution_count": null,
      "outputs": []
    },
    {
      "cell_type": "code",
      "metadata": {
        "id": "G2yH5-Hz_67K",
        "colab_type": "code",
        "colab": {}
      },
      "source": [
        "\"\"\"\n",
        "Bucket Sort\n",
        "\"\"\""
      ],
      "execution_count": null,
      "outputs": []
    },
    {
      "cell_type": "code",
      "metadata": {
        "id": "0_ymDv6oANOW",
        "colab_type": "code",
        "colab": {}
      },
      "source": [
        "\"\"\"\n",
        "Shell Sort\n",
        "\"\"\""
      ],
      "execution_count": null,
      "outputs": []
    },
    {
      "cell_type": "code",
      "metadata": {
        "id": "ICE6j0uKANcI",
        "colab_type": "code",
        "colab": {}
      },
      "source": [
        "\"\"\"\n",
        "Counting Sort\n",
        "\n",
        "T(C) = O(n+k) / size + max_element\n",
        "\"\"\"\n",
        "\n",
        "def CountingSort(arr):\n",
        "  max_ele=max(arr)\n",
        "  count_arr=[0]*(max_ele)\n",
        "  output=[0]*(len(arr))\n",
        "\n",
        "  for i in range(len(arr)):\n",
        "    count_arr[arr[i]]+=1\n",
        "          \n",
        "  for i in range(1,len(count_arr)):\n",
        "    count_arr[i]+=count_arr[i-1]\n",
        "\n",
        "  #insert element at appropriate position\n",
        "  for i in range(len(arr)):\n",
        "    print(arr[i],count_arr[arr[i]])\n",
        "    pos=count_arr[arr[i]]\n",
        "    output[pos]=arr[i]\n",
        "  print(output)\n",
        "  \n",
        "arr=[5,12,43,1100,89,90]\n",
        "CountingSort(arr)"
      ],
      "execution_count": null,
      "outputs": []
    },
    {
      "cell_type": "code",
      "metadata": {
        "id": "HbHFytj1ANoG",
        "colab_type": "code",
        "colab": {}
      },
      "source": [
        "\"\"\"\"\n",
        "Bucket Sort\n",
        "\"\"\""
      ],
      "execution_count": null,
      "outputs": []
    },
    {
      "cell_type": "code",
      "metadata": {
        "id": "B2sLQjQVAN3M",
        "colab_type": "code",
        "colab": {}
      },
      "source": [
        "\"\"\"\n",
        "Selection Sort\n",
        "\"\"\""
      ],
      "execution_count": null,
      "outputs": []
    }
  ]
}