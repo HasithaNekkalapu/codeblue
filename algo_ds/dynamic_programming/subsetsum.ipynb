{
  "nbformat": 4,
  "nbformat_minor": 0,
  "metadata": {
    "colab": {
      "name": "subsetsum.ipynb",
      "version": "0.3.2",
      "provenance": [],
      "collapsed_sections": [],
      "include_colab_link": true
    },
    "kernelspec": {
      "name": "python3",
      "display_name": "Python 3"
    }
  },
  "cells": [
    {
      "cell_type": "markdown",
      "metadata": {
        "id": "view-in-github",
        "colab_type": "text"
      },
      "source": [
        "<a href=\"https://colab.research.google.com/github/thefr33radical/codeblue/blob/master/algo_ds/dynamic_programming/subsetsum.ipynb\" target=\"_parent\"><img src=\"https://colab.research.google.com/assets/colab-badge.svg\" alt=\"Open In Colab\"/></a>"
      ]
    },
    {
      "cell_type": "code",
      "metadata": {
        "id": "SQyr2-QGrHgz",
        "colab_type": "code",
        "colab": {}
      },
      "source": [
        ""
      ],
      "execution_count": 0,
      "outputs": []
    },
    {
      "cell_type": "markdown",
      "metadata": {
        "id": "Jsvzqc5bsMmX",
        "colab_type": "text"
      },
      "source": [
        "### SubsetSum\n",
        "#### References\n",
        "\n",
        "* https://www.geeksforgeeks.org/subset-sum-problem-dp-25/\n",
        "\n",
        "\n"
      ]
    },
    {
      "cell_type": "code",
      "metadata": {
        "id": "u61SOP2ssND0",
        "colab_type": "code",
        "colab": {}
      },
      "source": [
        "# Naive approach \n",
        "# T(C) = O(2^n)\n",
        "\n",
        "def subsetsum(_sum,_n,arr):\n",
        "  print(_sum,_n)\n",
        "  if _sum==0:\n",
        "    print(\"found\")\n",
        "    return 1\n",
        "  \n",
        "  if _n==0 and _sum!=0:\n",
        "    return 0\n",
        "  \n",
        "  return (subsetsum(_sum,_n-1,arr) | subsetsum(_sum-arr[_n-1],_n-1,arr))\n",
        "\n",
        "\n",
        "arr= [1,2,1,1]\n",
        "\n",
        "print(f\"subsetsum:{subsetsum(3,len(arr),arr)}\")\n",
        "\n",
        "\n",
        "\n"
      ],
      "execution_count": 0,
      "outputs": []
    }
  ]
}