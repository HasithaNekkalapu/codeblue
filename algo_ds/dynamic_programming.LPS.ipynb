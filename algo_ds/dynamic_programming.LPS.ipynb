{
  "nbformat": 4,
  "nbformat_minor": 0,
  "metadata": {
    "colab": {
      "name": "LPS.ipynb",
      "version": "0.3.2",
      "provenance": [],
      "include_colab_link": true
    },
    "kernelspec": {
      "name": "python3",
      "display_name": "Python 3"
    }
  },
  "cells": [
    {
      "cell_type": "markdown",
      "metadata": {
        "id": "view-in-github",
        "colab_type": "text"
      },
      "source": [
        "<a href=\"https://colab.research.google.com/github/thefr33radical/codeblue/blob/master/algo_ds/dynamic_programming.LPS.ipynb\" target=\"_parent\"><img src=\"https://colab.research.google.com/assets/colab-badge.svg\" alt=\"Open In Colab\"/></a>"
      ]
    },
    {
      "cell_type": "code",
      "metadata": {
        "id": "0nMgV6WxzQm_",
        "colab_type": "code",
        "colab": {
          "base_uri": "https://localhost:8080/",
          "height": 225
        },
        "outputId": "6e95f1f1-7ac8-43b1-8e75-62f0927d18e2"
      },
      "source": [
        "\n",
        "def compute(l,n1,n2):\n",
        "  if n1<len(l) and n2 >=0 and n1 < n2-1:\n",
        "    \n",
        "    if l[n1]==l[n2-1]:\n",
        "      print(l[n1],l[n2-1])\n",
        "      return compute(l,n1+1,n2-1)+2\n",
        "    else:\n",
        "      return max(compute(l,n1,n2-1),compute(l,n1+1,n2))\n",
        "  if n1<len(l) and n2 >=0 and n1 == n2-1:\n",
        "    return 1\n",
        "  return 0\n",
        "s=\"baaacdddbaab\"\n",
        "l=list(s)\n",
        "print(l)\n",
        "print(compute(l,0,len(l)))\n",
        "  \n",
        "  \n",
        "  \n",
        "\n",
        "\n",
        "\n"
      ],
      "execution_count": 16,
      "outputs": [
        {
          "output_type": "stream",
          "text": [
            "['b', 'a', 'a', 'a', 'c', 'd', 'd', 'd', 'b', 'a', 'a', 'b']\n",
            "b b\n",
            "a a\n",
            "a a\n",
            "d d\n",
            "d d\n",
            "d d\n",
            "d d\n",
            "d d\n",
            "d d\n",
            "d d\n",
            "9\n"
          ],
          "name": "stdout"
        }
      ]
    }
  ]
}