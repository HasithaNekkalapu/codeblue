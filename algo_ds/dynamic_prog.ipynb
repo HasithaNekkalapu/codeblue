{
  "nbformat": 4,
  "nbformat_minor": 0,
  "metadata": {
    "colab": {
      "name": "dynamic_prog.ipynb",
      "provenance": [],
      "include_colab_link": true
    },
    "kernelspec": {
      "name": "python3",
      "display_name": "Python 3"
    }
  },
  "cells": [
    {
      "cell_type": "markdown",
      "metadata": {
        "id": "view-in-github",
        "colab_type": "text"
      },
      "source": [
        "<a href=\"https://colab.research.google.com/github/thefr33radical/codeblue/blob/master/algo_ds/dynamic_prog.ipynb\" target=\"_parent\"><img src=\"https://colab.research.google.com/assets/colab-badge.svg\" alt=\"Open In Colab\"/></a>"
      ]
    },
    {
      "cell_type": "code",
      "metadata": {
        "id": "mPdnD1pd1dqS",
        "colab_type": "code",
        "colab": {}
      },
      "source": [
        "# Ugly numbers\n",
        "\n"
      ],
      "execution_count": 0,
      "outputs": []
    },
    {
      "cell_type": "code",
      "metadata": {
        "id": "qfFd-T3yb58l",
        "colab_type": "code",
        "colab": {
          "base_uri": "https://localhost:8080/",
          "height": 52
        },
        "outputId": "d92a4fb4-6496-4405-bb17-bbbbd45b9b30"
      },
      "source": [
        "\"\"\"\n",
        " Longest Common Subsequence\n",
        "\n",
        "Naive : T(C)= O(2^N)\n",
        "Dynamic Programming : T(C) = O(mn)\n",
        "where m = length of string1, n= length of string2 \n",
        "\"\"\"\n",
        "def naiveLCS(str1,str2,m,n,i,j):\n",
        "  if i==(m) or (n)==j:\n",
        "    return 0\n",
        "\n",
        "  if str1[i]==str2[j]:    \n",
        "    return 1+naiveLCS(str1,str2,m,n,i+1,j+1)\n",
        "  else:\n",
        "    return max( naiveLCS(str1,str2,m,n,i+1,j),naiveLCS(str1,str2,m,n,i,j+1))\n",
        "\n",
        "def LCS(str1,str2):\n",
        "  m=len(str1)\n",
        "  n=len(str2)\n",
        "\n",
        "#Construct LCS matrix\n",
        "  mat=[0]*(m+1)\n",
        "  for i in range(len(mat)):\n",
        "    mat[i]=[0]*(n+1)\n",
        "\n",
        "# Core LCS algorithm \n",
        "  for i in range(1,m+1):\n",
        "    for j in range(1,n+1):\n",
        "\n",
        "      # if both the letters in the string match\n",
        "      if str1[i-1]==str2[j-1]:\n",
        "        mat[i][j]=mat[i-1][j-1]+1\n",
        "      # if there is a mismatch of letters\n",
        "      else:\n",
        "        mat[i][j]=max(mat[i-1][j],mat[i][j-1])\n",
        "  return mat[m][n]\n",
        "\n",
        "X = \"AGGTAB\"\n",
        "Y = \"GXTXAYB\"\n",
        "print(naiveLCS(X,Y,len(X),len(Y),0,0))\n",
        "print(LCS(X,Y))\n",
        "\n"
      ],
      "execution_count": 15,
      "outputs": [
        {
          "output_type": "stream",
          "text": [
            "4\n",
            "4\n"
          ],
          "name": "stdout"
        }
      ]
    },
    {
      "cell_type": "code",
      "metadata": {
        "id": "BrFHDyxEFyOL",
        "colab_type": "code",
        "colab": {}
      },
      "source": [
        "#min cost path\n",
        "\n",
        "\n"
      ],
      "execution_count": 0,
      "outputs": []
    },
    {
      "cell_type": "code",
      "metadata": {
        "id": "1Uc3XpXxo4j1",
        "colab_type": "code",
        "colab": {}
      },
      "source": [
        "'''\n",
        "0/1 knapsack\n",
        "\n",
        "\n",
        "\n",
        "'''"
      ],
      "execution_count": 0,
      "outputs": []
    },
    {
      "cell_type": "code",
      "metadata": {
        "id": "kaztif_6o5dq",
        "colab_type": "code",
        "colab": {}
      },
      "source": [
        "\"\""
      ],
      "execution_count": 0,
      "outputs": []
    }
  ]
}