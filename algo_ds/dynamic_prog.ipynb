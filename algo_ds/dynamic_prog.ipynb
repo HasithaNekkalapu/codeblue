{
  "nbformat": 4,
  "nbformat_minor": 0,
  "metadata": {
    "colab": {
      "name": "dynamic_prog.ipynb",
      "provenance": [],
      "include_colab_link": true
    },
    "kernelspec": {
      "name": "python3",
      "display_name": "Python 3"
    }
  },
  "cells": [
    {
      "cell_type": "markdown",
      "metadata": {
        "id": "view-in-github",
        "colab_type": "text"
      },
      "source": [
        "<a href=\"https://colab.research.google.com/github/thefr33radical/codeblue/blob/master/algo_ds/dynamic_prog.ipynb\" target=\"_parent\"><img src=\"https://colab.research.google.com/assets/colab-badge.svg\" alt=\"Open In Colab\"/></a>"
      ]
    },
    {
      "cell_type": "code",
      "metadata": {
        "id": "mPdnD1pd1dqS",
        "colab_type": "code",
        "colab": {}
      },
      "source": [
        "# Ugly numbers\n",
        "\n"
      ],
      "execution_count": 0,
      "outputs": []
    },
    {
      "cell_type": "code",
      "metadata": {
        "id": "qfFd-T3yb58l",
        "colab_type": "code",
        "outputId": "eb920661-ee14-4b3a-b019-cb9d8eb880fa",
        "colab": {
          "base_uri": "https://localhost:8080/",
          "height": 52
        }
      },
      "source": [
        "\"\"\"\n",
        " Longest Common Subsequence\n",
        "\n",
        "Naive : \n",
        "T(C)=\n",
        "    O(2^N) Occurs when there are no matching substrings of equal length\n",
        "    Best(min(M,N)) when every subsequent string matches, M, N is length of the strings\n",
        "\n",
        "DP  :\n",
        "T(C) =\n",
        "    O(MN)\n",
        "    where M = length of string1, N = length of string2 \n",
        "\"\"\"\n",
        "# -----------------------------------NAIVE METHOD-----------------------------------------------------\n",
        "\n",
        "def naiveLCS(str1,str2,i,j):\n",
        "  \"\"\"\n",
        "  Naive LCS Algorithm\n",
        "  \"\"\"\n",
        "  if i==-1 or j==-1:\n",
        "    return 0\n",
        "\n",
        "  if str1[i]==str2[j]:\n",
        "    return 1+naiveLCS(str1,str2,i-1,j-1)\n",
        "  else:\n",
        "    return max( naiveLCS(str1,str2,i-1,j),naiveLCS(str1,str2,i,j-1))\n",
        "\n",
        "# -------------------------------------- DP --------------------------------------------------\n",
        "\n",
        "def LCS(str1,str2):\n",
        "  m=len(str1)\n",
        "  n=len(str2)\n",
        "\n",
        "#Construct LCS matrix\n",
        "  mat=[0]*(m+1)\n",
        "  for i in range(len(mat)):\n",
        "    mat[i]=[0]*(n+1)\n",
        "\n",
        "# Core LCS algorithm \n",
        "  for i in range(1,m+1):\n",
        "    for j in range(1,n+1):\n",
        "\n",
        "      # if both the letters in the string match\n",
        "      if str1[i-1]==str2[j-1]:\n",
        "        mat[i][j]=mat[i-1][j-1]+1\n",
        "      # if there is a mismatch of letters\n",
        "      else:\n",
        "        mat[i][j]=max(mat[i-1][j],mat[i][j-1])\n",
        "  return mat[m][n]\n",
        "\n",
        "X = \"abcob\"\n",
        "Y = \"bcccb\"\n",
        "print(\"NAIVE\",naiveLCS(X,Y,len(X)-1,len(Y)-1))\n",
        "print(\"LCS\",LCS(X,Y))"
      ],
      "execution_count": 19,
      "outputs": [
        {
          "output_type": "stream",
          "text": [
            "NAIVE 3\n",
            "LCS 3\n"
          ],
          "name": "stdout"
        }
      ]
    },
    {
      "cell_type": "code",
      "metadata": {
        "id": "BrFHDyxEFyOL",
        "colab_type": "code",
        "outputId": "02c38f47-f4d9-4f75-f563-ef1c3a55b31b",
        "colab": {
          "base_uri": "https://localhost:8080/",
          "height": 52
        }
      },
      "source": [
        "#min cost path\n",
        "\n",
        "\n",
        "\n",
        "def  mincost(graph,start=None,end=None):\n",
        "  \"\"\"\n",
        "  graph : matrix\n",
        "  start : starting cell\n",
        "  end : end cell\n",
        "  \"\"\"\n",
        "\n",
        "  # Construct Path matrix\n",
        "  pathmatrix=[0]*len(graph)\n",
        "  for i in range(len(pathmatrix)):\n",
        "    pathmatrix[i]=[0]*len(graph[i])\n",
        "\n",
        "\n",
        "  for i in range(1,len(pathmatrix)):\n",
        "    pathmatrix[i][0]=pathmatrix[i-1][0]+graph[i-1][0]\n",
        "\n",
        "  for i in range(1,len(pathmatrix[0])):\n",
        "    pathmatrix[0][i]=pathmatrix[0][i-1]+graph[0][i-1]\n",
        "\n",
        "  print(pathmatrix)\n",
        "  # compute min cost path\n",
        "  for i in range(1,len(pathmatrix)):\n",
        "    for j in range(1,len(pathmatrix[i])):\n",
        "      pathmatrix[i][j]=min(pathmatrix[i-1][j],pathmatrix[i][j-1])+cost[i][j]\n",
        "  print(pathmatrix)\n",
        "\n",
        "cost= [ [1, 2, 3], \n",
        "        [4, 8, 2], \n",
        "        [-11, -15, 3] ]\n",
        "  \n",
        "mincost(cost)"
      ],
      "execution_count": 0,
      "outputs": [
        {
          "output_type": "stream",
          "text": [
            "[[0, 1, 3], [1, 0, 0], [5, 0, 0]]\n",
            "[[0, 1, 3], [1, 9, 5], [5, -10, -7]]\n"
          ],
          "name": "stdout"
        }
      ]
    },
    {
      "cell_type": "code",
      "metadata": {
        "id": "1Uc3XpXxo4j1",
        "colab_type": "code",
        "colab": {}
      },
      "source": [
        "'''\n",
        "0/1 KNAPSACK\n",
        "\n",
        "\n",
        "\n",
        "'''"
      ],
      "execution_count": 0,
      "outputs": []
    },
    {
      "cell_type": "code",
      "metadata": {
        "id": "kaztif_6o5dq",
        "colab_type": "code",
        "colab": {
          "base_uri": "https://localhost:8080/",
          "height": 34
        },
        "outputId": "1f7eeb86-7b63-4870-ac59-ef3223bab2c8"
      },
      "source": [
        "\"\"\"\n",
        "LARGEST SUBARRAY SUM\n",
        "\n",
        "Naive : \n",
        "T(C)=\n",
        "    O(N^3) Loop\n",
        "\n",
        "DP  :\n",
        "T(C) =\n",
        "    O(MN)\n",
        "    where M = length of string1, N = length of string2 \n",
        "\n",
        "\"\"\"\n",
        "\n",
        "def sum_arr(a,start,end,count):\n",
        "  \n",
        "  s=0\n",
        "  for i in range(start,end):\n",
        "    count+=1\n",
        "    s+=a[i]\n",
        "  return s,count\n",
        "\n",
        "def naive_ls(a):\n",
        "  maximum=0\n",
        "  count=0\n",
        "  for size in range(len(a)):\n",
        "    start=0\n",
        "    end=start+size\n",
        "    \n",
        "    while end<len(a):\n",
        "      count+=1\n",
        "      \n",
        "      t,count = sum_arr(a,start,end+1,count)\n",
        "      #print(a[start:end+1],t)\n",
        "      if  t> maximum:\n",
        "        maximum=t\n",
        "      start+=1\n",
        "      end+=1\n",
        "\n",
        "  print(\"Maximum Sum :\",maximum,\" LOOP Execution : \",(count))\n",
        "\n",
        "# ------------------------------------------DP (KADANE)----------------------------------------------\n",
        "\n",
        "\n",
        "a = [13, -3, -2,15,10,1]\n",
        "naive_ls(a)"
      ],
      "execution_count": 50,
      "outputs": [
        {
          "output_type": "stream",
          "text": [
            "Maximum Sum : 34  LOOP Execution :  77\n"
          ],
          "name": "stdout"
        }
      ]
    }
  ]
}