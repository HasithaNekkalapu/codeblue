{
  "nbformat": 4,
  "nbformat_minor": 0,
  "metadata": {
    "colab": {
      "name": "graphs_trees.ipynb",
      "provenance": [],
      "authorship_tag": "ABX9TyMz6nx296zGu+wk+KWNobe5",
      "include_colab_link": true
    },
    "kernelspec": {
      "name": "python3",
      "display_name": "Python 3"
    }
  },
  "cells": [
    {
      "cell_type": "markdown",
      "metadata": {
        "id": "view-in-github",
        "colab_type": "text"
      },
      "source": [
        "<a href=\"https://colab.research.google.com/github/thefr33radical/codeblue/blob/master/algo_ds/graphs_trees.ipynb\" target=\"_parent\"><img src=\"https://colab.research.google.com/assets/colab-badge.svg\" alt=\"Open In Colab\"/></a>"
      ]
    },
    {
      "cell_type": "code",
      "metadata": {
        "id": "oMphfH-5_eG1",
        "colab_type": "code",
        "colab": {
          "base_uri": "https://localhost:8080/",
          "height": 35
        },
        "outputId": "ffdb45a6-7b0e-4753-b2fd-26c7aa84baf6"
      },
      "source": [
        "# Find the maximum width of the tree\n",
        "# https://www.geeksforgeeks.org/height-generic-tree-parent-array/\n",
        "\n",
        "def find_max_width(graph):\n",
        "  pass\n",
        "parent = [-1, 0, 0, 0, 3, 1, 1, 2]\n",
        "tree={}\n",
        "# construct tree\n",
        "for p in range(len(parent)+1):\n",
        "  tree[p]=[]\n",
        "\n",
        "for p in range(len(parent)):\n",
        "  if parent[p]==-1:\n",
        "    continue\n",
        "  tree[parent[p]].append(p)\n",
        "    \n",
        "print(tree)"
      ],
      "execution_count": 11,
      "outputs": [
        {
          "output_type": "stream",
          "text": [
            "{0: [1, 2, 3], 1: [5, 6], 2: [7], 3: [4], 4: [], 5: [], 6: [], 7: [], 8: []}\n"
          ],
          "name": "stdout"
        }
      ]
    }
  ]
}