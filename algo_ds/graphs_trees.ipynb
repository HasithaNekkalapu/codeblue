{
  "nbformat": 4,
  "nbformat_minor": 0,
  "metadata": {
    "colab": {
      "name": "graphs_trees.ipynb",
      "provenance": [],
      "authorship_tag": "ABX9TyNi7IHNIGZGhpi+y0XWv62A",
      "include_colab_link": true
    },
    "kernelspec": {
      "name": "python3",
      "display_name": "Python 3"
    }
  },
  "cells": [
    {
      "cell_type": "markdown",
      "metadata": {
        "id": "view-in-github",
        "colab_type": "text"
      },
      "source": [
        "<a href=\"https://colab.research.google.com/github/thefr33radical/codeblue/blob/master/algo_ds/graphs_trees.ipynb\" target=\"_parent\"><img src=\"https://colab.research.google.com/assets/colab-badge.svg\" alt=\"Open In Colab\"/></a>"
      ]
    },
    {
      "cell_type": "code",
      "metadata": {
        "id": "oMphfH-5_eG1",
        "colab_type": "code",
        "outputId": "ffdb45a6-7b0e-4753-b2fd-26c7aa84baf6",
        "colab": {
          "base_uri": "https://localhost:8080/",
          "height": 35
        }
      },
      "source": [
        "# Find the maximum width of the tree\n",
        "# https://www.geeksforgeeks.org/height-generic-tree-parent-array/\n",
        "\n",
        "def find_max_width(graph):\n",
        "  pass\n",
        "parent = [-1, 0, 0, 0, 3, 1, 1, 2]\n",
        "tree={}\n",
        "# construct tree\n",
        "for p in range(len(parent)+1):\n",
        "  tree[p]=[]\n",
        "\n",
        "for p in range(len(parent)):\n",
        "  if parent[p]==-1:\n",
        "    continue\n",
        "  tree[parent[p]].append(p)\n",
        "    \n",
        "print(tree)"
      ],
      "execution_count": 0,
      "outputs": [
        {
          "output_type": "stream",
          "text": [
            "{0: [1, 2, 3], 1: [5, 6], 2: [7], 3: [4], 4: [], 5: [], 6: [], 7: [], 8: []}\n"
          ],
          "name": "stdout"
        }
      ]
    },
    {
      "cell_type": "markdown",
      "metadata": {
        "id": "RFQoHw2WDM38",
        "colab_type": "text"
      },
      "source": [
        "#SHORTEST PATH ALGORITHMS\n",
        "\n",
        "* Unweighted -> **BFS**                                           T(C) = O(E+V)\n",
        "* Weighted without negative edges -> **Dijstra's**                T(C)=O(ElogV)\n",
        "* Weighted with negative edges -> **Bellman**                    T(C)=O(V-1 X E)\n"
      ]
    },
    {
      "cell_type": "code",
      "metadata": {
        "id": "xLZYPVq8sZDE",
        "colab_type": "code",
        "colab": {}
      },
      "source": [
        "'''\n",
        "Bellman-Ford Algorithm\n",
        "\n",
        "* Used to find the distance between source node and all other other nodes.\n",
        "* Shortest path cannot be found if there is a -ve CYCLE.\n",
        "* Dynamic Programming concept\n",
        "* T(C) = O(V X E)\n",
        "* Disadvantage : Time complexity is higher than Dijkstras ALgo T(C)= VLogV\n",
        "* Advantage : Can be used for graph with negative edge. \n",
        "\n",
        "Algorithm :\n",
        "1. Create Edge list(u,v,wt)\n",
        "2. Create dist[] & parent[]\n",
        "3. For V-1 times :\n",
        "      for u,v in edglist:\n",
        "        Relax(u,v) \n",
        "4. for u,v in edgelist:\n",
        "        Relax_final(u,v)  \n",
        "\n",
        "Relax(u,v):\n",
        "  if dist[v] > dist[u]+wt(u,v):\n",
        "    dist[v] = dist[u]+wt(u,v)\n",
        "    parent[v]=u\n",
        "\n",
        "Relax_final(u,v):\n",
        "  if dist[v] > dist[u]+wt(u,v)\n",
        "    =>negative CYCLE\n",
        "\n",
        "* Why we loop V-1 times ? Any node can be traversed in max V-1 time(tree property)\n",
        "* Why we do Vth relaxation ? To find negative CYCLE. If the dist[v] decreses on this iteration there is a -edge, shortest path cannot be found.\n",
        "\n",
        "References:\n",
        "* https://en.wikipedia.org/wiki/Bellman%E2%80%93Ford_algorithm\n",
        "* https://www.youtube.com/watch?v=-mOEd_3gTK0\n",
        "* https://www.geeksforgeeks.org/bellman-ford-algorithm-simple-implementation/\n",
        "* https://www.geeksforgeeks.org/bellman-ford-algorithm-dp-23/\n",
        "\n",
        "'''\n",
        "\n",
        "G={'A':[('B',-1),('C',4)],'B':[('C',3),('D',2),('E',2)],'C':[],'D':[('B',1),('C',5)],'E':[('D',-3)]}\n",
        "\n",
        "def bellman_ford(G,src):\n",
        "  \n",
        "  # Create edges list and create distance array, parent array for each node\n",
        "  edges=[]\n",
        "  dist={}\n",
        "  parent={}\n",
        "\n",
        "  for vertex in G:\n",
        "    dist[vertex]=999\n",
        "    parent[vertex]=0\n",
        "\n",
        "    for e in G[vertex]:\n",
        "      edges.append((vertex,e[0],e[1]))\n",
        "\n",
        "  dist[src]=0\n",
        "\n",
        "  # Repeat V-1 times, since by tree property it takes max V-1 times to reach any node \n",
        "  for vertex in range(len(G)-1):\n",
        "    for ed in edges:\n",
        "      # Relax(u,v)\n",
        "      u=ed[0]\n",
        "      v=ed[1]\n",
        "      wt=ed[2]\n",
        "\n",
        "      # if dist[v] > dist[u]+ edge(u,v) assign to dist[v]\n",
        "      if dist[v] > dist[u] + ed[2]:\n",
        "        dist[v]=dist[u]+ed[2]\n",
        "        parent[v]=u\n",
        "\n",
        "  # Relax_final to check for \n",
        "  for ed in edges:\n",
        "    u=ed[0]\n",
        "    v=ed[1]\n",
        "    wt=ed[2]\n",
        "\n",
        "    if dist[v] > dist[u]+wt:\n",
        "      print(\"Negative Cycle Found\")\n",
        "      break\n",
        "\n",
        "  print('parent graph :',parent,'\\nDistance graph:',dist)\n",
        "\n",
        "bellman_ford(G,'A')"
      ],
      "execution_count": 0,
      "outputs": []
    },
    {
      "cell_type": "code",
      "metadata": {
        "id": "BDsTIQb4sf5z",
        "colab_type": "code",
        "colab": {}
      },
      "source": [
        "'''\n",
        "Dijkstras Algorithm\n",
        "'''\n",
        "\n"
      ],
      "execution_count": 0,
      "outputs": []
    },
    {
      "cell_type": "code",
      "metadata": {
        "id": "UluFM6lpwogb",
        "colab_type": "code",
        "colab": {}
      },
      "source": [
        "''''\n",
        " Closeness Centrality\n",
        "\n",
        "* Closeness centrality measures the inverse distance between the node and all other nodes. \n",
        "It is defined as the reciprocal (sum/avg of distance between the node and all other nodes)\n",
        "For disconnected graphs : sum of (reciprocal of distances between the node and all other nodes)\n",
        "\n",
        "# https://en.wikipedia.org/wiki/Closeness_centrality.\n",
        "\n"
      ],
      "execution_count": 0,
      "outputs": []
    },
    {
      "cell_type": "code",
      "metadata": {
        "id": "4jdKIGso1UZT",
        "colab_type": "code",
        "colab": {}
      },
      "source": [
        "'''\n",
        "Prims Algorithm\n",
        "'''"
      ],
      "execution_count": 0,
      "outputs": []
    },
    {
      "cell_type": "code",
      "metadata": {
        "id": "1m5XffoX1awe",
        "colab_type": "code",
        "colab": {}
      },
      "source": [
        "''' \n",
        "Kruskal's Algorithm\n",
        "'''"
      ],
      "execution_count": 0,
      "outputs": []
    },
    {
      "cell_type": "code",
      "metadata": {
        "id": "LDABFnbuPJqe",
        "colab_type": "code",
        "colab": {}
      },
      "source": [
        ""
      ],
      "execution_count": 0,
      "outputs": []
    }
  ]
}