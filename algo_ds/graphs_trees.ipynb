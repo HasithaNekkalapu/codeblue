{
  "nbformat": 4,
  "nbformat_minor": 0,
  "metadata": {
    "colab": {
      "name": "graphs_trees.ipynb",
      "provenance": [],
      "authorship_tag": "ABX9TyOsUu0GGedxLbdsbvOIPdtd",
      "include_colab_link": true
    },
    "kernelspec": {
      "name": "python3",
      "display_name": "Python 3"
    }
  },
  "cells": [
    {
      "cell_type": "markdown",
      "metadata": {
        "id": "view-in-github",
        "colab_type": "text"
      },
      "source": [
        "<a href=\"https://colab.research.google.com/github/thefr33radical/codeblue/blob/master/algo_ds/graphs_trees.ipynb\" target=\"_parent\"><img src=\"https://colab.research.google.com/assets/colab-badge.svg\" alt=\"Open In Colab\"/></a>"
      ]
    },
    {
      "cell_type": "code",
      "metadata": {
        "id": "oMphfH-5_eG1",
        "colab_type": "code",
        "outputId": "ffdb45a6-7b0e-4753-b2fd-26c7aa84baf6",
        "colab": {
          "base_uri": "https://localhost:8080/",
          "height": 35
        }
      },
      "source": [
        "# Find the maximum width of the tree\n",
        "# https://www.geeksforgeeks.org/height-generic-tree-parent-array/\n",
        "\n",
        "def find_max_width(graph):\n",
        "  pass\n",
        "parent = [-1, 0, 0, 0, 3, 1, 1, 2]\n",
        "tree={}\n",
        "# construct tree\n",
        "for p in range(len(parent)+1):\n",
        "  tree[p]=[]\n",
        "\n",
        "for p in range(len(parent)):\n",
        "  if parent[p]==-1:\n",
        "    continue\n",
        "  tree[parent[p]].append(p)\n",
        "    \n",
        "print(tree)"
      ],
      "execution_count": 0,
      "outputs": [
        {
          "output_type": "stream",
          "text": [
            "{0: [1, 2, 3], 1: [5, 6], 2: [7], 3: [4], 4: [], 5: [], 6: [], 7: [], 8: []}\n"
          ],
          "name": "stdout"
        }
      ]
    },
    {
      "cell_type": "code",
      "metadata": {
        "id": "UluFM6lpwogb",
        "colab_type": "code",
        "colab": {}
      },
      "source": [
        "''''\n",
        " Closeness Centrality\n",
        "\n",
        "* Closeness centrality measures the inverse distance between the node and all other nodes. \n",
        "It is defined as the reciprocal (sum/avg of distance between the node and all other nodes)\n",
        "For disconnected graphs : sum of (reciprocal of distances between the node and all other nodes)\n",
        "\n",
        "# https://en.wikipedia.org/wiki/Closeness_centrality.\n",
        "\n"
      ],
      "execution_count": 0,
      "outputs": []
    }
  ]
}