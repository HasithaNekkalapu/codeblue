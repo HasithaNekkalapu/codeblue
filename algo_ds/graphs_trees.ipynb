{
  "nbformat": 4,
  "nbformat_minor": 0,
  "metadata": {
    "colab": {
      "name": "graphs_trees.ipynb",
      "provenance": [],
      "authorship_tag": "ABX9TyMqm1IrZ3wd0NagfZUC3Lc0",
      "include_colab_link": true
    },
    "kernelspec": {
      "name": "python3",
      "display_name": "Python 3"
    }
  },
  "cells": [
    {
      "cell_type": "markdown",
      "metadata": {
        "id": "view-in-github",
        "colab_type": "text"
      },
      "source": [
        "<a href=\"https://colab.research.google.com/github/thefr33radical/codeblue/blob/master/algo_ds/graphs_trees.ipynb\" target=\"_parent\"><img src=\"https://colab.research.google.com/assets/colab-badge.svg\" alt=\"Open In Colab\"/></a>"
      ]
    },
    {
      "cell_type": "markdown",
      "metadata": {
        "id": "l1TSIh5blhjB",
        "colab_type": "text"
      },
      "source": [
        " # **Graphs & Trees Workbook**\n",
        "\n",
        "---\n",
        "\n",
        "\n",
        "\n",
        "\n",
        "> **References**\n",
        "  * [Networkx](https://networkx.github.io/documentation/stable/reference/algorithms/)\n",
        "  * [GeeksforGeeks](https://www.geeksforgeeks.org/graph-data-structure-and-algorithms/)"
      ]
    },
    {
      "cell_type": "code",
      "metadata": {
        "id": "oMphfH-5_eG1",
        "colab_type": "code",
        "outputId": "ffdb45a6-7b0e-4753-b2fd-26c7aa84baf6",
        "colab": {
          "base_uri": "https://localhost:8080/",
          "height": 35
        }
      },
      "source": [
        "# Find the maximum width of the tree\n",
        "# https://www.geeksforgeeks.org/height-generic-tree-parent-array/\n",
        "\n",
        "def find_max_width(graph):\n",
        "  pass\n",
        "parent = [-1, 0, 0, 0, 3, 1, 1, 2]\n",
        "tree={}\n",
        "# construct tree\n",
        "for p in range(len(parent)+1):\n",
        "  tree[p]=[]\n",
        "\n",
        "for p in range(len(parent)):\n",
        "  if parent[p]==-1:\n",
        "    continue\n",
        "  tree[parent[p]].append(p)\n",
        "    \n",
        "print(tree)"
      ],
      "execution_count": 0,
      "outputs": [
        {
          "output_type": "stream",
          "text": [
            "{0: [1, 2, 3], 1: [5, 6], 2: [7], 3: [4], 4: [], 5: [], 6: [], 7: [], 8: []}\n"
          ],
          "name": "stdout"
        }
      ]
    },
    {
      "cell_type": "markdown",
      "metadata": {
        "id": "RFQoHw2WDM38",
        "colab_type": "text"
      },
      "source": [
        "#SHORTEST PATH ALGORITHMS\n",
        "\n",
        "*Best Algorithms to use to find shortest paths*\n",
        "* Unweighted -> **BFS**                                           T(C) = O(E+V)\n",
        "* Weighted without negative edges -> **Dijstra's**                T(C)=O(ElogV)\n",
        "* Weighted with negative edges -> **Bellman**                    T(C)=O(V-1 X E)\n"
      ]
    },
    {
      "cell_type": "code",
      "metadata": {
        "id": "xLZYPVq8sZDE",
        "colab_type": "code",
        "colab": {}
      },
      "source": [
        "'''\n",
        "Bellman-Ford Algorithm\n",
        "\n",
        "* Used to find the distance between source node and all other other nodes.\n",
        "* Shortest path cannot be found if there is a -ve CYCLE.\n",
        "* Dynamic Programming concept\n",
        "* T(C) = O(V X E)\n",
        "* Disadvantage : Time complexity is higher than Dijkstras ALgo T(C)= VLogV\n",
        "* Advantage : Can be used for graph with negative edge. \n",
        "\n",
        "Algorithm :\n",
        "1. Create Edge list(u,v,wt)\n",
        "2. Create dist[] & parent[]\n",
        "3. For V-1 times :\n",
        "      for u,v in edglist:\n",
        "        Relax(u,v) \n",
        "4. for u,v in edgelist:\n",
        "        Relax_final(u,v)  \n",
        "\n",
        "Relax(u,v):\n",
        "  if dist[v] > dist[u]+wt(u,v):\n",
        "    dist[v] = dist[u]+wt(u,v)\n",
        "    parent[v]=u\n",
        "\n",
        "Relax_final(u,v):\n",
        "  if dist[v] > dist[u]+wt(u,v)\n",
        "    =>negative CYCLE\n",
        "\n",
        "* Why we loop V-1 times ? Any node can be traversed in max V-1 time(tree property)\n",
        "* Why we do Vth relaxation ? To find negative CYCLE. If the dist[v] decreses on this iteration there is a -edge, shortest path cannot be found.\n",
        "\n",
        "References:\n",
        "* https://en.wikipedia.org/wiki/Bellman%E2%80%93Ford_algorithm\n",
        "* https://www.youtube.com/watch?v=-mOEd_3gTK0\n",
        "* https://www.geeksforgeeks.org/bellman-ford-algorithm-simple-implementation/\n",
        "* https://www.geeksforgeeks.org/bellman-ford-algorithm-dp-23/\n",
        "\n",
        "'''\n",
        "\n",
        "G={'A':[('B',-1),('C',4)],'B':[('C',3),('D',2),('E',2)],'C':[],'D':[('B',1),('C',5)],'E':[('D',-3)]}\n",
        "\n",
        "def bellman_ford(G,src):\n",
        "  \n",
        "  # Create edges list and create distance array, parent array for each node\n",
        "  edges=[]\n",
        "  dist={}\n",
        "  parent={}\n",
        "\n",
        "  for vertex in G:\n",
        "    dist[vertex]=999\n",
        "    parent[vertex]=0\n",
        "\n",
        "    for e in G[vertex]:\n",
        "      edges.append((vertex,e[0],e[1]))\n",
        "\n",
        "  dist[src]=0\n",
        "\n",
        "  # Repeat V-1 times, since by tree property it takes max V-1 times to reach any node \n",
        "  for vertex in range(len(G)-1):\n",
        "    for ed in edges:\n",
        "      # Relax(u,v)\n",
        "      u=ed[0]\n",
        "      v=ed[1]\n",
        "      wt=ed[2]\n",
        "\n",
        "      # if dist[v] > dist[u]+ edge(u,v) assign to dist[v]\n",
        "      if dist[v] > dist[u] + ed[2]:\n",
        "        dist[v]=dist[u]+ed[2]\n",
        "        parent[v]=u\n",
        "\n",
        "  # Relax_final to check for \n",
        "  for ed in edges:\n",
        "    u=ed[0]\n",
        "    v=ed[1]\n",
        "    wt=ed[2]\n",
        "\n",
        "    if dist[v] > dist[u]+wt:\n",
        "      print(\"Negative Cycle Found\")\n",
        "      break\n",
        "\n",
        "  print('parent graph :',parent,'\\nDistance graph:',dist)\n",
        "\n",
        "bellman_ford(G,'A')"
      ],
      "execution_count": 0,
      "outputs": []
    },
    {
      "cell_type": "code",
      "metadata": {
        "id": "BDsTIQb4sf5z",
        "colab_type": "code",
        "colab": {}
      },
      "source": [
        "'''\n",
        "Dijkstras Algorithm\n",
        "\n",
        "\n",
        "Algorithm:\n",
        "\n",
        "1. Initialize vist & dist array to inf\n",
        "2. initialize binary heap(v,dist) to inf\n",
        "3. atart with visit[src]=T, dist[src]=0, insert binary heap(src,0)\n",
        "4. while binary heap is not empty:\n",
        "      v =extract_min_dist(binary_heap)\n",
        "      add all adjacent vertices to heap with corresponding dist\n",
        "      if dist[v] < dist[u]+adj_dist\n",
        "          update dist[v]\n",
        "          update parent[v]\n",
        "\n",
        "'''\n",
        "\n"
      ],
      "execution_count": 0,
      "outputs": []
    },
    {
      "cell_type": "code",
      "metadata": {
        "id": "4jdKIGso1UZT",
        "colab_type": "code",
        "colab": {}
      },
      "source": [
        "'''\n",
        "Prims Algorithm\n",
        "'''"
      ],
      "execution_count": 0,
      "outputs": []
    },
    {
      "cell_type": "code",
      "metadata": {
        "id": "1m5XffoX1awe",
        "colab_type": "code",
        "colab": {}
      },
      "source": [
        "''' \n",
        "Kruskal's Algorithm\n",
        "'''"
      ],
      "execution_count": 0,
      "outputs": []
    },
    {
      "cell_type": "code",
      "metadata": {
        "id": "LDABFnbuPJqe",
        "colab_type": "code",
        "colab": {}
      },
      "source": [
        ""
      ],
      "execution_count": 0,
      "outputs": []
    },
    {
      "cell_type": "markdown",
      "metadata": {
        "id": "09Qhepq-iwob",
        "colab_type": "text"
      },
      "source": [
        "# **Traversals**\n",
        "\n",
        "* BFS\n",
        "* DFS\n",
        "* Beam Search\n",
        "* A*\n",
        "* Informed Search/Best First Search"
      ]
    },
    {
      "cell_type": "code",
      "metadata": {
        "id": "_Vevj_oMih53",
        "colab_type": "code",
        "colab": {}
      },
      "source": [
        "'''\n",
        "\n",
        "\n",
        "'''\n"
      ],
      "execution_count": 0,
      "outputs": []
    },
    {
      "cell_type": "code",
      "metadata": {
        "id": "EgVe5h-vq0Y0",
        "colab_type": "code",
        "colab": {}
      },
      "source": [
        ""
      ],
      "execution_count": 0,
      "outputs": []
    },
    {
      "cell_type": "markdown",
      "metadata": {
        "id": "xWmJs4Yai3hw",
        "colab_type": "text"
      },
      "source": [
        "# **Distance Measures**"
      ]
    },
    {
      "cell_type": "code",
      "metadata": {
        "id": "E0Tzx9P0hBui",
        "colab_type": "code",
        "colab": {}
      },
      "source": [
        "'''\n",
        "\n",
        "\n",
        "barycenter(G[, weight, attr, sp]) Calculate barycenter of a connected graph, optionally with edge weights.\n",
        "center(G[, e, usebounds]) Returns the center of the graph G.\n",
        "Diameter : the diameter of a graph is the maximum distance between pair of vertices in a graph. Also called Eccentricity.\n",
        "Center of a graph : The node whose diameter/eccentricity is minimum.\n",
        "extrema_bounding(G[, compute]) Compute requested extreme distance metric of undirected graph G\n",
        "periphery(G[, e, usebounds]) Returns the periphery of the graph G.\n",
        "radius(G[, e, usebounds]) Returns the radius of the graph G.\n",
        "resistance_distance(G, nodeA, nodeB[, …]) Returns the resistance distance between node A and node B on graph G.\n",
        "Network Denisty :The number of edges a graph has. Complete graph has ND=1, Empty graph has ND=0.\n",
        "\n",
        "References:\n",
        "* https://www.geeksforgeeks.org/graph-measurements-length-distance-diameter-eccentricity-radius-center/\n",
        "* https://www.tutorialspoint.com/graph_theory/graph_theory_basic_properties.htm\n",
        "'''"
      ],
      "execution_count": 0,
      "outputs": []
    },
    {
      "cell_type": "markdown",
      "metadata": {
        "id": "wyAdxZbNjNlZ",
        "colab_type": "text"
      },
      "source": [
        "# **Similarity Measures**"
      ]
    },
    {
      "cell_type": "code",
      "metadata": {
        "id": "dZsuERQgjYF2",
        "colab_type": "code",
        "colab": {}
      },
      "source": [
        "'''\n",
        "graph_edit_distance(G1, G2[, node_match, …])\n",
        "\n",
        "Returns GED (graph edit distance) between graphs G1 and G2.\n",
        "\n",
        "optimal_edit_paths(G1, G2[, node_match, …])\n",
        "\n",
        "Returns all minimum-cost edit paths transforming G1 to G2.\n",
        "\n",
        "optimize_graph_edit_distance(G1, G2[, …])\n",
        "\n",
        "Returns consecutive approximations of GED (graph edit distance) between graphs G1 and G2.\n",
        "\n",
        "optimize_edit_paths(G1, G2[, node_match, …])\n",
        "\n",
        "GED (graph edit distance) calculation: advanced interface.\n",
        "\n",
        "simrank_similarity(G[, source, target, …])\n",
        "\n",
        "Returns the SimRank similarity of nodes in the graph G.\n",
        "\n",
        "simrank_similarity_numpy(G[, source, …])\n",
        "\n",
        "Calculate SimRank of nodes in G using matrices with numpy.'''"
      ],
      "execution_count": 0,
      "outputs": []
    },
    {
      "cell_type": "markdown",
      "metadata": {
        "id": "9QxQWSJWkcdg",
        "colab_type": "text"
      },
      "source": [
        "# Centrality\n",
        "\n",
        "#### References\n",
        " * [Betweeness](https://www.analyticsvidhya.com/blog/2018/04/introduction-to-graph-theory-network-analysis-python-codes/)\n",
        " * [Closeness](https://en.wikipedia.org/wiki/Closeness_centrality)"
      ]
    },
    {
      "cell_type": "code",
      "metadata": {
        "id": "UluFM6lpwogb",
        "colab_type": "code",
        "colab": {}
      },
      "source": [
        "'''\n",
        " Closeness Centrality\n",
        "\n",
        "* Closeness centrality measures the inverse distance between the node and all other nodes. \n",
        "It is defined as the reciprocal (sum/avg of distance between the node and all other nodes)\n",
        "For disconnected graphs : sum of (reciprocal of distances between the node and all other nodes)\n",
        "* Its the average of the shortest path from the node to all other nodes.\n",
        "\n",
        "# \n",
        "\n",
        "'''\n",
        "\n"
      ],
      "execution_count": 0,
      "outputs": []
    },
    {
      "cell_type": "code",
      "metadata": {
        "id": "7S7rZm4tD6_p",
        "colab_type": "code",
        "colab": {}
      },
      "source": [
        "'''\n",
        "Betweeness Centrality:\n",
        "* The number of times a node occurs between shortest path of all other nodes.\n",
        "\n",
        "References:\n",
        "* https://www.analyticsvidhya.com/blog/2018/04/introduction-to-graph-theory-network-analysis-python-codes/\n",
        "\n",
        "\n",
        "'''"
      ],
      "execution_count": 0,
      "outputs": []
    },
    {
      "cell_type": "code",
      "metadata": {
        "id": "yuwLtf91Q1mt",
        "colab_type": "code",
        "colab": {}
      },
      "source": [
        "'''\n",
        "Stress Centrality:\n",
        "* The average number of shortest paths passing through the node.\n",
        "\n",
        "References:\n",
        "https://journals.plos.org/plosone/article?id=10.1371/journal.pone.0200091\n",
        "'''"
      ],
      "execution_count": 0,
      "outputs": []
    },
    {
      "cell_type": "markdown",
      "metadata": {
        "id": "Sr_-0SOelERS",
        "colab_type": "text"
      },
      "source": [
        "# Connectivity"
      ]
    },
    {
      "cell_type": "code",
      "metadata": {
        "id": "y4zOwbrOZOZk",
        "colab_type": "code",
        "colab": {}
      },
      "source": [
        "'''\n",
        "Kosraju Algorithm :\n",
        "Strongly connected graph: (Directed)\n",
        "* this applies to directed graph. \n",
        "References :\n",
        "* https://www.geeksforgeeks.org/connectivity-in-a-directed-graph/\n",
        "'''"
      ],
      "execution_count": 0,
      "outputs": []
    },
    {
      "cell_type": "code",
      "metadata": {
        "id": "e6O7qx8Jj9Mm",
        "colab_type": "code",
        "colab": {}
      },
      "source": [
        ""
      ],
      "execution_count": 0,
      "outputs": []
    },
    {
      "cell_type": "markdown",
      "metadata": {
        "id": "PyvJi-aoj5YS",
        "colab_type": "text"
      },
      "source": [
        "#Coloring"
      ]
    },
    {
      "cell_type": "markdown",
      "metadata": {
        "id": "IpspoZb1jxlr",
        "colab_type": "text"
      },
      "source": [
        "# **Link analysis**"
      ]
    },
    {
      "cell_type": "markdown",
      "metadata": {
        "id": "rirfMd7ckgE9",
        "colab_type": "text"
      },
      "source": [
        "# Clustering"
      ]
    },
    {
      "cell_type": "code",
      "metadata": {
        "id": "iPW5U__vkhgn",
        "colab_type": "code",
        "colab": {}
      },
      "source": [
        "# DAG"
      ],
      "execution_count": 0,
      "outputs": []
    },
    {
      "cell_type": "markdown",
      "metadata": {
        "id": "HFnvB7cZp4T-",
        "colab_type": "text"
      },
      "source": [
        ""
      ]
    },
    {
      "cell_type": "code",
      "metadata": {
        "id": "Gk86k_Ljp39d",
        "colab_type": "code",
        "colab": {}
      },
      "source": [
        ""
      ],
      "execution_count": 0,
      "outputs": []
    },
    {
      "cell_type": "markdown",
      "metadata": {
        "id": "lqJ12mMApwzV",
        "colab_type": "text"
      },
      "source": [
        "# **PageRank**"
      ]
    },
    {
      "cell_type": "code",
      "metadata": {
        "id": "1Q8Ct3EcpwRw",
        "colab_type": "code",
        "colab": {}
      },
      "source": [
        ""
      ],
      "execution_count": 0,
      "outputs": []
    }
  ]
}