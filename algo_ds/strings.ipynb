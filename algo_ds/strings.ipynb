{
  "nbformat": 4,
  "nbformat_minor": 0,
  "metadata": {
    "colab": {
      "name": "strings.ipynb",
      "provenance": [],
      "authorship_tag": "ABX9TyO0uhEfPg/b+w5IU/vDMlBf",
      "include_colab_link": true
    },
    "kernelspec": {
      "name": "python3",
      "display_name": "Python 3"
    }
  },
  "cells": [
    {
      "cell_type": "markdown",
      "metadata": {
        "id": "view-in-github",
        "colab_type": "text"
      },
      "source": [
        "<a href=\"https://colab.research.google.com/github/thefr33radical/codeblue/blob/master/algo_ds/strings.ipynb\" target=\"_parent\"><img src=\"https://colab.research.google.com/assets/colab-badge.svg\" alt=\"Open In Colab\"/></a>"
      ]
    },
    {
      "cell_type": "markdown",
      "metadata": {
        "id": "RvLb5jj9V4vx",
        "colab_type": "text"
      },
      "source": [
        "# KMP Algorithm\n",
        "\n"
      ]
    },
    {
      "cell_type": "code",
      "metadata": {
        "id": "zcRrk-T1V1FN",
        "colab_type": "code",
        "colab": {
          "base_uri": "https://localhost:8080/",
          "height": 390
        },
        "outputId": "4b3607db-e6a5-41bb-a619-1781d134814c"
      },
      "source": [
        "\"\"\"\n",
        "KMP Algorithm:\n",
        "* T(C)= O(m+n)\n",
        "* S(C)= O(m)\n",
        "* Knuth-Morris-Pratt\n",
        "\"\"\"\n",
        "\n",
        "text=\"abcdabc\"\n",
        "pattern=\"abc\"\n",
        "\n",
        "def preprocess_pattern(text):\n",
        "  \"\"\"\n",
        "  Function to generate pattern array indicies\n",
        "  \"\"\"\n",
        "  txt_arr=list(text)\n",
        "  print(txt_arr)\n",
        "  store=[0]*len(txt_arr)\n",
        "\n",
        "  i=0\n",
        "  j=1\n",
        "\n",
        "  while j<len(txt_arr):\n",
        "    if txt_arr[i]==txt_arr[j]:\n",
        "      store[j]=j\n",
        "      i+=1\n",
        "      j+=1\n",
        "    else:\n",
        "      if i!=0:\n",
        "        i=store[j-1]\n",
        "      else:\n",
        "        store[j]=0\n",
        "        j+=1\n",
        "  return store\n",
        "\n",
        "def KMP(text,pat):\n",
        "  \"\"\"\n",
        "  KMP algorithm to detect patterns\n",
        "  \"\"\"\n",
        "  store=preprocess_pattern(text)\n",
        "  print(store)\n",
        "  i=0\n",
        "\n",
        "  txt_arr=list(text)\n",
        "  pat_arr=list(pat)\n",
        "\n",
        "  i=0\n",
        "  j=0\n",
        "  while i< len(txt_arr):\n",
        "    if txt_arr[i]==pat_arr[j]:\n",
        "      i+=1\n",
        "      j+=1\n",
        "    if  j<len(pat_arr):\n",
        "      j=store[j-1]\n",
        "      print(i-j)\n",
        "\n",
        "    if txt_arr[i]!=pat_arr[j] and i<len(txt_arr): \n",
        "        if j!=0:\n",
        "          j=store[j-1]\n",
        "        else:\n",
        "          i+=1\n",
        "\n",
        "\n",
        "KMP(text,pattern)\n"
      ],
      "execution_count": 26,
      "outputs": [
        {
          "output_type": "stream",
          "text": [
            "['a', 'b', 'c', 'd', 'a', 'b', 'c']\n",
            "[0, 0, 0, 0, 4, 5, 6]\n",
            "1\n",
            "-4\n"
          ],
          "name": "stdout"
        },
        {
          "output_type": "error",
          "ename": "IndexError",
          "evalue": "ignored",
          "traceback": [
            "\u001b[0;31m---------------------------------------------------------------------------\u001b[0m",
            "\u001b[0;31mIndexError\u001b[0m                                Traceback (most recent call last)",
            "\u001b[0;32m<ipython-input-26-a50e80878eef>\u001b[0m in \u001b[0;36m<module>\u001b[0;34m()\u001b[0m\n\u001b[1;32m     61\u001b[0m \u001b[0;34m\u001b[0m\u001b[0m\n\u001b[1;32m     62\u001b[0m \u001b[0;34m\u001b[0m\u001b[0m\n\u001b[0;32m---> 63\u001b[0;31m \u001b[0mKMP\u001b[0m\u001b[0;34m(\u001b[0m\u001b[0mtext\u001b[0m\u001b[0;34m,\u001b[0m\u001b[0mpattern\u001b[0m\u001b[0;34m)\u001b[0m\u001b[0;34m\u001b[0m\u001b[0;34m\u001b[0m\u001b[0m\n\u001b[0m",
            "\u001b[0;32m<ipython-input-26-a50e80878eef>\u001b[0m in \u001b[0;36mKMP\u001b[0;34m(text, pat)\u001b[0m\n\u001b[1;32m     54\u001b[0m       \u001b[0mprint\u001b[0m\u001b[0;34m(\u001b[0m\u001b[0mi\u001b[0m\u001b[0;34m-\u001b[0m\u001b[0mj\u001b[0m\u001b[0;34m)\u001b[0m\u001b[0;34m\u001b[0m\u001b[0;34m\u001b[0m\u001b[0m\n\u001b[1;32m     55\u001b[0m \u001b[0;34m\u001b[0m\u001b[0m\n\u001b[0;32m---> 56\u001b[0;31m     \u001b[0;32mif\u001b[0m \u001b[0mtxt_arr\u001b[0m\u001b[0;34m[\u001b[0m\u001b[0mi\u001b[0m\u001b[0;34m]\u001b[0m\u001b[0;34m!=\u001b[0m\u001b[0mpat_arr\u001b[0m\u001b[0;34m[\u001b[0m\u001b[0mj\u001b[0m\u001b[0;34m]\u001b[0m \u001b[0;32mand\u001b[0m \u001b[0mi\u001b[0m\u001b[0;34m<\u001b[0m\u001b[0mlen\u001b[0m\u001b[0;34m(\u001b[0m\u001b[0mtxt_arr\u001b[0m\u001b[0;34m)\u001b[0m\u001b[0;34m:\u001b[0m\u001b[0;34m\u001b[0m\u001b[0;34m\u001b[0m\u001b[0m\n\u001b[0m\u001b[1;32m     57\u001b[0m         \u001b[0;32mif\u001b[0m \u001b[0mj\u001b[0m\u001b[0;34m!=\u001b[0m\u001b[0;36m0\u001b[0m\u001b[0;34m:\u001b[0m\u001b[0;34m\u001b[0m\u001b[0;34m\u001b[0m\u001b[0m\n\u001b[1;32m     58\u001b[0m           \u001b[0mj\u001b[0m\u001b[0;34m=\u001b[0m\u001b[0mstore\u001b[0m\u001b[0;34m[\u001b[0m\u001b[0mj\u001b[0m\u001b[0;34m-\u001b[0m\u001b[0;36m1\u001b[0m\u001b[0;34m]\u001b[0m\u001b[0;34m\u001b[0m\u001b[0;34m\u001b[0m\u001b[0m\n",
            "\u001b[0;31mIndexError\u001b[0m: list index out of range"
          ]
        }
      ]
    }
  ]
}