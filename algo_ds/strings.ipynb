{
  "nbformat": 4,
  "nbformat_minor": 0,
  "metadata": {
    "colab": {
      "name": "strings.ipynb",
      "provenance": [],
      "authorship_tag": "ABX9TyPUrmkvA5ZxzL9YlKyEE3yU",
      "include_colab_link": true
    },
    "kernelspec": {
      "name": "python3",
      "display_name": "Python 3"
    }
  },
  "cells": [
    {
      "cell_type": "markdown",
      "metadata": {
        "id": "view-in-github",
        "colab_type": "text"
      },
      "source": [
        "<a href=\"https://colab.research.google.com/github/thefr33radical/codeblue/blob/master/algo_ds/strings.ipynb\" target=\"_parent\"><img src=\"https://colab.research.google.com/assets/colab-badge.svg\" alt=\"Open In Colab\"/></a>"
      ]
    },
    {
      "cell_type": "markdown",
      "metadata": {
        "id": "RvLb5jj9V4vx",
        "colab_type": "text"
      },
      "source": [
        "# KMP Algorithm\n",
        "\n"
      ]
    },
    {
      "cell_type": "code",
      "metadata": {
        "id": "zcRrk-T1V1FN",
        "colab_type": "code",
        "colab": {}
      },
      "source": [
        "text=\"\"\n",
        "pattern=\"\"\n",
        "\n",
        "def preprocess_pattern(text):\n",
        "  \"\"\"\n",
        "  Function to generate pattern array indicies\n",
        "  \"\"\"\n",
        "  txt_arr=text.split()\n",
        "  store=[0]*len(arr)\n",
        "\n",
        "  i=0\n",
        "  j=1\n",
        "\n",
        "  while j<len(txt_arr):\n",
        "    if txt_arr[i]==txt_arr[j]:\n",
        "      store[j]=j\n",
        "      i+=1\n",
        "      j+=1\n",
        "    else:\n",
        "      if i!=0:\n",
        "        i=store[j-1]\n",
        "      else:\n",
        "        store[j]=0\n",
        "        j+=1\n",
        "  return store\n",
        "  \n",
        "\n"
      ],
      "execution_count": null,
      "outputs": []
    }
  ]
}