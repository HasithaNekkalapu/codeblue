{
  "nbformat": 4,
  "nbformat_minor": 0,
  "metadata": {
    "colab": {
      "name": "DE.ipynb",
      "provenance": [],
      "include_colab_link": true
    },
    "kernelspec": {
      "name": "python3",
      "display_name": "Python 3"
    }
  },
  "cells": [
    {
      "cell_type": "markdown",
      "metadata": {
        "id": "view-in-github",
        "colab_type": "text"
      },
      "source": [
        "<a href=\"https://colab.research.google.com/github/thefr33radical/codeblue/blob/master/AI/DE.ipynb\" target=\"_parent\"><img src=\"https://colab.research.google.com/assets/colab-badge.svg\" alt=\"Open In Colab\"/></a>"
      ]
    },
    {
      "cell_type": "code",
      "metadata": {
        "id": "UNhctmGoy5bg",
        "colab_type": "code",
        "colab": {}
      },
      "source": [
        ""
      ],
      "execution_count": 0,
      "outputs": []
    },
    {
      "cell_type": "markdown",
      "metadata": {
        "id": "rjjZKWIOy88d",
        "colab_type": "text"
      },
      "source": [
        "# Parquet\n",
        "\n",
        "[Blog parquet](https://blog.openbridge.com/how-to-be-a-hero-with-powerful-parquet-google-and-amazon-f2ae0f35ee04)\n",
        "\n",
        "# Sqoop \n",
        "\n",
        "# Hive\n",
        "\n",
        "# Hadoop\n",
        "\n",
        "# Dask\n",
        "\n",
        "# Aws EMR\n",
        "\n",
        "#  AWS Athena\n",
        "\n",
        "# AWS Aruora\n",
        "\n",
        "# AWS Redshift Spectrum\n",
        "\n",
        "# Airflow\n",
        "\n"
      ]
    }
  ]
}