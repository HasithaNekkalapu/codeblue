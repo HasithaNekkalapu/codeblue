{
  "nbformat": 4,
  "nbformat_minor": 0,
  "metadata": {
    "colab": {
      "name": "ml_algorithms.ipynb",
      "provenance": [],
      "include_colab_link": true
    },
    "kernelspec": {
      "name": "python3",
      "display_name": "Python 3"
    }
  },
  "cells": [
    {
      "cell_type": "markdown",
      "metadata": {
        "id": "view-in-github",
        "colab_type": "text"
      },
      "source": [
        "<a href=\"https://colab.research.google.com/github/thefr33radical/codeblue/blob/master/AI/ml_algorithms.ipynb\" target=\"_parent\"><img src=\"https://colab.research.google.com/assets/colab-badge.svg\" alt=\"Open In Colab\"/></a>"
      ]
    },
    {
      "cell_type": "code",
      "metadata": {
        "id": "bVd9oDHNqryU",
        "colab_type": "code",
        "colab": {}
      },
      "source": [
        ""
      ],
      "execution_count": 0,
      "outputs": []
    },
    {
      "cell_type": "markdown",
      "metadata": {
        "id": "6k6rWR5UqvZw",
        "colab_type": "text"
      },
      "source": [
        "# KMEANS\n",
        "\n",
        "k-means clustering is a method of vector quantization, originally from signal processing, that is popular for cluster analysis in data mining. k-means clustering aims to partition n observations into k clusters in which each observation belongs to the cluster with the nearest mean, serving as a prototype of the cluster. This results in a partitioning of the data space into Voronoi cells.\n",
        "\n",
        "The problem is computationally difficult (NP-hard); however, efficient heuristic algorithms converge quickly to a local optimum. These are usually similar to the **expectation-maximization algorithm for mixtures of Gaussian distributions** via an iterative refinement approach employed by both k-means and Gaussian mixture modeling. They both use cluster centers to model the data; however, k-means clustering tends to find clusters of comparable spatial extent, while the expectation-maximization mechanism allows clusters to have different shapes.\n",
        "\n",
        "The algorithm has a loose relationship to the k-nearest neighbor classifier, a popular machine learning technique for classification that is often confused with k-means due to the name. Applying the 1-nearest neighbor classifier to the cluster centers obtained by k-means classifies new data into the existing clusters. This is known as nearest centroid classifier or Rocchio algorithm.\n",
        "\n",
        "The term \"k-means\" was first used by **James MacQueen in 1967**,though the idea goes back to Hugo Steinhaus in 1956.The standard algorithm was first proposed by Stuart Lloyd of Bell Labs in 1957 as a technique for pulse-code modulation, though it wasn't published as a journal article until 1982. In 1965, Edward W. Forgy published essentially the same method, which is why it is sometimes referred to as **Lloyd-Forgy**.\n",
        "\n",
        "k-means clustering, and its associated expectation-maximization algorithm, is a special case of a **Gaussian mixture model**, specifically, the limit of taking all covariances as diagonal, equal and small. It is often easy to generalize a k-means problem into a Gaussian mixture model. Another generalization of the k-means algorithm is the **K-SVD algorithm**, which estimates data points as a sparse linear combination of \"codebook vectors\". k-means corresponds to the special case of using a single codebook vector, with a weight of 1.\n",
        "\n",
        "**Assumptions**\n",
        "* A key limitation of k-means is its cluster model. \n",
        "* The concept is based on **spherical clusters** that are separable so that the mean converges towards the cluster center.\n",
        "* The clusters are expected to be of **similar size**, so that the assignment to the nearest cluster center is the correct assignment.\n",
        "\n",
        "**Applications**\n",
        "* k-means clustering is rather easy to apply to even large data sets, particularly when using heuristics such as Lloyd's algorithm. It has been successfully used in market segmentation, computer vision, and astronomy among many other domains. It often is used as a preprocessing step for other algorithms, for example to find a starting configuration.\n",
        "\n",
        "* Vector quantization :\n",
        "k-means originates from signal processing, and still finds use in this domain. For example, in computer graphics, color quantization is the task of reducing the color palette of an image to a fixed number of colors k. The k-means algorithm can easily be used for this task and produces competitive results. A use case for this approach is image segmentation. Other uses of vector quantization include non-random sampling, as k-means can easily be used to choose k different but prototypical objects from a large data set for further analysis.\n",
        "\n",
        "* Cluster analysis :\n",
        "\n",
        "In cluster analysis, the k-means algorithm can be used to partition the input data set into k partitions (clusters).\n",
        "\n",
        "**Advantages** \n",
        "*\n",
        "*\n",
        "*\n",
        "*\n",
        "**Disadvantages**\n",
        "* The pure k-means algorithm is **not very flexible**, and as such is of limited use (except for when vector quantization as above is actually the desired use case). \n",
        "* In particular, the parameter **k is known to be hard to choose** when not given by external constraints. \n",
        "* Another limitation is that it **cannot be used with arbitrary distance** functions \n",
        "* **Cannot be used with non-numerical data.**\n",
        "\n",
        "**Quirks**\n",
        "* The number of clusters k is an input parameter: an inappropriate choice of k may yield poor results. That is why, when performing k-means, it is important to run diagnostic checks for determining the number of clusters in the data set.\n",
        "\n",
        "### Refereces\n",
        "\n",
        "* Kneedle : https://raghavan.usc.edu//papers/kneedle-simplex11.pdf\n",
        "* Theory : https://towardsdatascience.com/k-means-clustering-algorithm-applications-evaluation-methods-and-drawbacks-aa03e644b48a\n",
        "* Theory : https://en.wikipedia.org/wiki/K-means_clustering\n",
        "* \n"
      ]
    },
    {
      "cell_type": "code",
      "metadata": {
        "id": "U7Yv3GDr9IJ6",
        "colab_type": "code",
        "colab": {
          "base_uri": "https://localhost:8080/",
          "height": 238
        },
        "outputId": "6654b62e-b136-47a4-d0fb-7234753e17f6"
      },
      "source": [
        "!pip install pyspark"
      ],
      "execution_count": 37,
      "outputs": [
        {
          "output_type": "stream",
          "text": [
            "Collecting pyspark\n",
            "\u001b[?25l  Downloading https://files.pythonhosted.org/packages/87/21/f05c186f4ddb01d15d0ddc36ef4b7e3cedbeb6412274a41f26b55a650ee5/pyspark-2.4.4.tar.gz (215.7MB)\n",
            "\u001b[K     |████████████████████████████████| 215.7MB 106kB/s \n",
            "\u001b[?25hCollecting py4j==0.10.7 (from pyspark)\n",
            "\u001b[?25l  Downloading https://files.pythonhosted.org/packages/e3/53/c737818eb9a7dc32a7cd4f1396e787bd94200c3997c72c1dbe028587bd76/py4j-0.10.7-py2.py3-none-any.whl (197kB)\n",
            "\u001b[K     |████████████████████████████████| 204kB 44.4MB/s \n",
            "\u001b[?25hBuilding wheels for collected packages: pyspark\n",
            "  Building wheel for pyspark (setup.py) ... \u001b[?25l\u001b[?25hdone\n",
            "  Created wheel for pyspark: filename=pyspark-2.4.4-py2.py3-none-any.whl size=216130387 sha256=4862a2f2441986f000a442c7aedc9e8e4ab78c985ae86ce91afc7489946a7ce7\n",
            "  Stored in directory: /root/.cache/pip/wheels/ab/09/4d/0d184230058e654eb1b04467dbc1292f00eaa186544604b471\n",
            "Successfully built pyspark\n",
            "Installing collected packages: py4j, pyspark\n",
            "Successfully installed py4j-0.10.7 pyspark-2.4.4\n"
          ],
          "name": "stdout"
        }
      ]
    },
    {
      "cell_type": "code",
      "metadata": {
        "id": "R9rfZYH89IsY",
        "colab_type": "code",
        "colab": {
          "base_uri": "https://localhost:8080/",
          "height": 269
        },
        "outputId": "c689d760-0331-4abc-d6a1-e0cccaedbe05"
      },
      "source": [
        "import numpy as np\n",
        "import pandas as pd\n",
        "import matplotlib.pyplot as plt\n",
        "import random\n",
        "\n",
        "\n",
        "def KMeans(train_x,k):\n",
        "  \"\"\"\n",
        "  user defined functions to find clusters using Kmeans\n",
        "  \"\"\"\n",
        "  \n",
        "  k=3\n",
        "  \n",
        "  \n",
        "  cluster_one =np.random.normal(0,1,size=(100,2))\n",
        "  cluster_two=np.random.normal(5,1,size=(100,2))\n",
        "  \n",
        "  train_x=np.append(cluster_one,cluster_two,axis=0)\n",
        "  #print(train_x)\n",
        "  data =pd.DataFrame(train_x)\n",
        "  plt.scatter(train_x[:,0],train_x[:,1])\n",
        "  \n",
        "  ctr1 = random.choice([0,len(train_x)])\n",
        "  ctr2 = random.choice([0,len(train_x)])\n",
        "  iterations=10\n",
        "  n=len(train_x)\n",
        "  \n",
        "  group=[0]*len(train_x)\n",
        "  \n",
        "  # Time Complexity = O(n X k  X d X i)\n",
        "  # number of iterations\n",
        "  for i in range(0,iterations):\n",
        "    ctr1= new_ctr1\n",
        "    ctr2=new_ctr2\n",
        "    # no of data points\n",
        "    for i in range(0,n):\n",
        "      \n",
        "      # compute eucledian distance between data points and assign to nearest centroid\n",
        "      if dist1 < dist2:\n",
        "        \n",
        "      \n",
        "      \n",
        "      \n",
        "    \n",
        "KMeans(None, None)\n",
        "  \n",
        "  \n",
        "  "
      ],
      "execution_count": 38,
      "outputs": [
        {
          "output_type": "display_data",
          "data": {
            "image/png": "[encoded data removed]",
            "text/plain": [
              "<Figure size 432x288 with 1 Axes>"
            ]
          },
          "metadata": {
            "tags": []
          }
        }
      ]
    }
  ]
}