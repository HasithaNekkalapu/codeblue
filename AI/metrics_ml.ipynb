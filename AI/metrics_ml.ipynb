{
  "nbformat": 4,
  "nbformat_minor": 0,
  "metadata": {
    "colab": {
      "name": "metrics_ml.ipynb",
      "provenance": [],
      "include_colab_link": true
    },
    "kernelspec": {
      "name": "python3",
      "display_name": "Python 3"
    }
  },
  "cells": [
    {
      "cell_type": "markdown",
      "metadata": {
        "id": "view-in-github",
        "colab_type": "text"
      },
      "source": [
        "<a href=\"https://colab.research.google.com/github/thefr33radical/codeblue/blob/master/AI/metrics_ml.ipynb\" target=\"_parent\"><img src=\"https://colab.research.google.com/assets/colab-badge.svg\" alt=\"Open In Colab\"/></a>"
      ]
    },
    {
      "cell_type": "code",
      "metadata": {
        "id": "Vpw4p5yE65xu",
        "colab_type": "code",
        "colab": {}
      },
      "source": [
        "# r2 score\n",
        "'''\n",
        "Defnition : R-squared is a statistical measure of how close the data are to the fitted regression line.\n",
        "It is also known as the coefficient of determination, or the coefficient of multiple determination for multiple regression.\n",
        "\n",
        "Possible Values:\n",
        "\n",
        "if R2 < 0 : Horizontal line explains the data better than the model.\n",
        "if R2 = 0 : HOrizontal line explains the data equally as your model.\n",
        "if R2 > 0 : Explains variance\n",
        "\n",
        "\n",
        "  References:\n",
        "* https://stats.stackexchange.com/questions/183265/what-does-negative-r-squared-mean\n",
        "* https://blog.minitab.com/blog/adventures-in-statistics-2/regression-analysis-how-do-i-interpret-r-squared-and-assess-the-goodness-of-fit\n",
        "'''\n",
        "\n",
        "\n",
        "\n",
        "\n",
        "\n"
      ],
      "execution_count": 0,
      "outputs": []
    },
    {
      "cell_type": "code",
      "metadata": {
        "id": "emc7aDBH7i7H",
        "colab_type": "code",
        "colab": {}
      },
      "source": [
        "# RMSE"
      ],
      "execution_count": 0,
      "outputs": []
    },
    {
      "cell_type": "code",
      "metadata": {
        "id": "PKgzGM0U7lTl",
        "colab_type": "code",
        "colab": {}
      },
      "source": [
        "# MSE"
      ],
      "execution_count": 0,
      "outputs": []
    },
    {
      "cell_type": "code",
      "metadata": {
        "id": "cjB_AwKO7p9p",
        "colab_type": "code",
        "colab": {}
      },
      "source": [
        "# MAE"
      ],
      "execution_count": 0,
      "outputs": []
    }
  ]
}