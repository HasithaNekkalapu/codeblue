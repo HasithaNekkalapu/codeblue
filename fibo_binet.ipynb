{
  "nbformat": 4,
  "nbformat_minor": 0,
  "metadata": {
    "colab": {
      "name": "fibo_binet.ipynb",
      "version": "0.3.2",
      "provenance": [],
      "include_colab_link": true
    },
    "kernelspec": {
      "name": "python3",
      "display_name": "Python 3"
    }
  },
  "cells": [
    {
      "cell_type": "markdown",
      "metadata": {
        "id": "view-in-github",
        "colab_type": "text"
      },
      "source": [
        "<a href=\"https://colab.research.google.com/github/thefr33radical/codeblue/blob/master/fibo_binet.ipynb\" target=\"_parent\"><img src=\"https://colab.research.google.com/assets/colab-badge.svg\" alt=\"Open In Colab\"/></a>"
      ]
    },
    {
      "cell_type": "code",
      "metadata": {
        "id": "Pup1Po4CZnhG",
        "colab_type": "code",
        "colab": {}
      },
      "source": [
        "#### Fibonacci\n",
        "#### T(C) = Brute Force Recursion O(n!), Matrix Optimization O(logn),Golden ratio O(1)\n",
        "* https://www.mathsisfun.com/numbers/fibonacci-sequence.html\n",
        "  "
      ],
      "execution_count": 0,
      "outputs": []
    },
    {
      "cell_type": "markdown",
      "metadata": {
        "id": "m--w5_3FZsiP",
        "colab_type": "text"
      },
      "source": [
        ""
      ]
    },
    {
      "cell_type": "code",
      "metadata": {
        "id": "r29Ncl3nZtKY",
        "colab_type": "code",
        "colab": {
          "base_uri": "https://localhost:8080/",
          "height": 34
        },
        "outputId": "a9af6dc6-324b-4ca8-f5e9-1b55beaf16a0"
      },
      "source": [
        "\n",
        "\n",
        "def fibo(n):\n",
        "  \"\"\"\n",
        "  Function to Compute Fibo uing Recursive call\n",
        "  \"\"\"\n",
        "  if n == 1 or n == 0:\n",
        "    return 1\n",
        "  return fibo(n-1)+fibo(n-2)\n",
        "  \n",
        "  \n",
        "fibo(8-1)\n",
        "  "
      ],
      "execution_count": 3,
      "outputs": [
        {
          "output_type": "execute_result",
          "data": {
            "text/plain": [
              "21"
            ]
          },
          "metadata": {
            "tags": []
          },
          "execution_count": 3
        }
      ]
    },
    {
      "cell_type": "code",
      "metadata": {
        "id": "pAaTSxGBbnfd",
        "colab_type": "code",
        "colab": {
          "base_uri": "https://localhost:8080/",
          "height": 34
        },
        "outputId": "5eeafaac-99f0-478c-808c-18ed0157500a"
      },
      "source": [
        "import math\n",
        "def fibo_binet(n):\n",
        "  \"\"\"\n",
        "  Function to compute Fibonacci series using Binet's Formula\n",
        "  \"\"\"\n",
        "  alpha = 1.618034\n",
        "\n",
        "  fib_no = alpha**n - ( 1-alpha)**n\n",
        "  fib_no = fib_no/math.sqrt(5)\n",
        "  return int(fib_no)\n",
        "\n",
        "fibo_binet(10)\n",
        "  "
      ],
      "execution_count": 10,
      "outputs": [
        {
          "output_type": "execute_result",
          "data": {
            "text/plain": [
              "55"
            ]
          },
          "metadata": {
            "tags": []
          },
          "execution_count": 10
        }
      ]
    },
    {
      "cell_type": "code",
      "metadata": {
        "id": "1GNcOsQfotwB",
        "colab_type": "code",
        "colab": {
          "base_uri": "https://localhost:8080/",
          "height": 289
        },
        "outputId": "263a9074-cefa-4bde-c074-686245aaf2b2"
      },
      "source": [
        "import numpy as np\n",
        "f = [[1,1],[1,0]]\n",
        "f = np.array(f)\n",
        "\n",
        "\n",
        "def fibo2(m,n):\n",
        "  x = [[1,1],[1,0]]\n",
        "  x = np.array(x)\n",
        "  \n",
        "  if n ==1:\n",
        "    \n",
        "    return x\n",
        "  \n",
        "  else:\n",
        "    m = fibo2(m,n)\n",
        "    z[0][0] = x[0][0]*m[0][0]+x[0][1]*m[1][0]\n",
        "    z[0][1] = x[0][0]*m[0][0]+x[0][1]*m[1][0]\n",
        "    z[1][0] = x[1][0]*m[0][0]+x[1][1]*m[1][0]\n",
        "    z[1][1] = x[1][0]*m[0][1]+x[1][1]*m[1][1]\n",
        "    return z\n",
        "\n",
        "def fibo(m,n):\n",
        "  x = [[1,1],[1,0]]\n",
        "  x = np.array(x)\n",
        "  \n",
        "  if n ==1:\n",
        "    \n",
        "    return x\n",
        "  m= np.matmul(x,fibo(m,n-1))\n",
        "  print(m,n)\n",
        "  return m\n",
        "\n",
        "m2 = fibo(f,8)\n",
        "print(m2)\n",
        "#print(np.linalg.det(m2))\n",
        "#print(np.matmul(np.square(f),np.square(f)))\n"
      ],
      "execution_count": 37,
      "outputs": [
        {
          "output_type": "stream",
          "text": [
            "[[2 1]\n",
            " [1 1]] 2\n",
            "[[3 2]\n",
            " [2 1]] 3\n",
            "[[5 3]\n",
            " [3 2]] 4\n",
            "[[8 5]\n",
            " [5 3]] 5\n",
            "[[13  8]\n",
            " [ 8  5]] 6\n",
            "[[21 13]\n",
            " [13  8]] 7\n",
            "[[34 21]\n",
            " [21 13]] 8\n",
            "[[34 21]\n",
            " [21 13]]\n"
          ],
          "name": "stdout"
        }
      ]
    }
  ]
}