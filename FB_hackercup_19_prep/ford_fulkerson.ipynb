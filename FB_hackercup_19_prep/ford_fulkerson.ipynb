{
  "nbformat": 4,
  "nbformat_minor": 0,
  "metadata": {
    "colab": {
      "name": "ford_fulkerson.ipynb",
      "version": "0.3.2",
      "provenance": [],
      "include_colab_link": true
    },
    "kernelspec": {
      "name": "python3",
      "display_name": "Python 3"
    }
  },
  "cells": [
    {
      "cell_type": "markdown",
      "metadata": {
        "id": "view-in-github",
        "colab_type": "text"
      },
      "source": [
        "<a href=\"https://colab.research.google.com/github/thefr33radical/codeblue/blob/master/FB_hackercup_19_prep/ford_fulkerson.ipynb\" target=\"_parent\"><img src=\"https://colab.research.google.com/assets/colab-badge.svg\" alt=\"Open In Colab\"/></a>"
      ]
    },
    {
      "metadata": {
        "id": "_tRZryZzlihb",
        "colab_type": "text"
      },
      "cell_type": "markdown",
      "source": [
        "### Ford-Fulkerson Algorithm\n",
        "\n",
        "* T(C) = O(E X Max_Flow) using DFS\n",
        "* T(C) = O(VE X E) using BFS -EdmondKarp\n"
      ]
    },
    {
      "metadata": {
        "id": "5AaY5hUPliwr",
        "colab_type": "code",
        "colab": {}
      },
      "cell_type": "code",
      "source": [
        "\n",
        "def CBFS(graph,r_graph,src,dest):\n",
        "  \"\"\"\n",
        "  Conditional BFS for Edmund Karp Algorithm\n",
        "  \"\"\"\n",
        "  q= []\n",
        "  path =[]\n",
        "  \n",
        "  visit = [0]*len(graph)\n",
        "  parent = [0]*len(graph)\n",
        "  \n",
        "  q.append(src)\n",
        "  visit[src]=1\n",
        "  \n",
        "  while q:\n",
        "    vertex = q.pop(len(q)-1)\n",
        "    if vertex is not None:\n",
        "      print(vertex)\n",
        "      path.append(vertex)\n",
        "      if vetex == dest:\n",
        "        return path\n",
        "      i = 0\n",
        "      while i < len(graph):\n",
        "        if visit[i]==0 and graph[vertex][i] and r_graph[vertex][i]>0:\n",
        "          visit[i]=1\n",
        "          q.appen(i)\n",
        "          parent[i]=vertex\n",
        "          \n",
        "  return None\n",
        "\n",
        "def subtract_min_flow(path,graph,r_graph,src,dest):\n",
        "  \"\"\"\n",
        "  \n",
        "  \"\"\"\n",
        "  weights=[]\n",
        "  a= src\n",
        "  for i in path:\n",
        "    b = i\n",
        "    weights.append(r_graph[a][b])\n",
        "    a = b\n",
        "    \n",
        "  min_flow = min(weights)\n",
        "         \n",
        "  a = src\n",
        "  for i in path:\n",
        "    b = i\n",
        "    r_graph[a][b]-=min_flow\n",
        "    a = b\n",
        "  return min_flow\n",
        "\n",
        "path =   CBFS(graph,r_graph,src,dest)\n",
        "while(path is not None):\n",
        "  global_min+=subtract_min_flow(path,graph,r_graph,src,dest)\n",
        "  path =   CBFS(graph,r_graph,src,dest)\n",
        "    \n",
        "  "
      ],
      "execution_count": 0,
      "outputs": []
    }
  ]
}