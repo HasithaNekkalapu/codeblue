{
  "nbformat": 4,
  "nbformat_minor": 0,
  "metadata": {
    "colab": {
      "name": "ford_fulkerson.ipynb",
      "version": "0.3.2",
      "provenance": [],
      "include_colab_link": true
    },
    "kernelspec": {
      "name": "python3",
      "display_name": "Python 3"
    }
  },
  "cells": [
    {
      "cell_type": "markdown",
      "metadata": {
        "id": "view-in-github",
        "colab_type": "text"
      },
      "source": [
        "<a href=\"https://colab.research.google.com/github/thefr33radical/codeblue/blob/master/FB_hackercup_19_prep/ford_fulkerson.ipynb\" target=\"_parent\"><img src=\"https://colab.research.google.com/assets/colab-badge.svg\" alt=\"Open In Colab\"/></a>"
      ]
    },
    {
      "metadata": {
        "id": "_tRZryZzlihb",
        "colab_type": "text"
      },
      "cell_type": "markdown",
      "source": [
        "### Ford-Fulkerson Algorithm\n",
        "\n",
        "* T(C) = O(E X Max_Flow) using DFS\n",
        "* T(C) = O(VE X E) using BFS -EdmondKarp\n"
      ]
    },
    {
      "metadata": {
        "id": "5AaY5hUPliwr",
        "colab_type": "code",
        "colab": {
          "base_uri": "https://localhost:8080/",
          "height": 731
        },
        "outputId": "83f02ab0-8381-482f-9107-bb6f0b37a0da"
      },
      "cell_type": "code",
      "source": [
        "import copy\n",
        "def CBFS(graph,r_graph,src,dest):\n",
        "  \"\"\"\n",
        "  Conditional BFS for Edmund Karp Algorithm\n",
        "  \"\"\"\n",
        "  q= []\n",
        "  path =[]\n",
        "  \n",
        "  visit = [0]*len(graph)\n",
        "  parent = [0]*len(graph)\n",
        "  \n",
        "  q.append((src,0))\n",
        "  visit[src]=1\n",
        "  \n",
        "  while q:\n",
        "    vertex,wt = q.pop(len(q)-1)\n",
        "    \n",
        "    if vertex is not None:\n",
        "      path.append((vertex,wt))\n",
        "      #print(vertex)\n",
        "      if vertex == dest:\n",
        "        \n",
        "        return path\n",
        "      i = 0\n",
        "      while i < len(graph):\n",
        "        if visit[i]== 0 and graph[vertex][i] and r_graph[vertex][i]>0:\n",
        "          temp_wt = r_graph[vertex][i]\n",
        "          #print(\"weights bfs, i \",, i)\n",
        "          visit[i]=1\n",
        "          q.append((i,temp_wt))\n",
        "          #print(visit)\n",
        "          parent[i]=vertex\n",
        "        i+=1\n",
        "          \n",
        "  return None\n",
        "\n",
        "def subtract_min_flow(path,graph,r_graph,src,dest):\n",
        "  \"\"\"\n",
        "  \n",
        "  \"\"\"\n",
        "  path = path[1:]\n",
        "  min_flow = min(path, key= lambda path:path[1])\n",
        "  min_wt = int(min_flow[1])\n",
        "  print(\"minwt \",min_flow,min_wt)\n",
        "  \n",
        "  for node in range(len(path)-1):\n",
        "    \n",
        "    a = path[node][0]\n",
        "    b = path[node+1][0]\n",
        "   \n",
        "    r_graph[a][b]-=min_wt\n",
        "    return min_wt\n",
        "\n",
        "graph = [[0, 16, 13, 0, 0, 0], \n",
        "        [0, 0, 10, 12, 0, 0], \n",
        "        [0, 4, 0, 0, 14, 0], \n",
        "        [0, 0, 9, 0, 0, 20], \n",
        "        [0, 0, 0, 7, 0, 4], \n",
        "        [0, 0, 0, 0, 0, 0]]\n",
        "\n",
        "r_graph = copy.deepcopy(graph)\n",
        "src = 0\n",
        "dest = 5\n",
        "global_min = 0\n",
        "print(r_graph)\n",
        "path =   CBFS(graph,r_graph,src,dest)\n",
        "print(path)\n",
        "i=0\n",
        "while(i<10):\n",
        "  print(path)\n",
        "  min_wt=subtract_min_flow(path,graph,r_graph,src,dest)\n",
        "  global_min+=min_wt\n",
        "  print(\"min_wt,global\",min_wt,global_min)\n",
        "  print(r_graph)\n",
        "  path =   CBFS(graph,r_graph,src,dest)\n",
        "  i+=1"
      ],
      "execution_count": 34,
      "outputs": [
        {
          "output_type": "stream",
          "text": [
            "[[0, 16, 13, 0, 0, 0], [0, 0, 10, 12, 0, 0], [0, 4, 0, 0, 14, 0], [0, 0, 9, 0, 0, 20], [0, 0, 0, 7, 0, 4], [0, 0, 0, 0, 0, 0]]\n",
            "[(0, 0), (2, 13), (4, 14), (5, 4)]\n",
            "[(0, 0), (2, 13), (4, 14), (5, 4)]\n",
            "minwt  (5, 4) 4\n",
            "min_wt,global 4 4\n",
            "[[0, 16, 13, 0, 0, 0], [0, 0, 10, 12, 0, 0], [0, 4, 0, 0, 10, 0], [0, 0, 9, 0, 0, 20], [0, 0, 0, 7, 0, 4], [0, 0, 0, 0, 0, 0]]\n",
            "[(0, 0), (2, 13), (4, 10), (5, 4)]\n",
            "minwt  (5, 4) 4\n",
            "min_wt,global 4 8\n",
            "[[0, 16, 13, 0, 0, 0], [0, 0, 10, 12, 0, 0], [0, 4, 0, 0, 6, 0], [0, 0, 9, 0, 0, 20], [0, 0, 0, 7, 0, 4], [0, 0, 0, 0, 0, 0]]\n",
            "[(0, 0), (2, 13), (4, 6), (5, 4)]\n",
            "minwt  (5, 4) 4\n",
            "min_wt,global 4 12\n",
            "[[0, 16, 13, 0, 0, 0], [0, 0, 10, 12, 0, 0], [0, 4, 0, 0, 2, 0], [0, 0, 9, 0, 0, 20], [0, 0, 0, 7, 0, 4], [0, 0, 0, 0, 0, 0]]\n",
            "[(0, 0), (2, 13), (4, 2), (5, 4)]\n",
            "minwt  (4, 2) 2\n",
            "min_wt,global 2 14\n",
            "[[0, 16, 13, 0, 0, 0], [0, 0, 10, 12, 0, 0], [0, 4, 0, 0, 0, 0], [0, 0, 9, 0, 0, 20], [0, 0, 0, 7, 0, 4], [0, 0, 0, 0, 0, 0]]\n",
            "[(0, 0), (2, 13), (1, 16), (3, 12), (5, 20)]\n",
            "minwt  (3, 12) 12\n",
            "min_wt,global 12 26\n",
            "[[0, 16, 13, 0, 0, 0], [0, 0, 10, 12, 0, 0], [0, -8, 0, 0, 0, 0], [0, 0, 9, 0, 0, 20], [0, 0, 0, 7, 0, 4], [0, 0, 0, 0, 0, 0]]\n",
            "[(0, 0), (2, 13), (1, 16), (3, 12), (5, 20)]\n",
            "minwt  (3, 12) 12\n",
            "min_wt,global 12 38\n",
            "[[0, 16, 13, 0, 0, 0], [0, 0, 10, 12, 0, 0], [0, -20, 0, 0, 0, 0], [0, 0, 9, 0, 0, 20], [0, 0, 0, 7, 0, 4], [0, 0, 0, 0, 0, 0]]\n",
            "[(0, 0), (2, 13), (1, 16), (3, 12), (5, 20)]\n",
            "minwt  (3, 12) 12\n",
            "min_wt,global 12 50\n",
            "[[0, 16, 13, 0, 0, 0], [0, 0, 10, 12, 0, 0], [0, -32, 0, 0, 0, 0], [0, 0, 9, 0, 0, 20], [0, 0, 0, 7, 0, 4], [0, 0, 0, 0, 0, 0]]\n",
            "[(0, 0), (2, 13), (1, 16), (3, 12), (5, 20)]\n",
            "minwt  (3, 12) 12\n",
            "min_wt,global 12 62\n",
            "[[0, 16, 13, 0, 0, 0], [0, 0, 10, 12, 0, 0], [0, -44, 0, 0, 0, 0], [0, 0, 9, 0, 0, 20], [0, 0, 0, 7, 0, 4], [0, 0, 0, 0, 0, 0]]\n",
            "[(0, 0), (2, 13), (1, 16), (3, 12), (5, 20)]\n",
            "minwt  (3, 12) 12\n",
            "min_wt,global 12 74\n",
            "[[0, 16, 13, 0, 0, 0], [0, 0, 10, 12, 0, 0], [0, -56, 0, 0, 0, 0], [0, 0, 9, 0, 0, 20], [0, 0, 0, 7, 0, 4], [0, 0, 0, 0, 0, 0]]\n",
            "[(0, 0), (2, 13), (1, 16), (3, 12), (5, 20)]\n",
            "minwt  (3, 12) 12\n",
            "min_wt,global 12 86\n",
            "[[0, 16, 13, 0, 0, 0], [0, 0, 10, 12, 0, 0], [0, -68, 0, 0, 0, 0], [0, 0, 9, 0, 0, 20], [0, 0, 0, 7, 0, 4], [0, 0, 0, 0, 0, 0]]\n"
          ],
          "name": "stdout"
        }
      ]
    }
  ]
}