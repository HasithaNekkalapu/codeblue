{
  "nbformat": 4,
  "nbformat_minor": 0,
  "metadata": {
    "colab": {
      "name": "ford_fulkerson.ipynb",
      "version": "0.3.2",
      "provenance": [],
      "collapsed_sections": [],
      "include_colab_link": true
    },
    "kernelspec": {
      "name": "python3",
      "display_name": "Python 3"
    }
  },
  "cells": [
    {
      "cell_type": "markdown",
      "metadata": {
        "id": "view-in-github",
        "colab_type": "text"
      },
      "source": [
        "<a href=\"https://colab.research.google.com/github/thefr33radical/codeblue/blob/master/FB_hackercup_19_prep/ford_fulkerson.ipynb\" target=\"_parent\"><img src=\"https://colab.research.google.com/assets/colab-badge.svg\" alt=\"Open In Colab\"/></a>"
      ]
    },
    {
      "metadata": {
        "id": "_tRZryZzlihb",
        "colab_type": "text"
      },
      "cell_type": "markdown",
      "source": [
        "### Ford-Fulkerson Algorithm\n",
        "\n",
        "* T(C) = O(E X Max_Flow) using DFS\n",
        "* T(C) = O(VE X E) using BFS -EdmondKarp\n"
      ]
    },
    {
      "metadata": {
        "id": "oQmfAIBP7gl0",
        "colab_type": "text"
      },
      "cell_type": "markdown",
      "source": [
        "### Edmund Karp implementaion of Fod-Fulkerson"
      ]
    },
    {
      "metadata": {
        "id": "5AaY5hUPliwr",
        "colab_type": "code",
        "colab": {}
      },
      "cell_type": "code",
      "source": [
        "import copy\n",
        "def CBFS(graph,r_graph,src,dest):\n",
        "  \"\"\"\n",
        "  Conditional BFS for Edmund Karp Algorithm\n",
        "  \"\"\"\n",
        "  q= []\n",
        "  path =[]\n",
        "  \n",
        "  visit = [0]*len(graph)\n",
        "  parent = [0]*len(graph)\n",
        "  \n",
        "  q.append(src)\n",
        "  visit[src]=1\n",
        "  \n",
        "  while q:\n",
        "    vertex = q.pop(len(q)-1)\n",
        "    if vertex is not None:\n",
        "      path.append(vertex)\n",
        "      if vertex == dest:\n",
        "        return path\n",
        "      \n",
        "      i = 0\n",
        "      while i < len(graph):\n",
        "        if visit[i]==0 and graph[vertex][i] and r_graph[vertex][i]>0:\n",
        "          visit[i]=1\n",
        "          q.append(i)\n",
        "          parent[i]=vertex\n",
        "        i+=1\n",
        "          \n",
        "  return None\n",
        "\n",
        "def subtract_min_flow(path,graph,r_graph,src,dest):\n",
        "  \"\"\"\n",
        "  \n",
        "  \"\"\"\n",
        "  weights=[]\n",
        "  a= src\n",
        "  for i in range(1,len(path)):\n",
        "    b = path[i]\n",
        "    weights.append(r_graph[a][b])\n",
        "    a = b\n",
        "    \n",
        "  min_flow = min(weights)\n",
        "  #print(weights,min_flow)        \n",
        "  a = src\n",
        "  \n",
        "  for i in range(1,len(path)):\n",
        "    b = path[i]\n",
        "    r_graph[a][b]-=min_flow\n",
        "    a = b\n",
        "  #print(r_graph)\n",
        "  return min_flow\n",
        "\n",
        "src = 0\n",
        "dest =5\n",
        "\n",
        "graph = [[0, 16, 13, 0, 0, 0], \n",
        "        [0, 0, 10, 12, 0, 0], \n",
        "        [0, 4, 0, 0, 14, 0], \n",
        "        [0, 0, 9, 0, 0, 20], \n",
        "        [0, 0, 0, 7, 0, 4], \n",
        "        [0, 0, 0, 0, 0, 0]] \n",
        "r_graph = copy.deepcopy(graph)\n",
        "global_min = 0\n",
        "\n",
        "path =   CBFS(graph,r_graph,src,dest)\n",
        "\n",
        "while path is not None:\n",
        "  print(\"path\",path)\n",
        "  min_wt = subtract_min_flow(path,graph,r_graph,src,dest)\n",
        "  print(\"min_wt\",min_wt)\n",
        "  global_min+=min_wt\n",
        "  print(global_min)\n",
        "  path = CBFS(graph,r_graph,src,dest)\n",
        "  print(r_graph,\"\\n\",graph)\n",
        "  \n",
        "  \n",
        "  "
      ],
      "execution_count": 0,
      "outputs": []
    },
    {
      "metadata": {
        "id": "avHx6h3j7Azx",
        "colab_type": "code",
        "colab": {
          "base_uri": "https://localhost:8080/",
          "height": 85
        },
        "outputId": "e133a9e8-17e0-492a-b9fb-02ea9dd99d33"
      },
      "cell_type": "code",
      "source": [
        "\n",
        "import copy\n",
        "\n",
        "\n",
        "def bfs(graph,r_graph, src,dest,parent,visit):\n",
        "  \"\"\"\n",
        "  \n",
        "  \"\"\"\n",
        "  parent = [0]*len(graph)\n",
        "  visit = [0]*len(graph)\n",
        "  q=[]\n",
        "  q.append(src)\n",
        "  \n",
        "  visit[src] = 1\n",
        "  path=[]\n",
        "  path.append(src)\n",
        "  \n",
        "  while q:\n",
        "    vertex = q.pop(len(q)-1)\n",
        "    if vertex is not None:\n",
        "      for i in range(len(graph)):\n",
        "        if r_graph[vertex][i]>0 and visit[i]==0:\n",
        "          visit[i] = 1\n",
        "          parent[i] = vertex\n",
        "          path.append(i)\n",
        "          if i== dest:\n",
        "            return 1,parent,path\n",
        "          q.append(i)\n",
        "  return 0,parent,path\n",
        "\n",
        "\n",
        "def edmund_karp(graph,r_graph,src,dest):\n",
        "  \"\"\"\n",
        "  \n",
        "  \"\"\" \n",
        "  \n",
        "  parent = [0]*len(graph)\n",
        "  visit = [0]*len(graph)\n",
        "  min_cut =float('inf')\n",
        "  max_flow = 0  \n",
        "  path_present,parent,path = bfs(graph,r_graph, src, dest, parent,visit)\n",
        "  print(path_present,path,parent,visit)  \n",
        "  \n",
        "  while path_present:\n",
        "    # find minimum cut that we can remove\n",
        "    start = dest\n",
        "    \n",
        "    while start!=src:\n",
        "      u = parent[start]\n",
        "    \n",
        "      min_cut = min(min_cut,graph[u][start])\n",
        "      start = parent[start]\n",
        "                            \n",
        "    max_flow+=min_cut\n",
        "    start = dest\n",
        "    while start!= src:\n",
        "       u = parent[start]\n",
        "       r_graph[u][start]-= min_cut\n",
        "       start = parent[start]\n",
        "                        \n",
        "    path_present,parent,path = bfs(graph,r_graph, src, dest, parent,visit) \n",
        "    print(path_present,path,parent,visit)\n",
        "  return max_flow\n",
        "src = 0\n",
        "dest =3\n",
        "\n",
        "graph = [[0, 16, 13, 0, 0, 0], \n",
        "        [0, 0, 10, 12, 0, 0], \n",
        "        [0, 4, 0, 0, 14, 0], \n",
        "        [0, 0, 9, 0, 0, 20], \n",
        "        [0, 0, 0, 7, 0, 4], \n",
        "        [0, 0, 0, 0, 0, 0]] \n",
        "graph =[[0, 1000000, 1000000, 0], [0, 0, 1, 1000000], [0, 0, 0, 1000000], [0, 0, 0, 0]]\n",
        "r_graph = copy.deepcopy(graph)\n",
        "\n",
        "print(edmund_karp(graph,r_graph,src,dest))"
      ],
      "execution_count": 20,
      "outputs": [
        {
          "output_type": "stream",
          "text": [
            "1 [0, 1, 2, 3] [0, 0, 0, 2] [0, 0, 0, 0]\n",
            "1 [0, 1, 2, 3] [0, 0, 1, 1] [0, 0, 0, 0]\n",
            "0 [0] [0, 0, 0, 0] [0, 0, 0, 0]\n",
            "2000000\n"
          ],
          "name": "stdout"
        }
      ]
    }
  ]
}