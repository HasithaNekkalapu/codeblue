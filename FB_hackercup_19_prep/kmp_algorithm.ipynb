{
  "nbformat": 4,
  "nbformat_minor": 0,
  "metadata": {
    "colab": {
      "name": "kmp_algorithm.ipynb",
      "version": "0.3.2",
      "provenance": [],
      "collapsed_sections": [],
      "include_colab_link": true
    },
    "kernelspec": {
      "name": "python3",
      "display_name": "Python 3"
    }
  },
  "cells": [
    {
      "cell_type": "markdown",
      "metadata": {
        "id": "view-in-github",
        "colab_type": "text"
      },
      "source": [
        "<a href=\"https://colab.research.google.com/github/thefr33radical/codeblue/blob/master/FB_hackercup_19_prep/kmp_algorithm.ipynb\" target=\"_parent\"><img src=\"https://colab.research.google.com/assets/colab-badge.svg\" alt=\"Open In Colab\"/></a>"
      ]
    },
    {
      "metadata": {
        "id": "B5XLvqUqPMBo",
        "colab_type": "text"
      },
      "cell_type": "markdown",
      "source": [
        ""
      ]
    },
    {
      "metadata": {
        "id": "vbkwoPgiPMLw",
        "colab_type": "code",
        "colab": {
          "base_uri": "https://localhost:8080/",
          "height": 34
        },
        "outputId": "25580d6a-7518-4833-95aa-5114f6aac526"
      },
      "cell_type": "code",
      "source": [
        "def naive_approach(text, pattern):\n",
        "  \"\"\"\n",
        "  T(C) = O(n3)\n",
        "  \n",
        "  \"\"\"\n",
        "  for i in range(len(text)):\n",
        "    for j in range(len(pattern)):\n",
        "      count= 0\n",
        "      c=i\n",
        "      while c< len(text) and j < len(pattern) and text[c] == pattern[j]:\n",
        "        j+=1\n",
        "        c+=1\n",
        "        count+=1       \n",
        "        if count == len(pattern):\n",
        "          print(\"Found text\")\n",
        "          return\n",
        "        \n",
        "def naive_approach2(text, pattern):\n",
        "  \"\"\"\n",
        "  T(C) = O(n*m)\n",
        "  \n",
        "  \"\"\"\n",
        "  for i in range(len(text)):\n",
        "    j= 0\n",
        "    count = 0\n",
        "    while i< len(text) and j < len(pattern) and text[i] == pattern[j]:\n",
        "        i+=1\n",
        "        j+=1\n",
        "        count+=1       \n",
        "        if count == len(pattern):\n",
        "          print(\"Found text\")\n",
        "          return\n",
        "        \n",
        "naive_approach(\"abcdbcglx\",\"bcgl\")        \n",
        "naive_approach2(\"abcdbcglx\",\"bcgl\")"
      ],
      "execution_count": 11,
      "outputs": [
        {
          "output_type": "stream",
          "text": [
            "Found text\n"
          ],
          "name": "stdout"
        }
      ]
    }
  ]
}