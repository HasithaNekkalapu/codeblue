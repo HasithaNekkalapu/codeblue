{
  "nbformat": 4,
  "nbformat_minor": 0,
  "metadata": {
    "colab": {
      "name": "heap_sort.ipynb",
      "version": "0.3.2",
      "provenance": [],
      "include_colab_link": true
    },
    "kernelspec": {
      "name": "python3",
      "display_name": "Python 3"
    }
  },
  "cells": [
    {
      "cell_type": "markdown",
      "metadata": {
        "id": "view-in-github",
        "colab_type": "text"
      },
      "source": [
        "<a href=\"https://colab.research.google.com/github/thefr33radical/codeblue/blob/master/FB_hackercup_19_prep/heap_sort.ipynb\" target=\"_parent\"><img src=\"https://colab.research.google.com/assets/colab-badge.svg\" alt=\"Open In Colab\"/></a>"
      ]
    },
    {
      "cell_type": "markdown",
      "metadata": {
        "id": "JkroQeAlgu6k",
        "colab_type": "text"
      },
      "source": [
        ""
      ]
    },
    {
      "cell_type": "code",
      "metadata": {
        "id": "sKgnxhlUgy0C",
        "colab_type": "code",
        "colab": {}
      },
      "source": [
        "def swap(node1, node2):\n",
        "  temp = node1\n",
        "  node1 = node2\n",
        "  node2 = temp\n",
        "  return node1,node2\n",
        "\n",
        "def parent(index):\n",
        "  p_index = (index -1)/2\n",
        "  p_index = int(p_index)\n",
        "  if p_index >= 0:\n",
        "    return p_index\n",
        "  else:\n",
        "    retrun 0\n",
        "\n",
        "def insert(arr,key,p_size):\n",
        "  \"\"\"\n",
        "  Function to insert into heap\n",
        "  \"\"\"\n",
        "  \n",
        "  max_size = len(arr)-1\n",
        "  if p_size == max_size:\n",
        "    print(\"Max size reached\")\n",
        "    return\n",
        "  \n",
        "  p_size+= 1\n",
        "  index = p_size\n",
        "  arr[index] = key\n",
        "  \n",
        "  while arr[parent(index)] > arr[index]:\n",
        "    arr[parent(index)], arr[index] = swap(arr[parent(index)], arr[index])\n",
        "    index = parent(index)\n",
        "    \n",
        "def delete(arr, p_size):\n",
        "  \"\"\"\n",
        "  Function to delete the node\n",
        "  \"\"\"\n",
        "  if p_size == 0:\n",
        "    print(\"No elements to delete\")\n",
        "    return\n",
        "  \n",
        "  last_index = p_size\n",
        "  index = 0\n",
        "  arr[index],arr[last_index] = swap(arr[index],arr[last_index])\n",
        "  arr[last_index]= 0\n",
        "  last_index-=1\n",
        "  p_size = last_index\n",
        "  \n",
        "  heapify(arr, index,p_size)\n",
        "  \n",
        "def heapify(arr, index, p_size):\n",
        "  \"\"\"\n",
        "  \n",
        "  \"\"\"\n",
        "  \n",
        "  min_element = arr[index]\n",
        "  \n",
        "  left = left_node(index)\n",
        "  right  right_node(index)\n",
        "  \n",
        "  if left <= p_size and right <= psize:\n",
        "    if min_element =< arr[left] and min_element =< arr[right]:\n",
        "      return\n",
        "    else:\n",
        "      if min_element > arr[left] and min_element < arr[right]:\n",
        "        arr[index],arr[left]= swap(min_element,arr[left])\n",
        "        heapfy(arr,left)\n",
        "      else:\n",
        "        arr[index],arr[right]= swap(min_element,arr[right])\n",
        "        heapfy(arr,right)\n",
        "        \n",
        "    if left <= p_size and right > psize:\n",
        "      arr[index],arr[left]= swap(min_element,arr[left])\n",
        "      heapfy(arr,left)"
      ],
      "execution_count": 0,
      "outputs": []
    }
  ]
}