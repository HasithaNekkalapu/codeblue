{
  "nbformat": 4,
  "nbformat_minor": 0,
  "metadata": {
    "colab": {
      "name": "interpolation_search.ipynb",
      "version": "0.3.2",
      "provenance": [],
      "toc_visible": true,
      "include_colab_link": true
    },
    "kernelspec": {
      "name": "python3",
      "display_name": "Python 3"
    }
  },
  "cells": [
    {
      "cell_type": "markdown",
      "metadata": {
        "id": "view-in-github",
        "colab_type": "text"
      },
      "source": [
        "<a href=\"https://colab.research.google.com/github/thefr33radical/codeblue/blob/master/FB_hackercup_19_prep/interpolation_search.ipynb\" target=\"_parent\"><img src=\"https://colab.research.google.com/assets/colab-badge.svg\" alt=\"Open In Colab\"/></a>"
      ]
    },
    {
      "cell_type": "markdown",
      "metadata": {
        "id": "HLBw5l3c8NFq",
        "colab_type": "text"
      },
      "source": [
        "### Interpolation Search\n",
        "#### T(C) = O(log log n) when elements are uniformly distributed\n",
        "#### T(C) = O(n) when elements increase exponentially\n",
        "* https://www.techiedelight.com/interpolation-search/\n",
        "* https://www.geeksforgeeks.org/interpolation-search/"
      ]
    },
    {
      "cell_type": "code",
      "metadata": {
        "id": "PMmoSxCd8NpZ",
        "colab_type": "code",
        "outputId": "57c47739-3bef-426d-8176-9ecfd12878a6",
        "colab": {
          "base_uri": "https://localhost:8080/",
          "height": 136
        }
      },
      "source": [
        "def compute(arr,key,low,high):\n",
        "  \"\"\"\n",
        "  Function to compute Interpolation Search\n",
        "  \"\"\"\n",
        "  print(arr[high],key,arr[low])\n",
        "  if(arr[high] >= arr[low] and key >= arr[low] and key <= arr[high]):\n",
        "    #print((key-arr[low]) * (high-low) )))\n",
        "    index = low + int(((key-arr[low]) * (high-low) ) /(arr[high]-arr[low]))\n",
        "    index = int(index)\n",
        "    print(index)\n",
        "    if arr[index] == key:\n",
        "      return 1,index\n",
        "    if key < arr[index]:\n",
        "      return compute(arr,key,low,index-1)\n",
        "    else:\n",
        "      return compute(arr,key,index+1,high)\n",
        "      \n",
        "  else:\n",
        "    return 0,0\n",
        "  \n",
        "def interpolation_search():\n",
        "  \"\"\"\n",
        "    \n",
        "  \"\"\"\n",
        "  arr = [10, 12, 13, 16, 18, 19, 20, 21,22, 23, 24, 33, 35, 42, 47] \n",
        "  key = 19\n",
        "  print(compute(arr,key,0,len(arr)-1))\n",
        "  \n",
        "interpolation_search()"
      ],
      "execution_count": 8,
      "outputs": [
        {
          "output_type": "stream",
          "text": [
            "47 19 10\n",
            "3\n",
            "47 19 18\n",
            "4\n",
            "47 19 19\n",
            "5\n",
            "(1, 5)\n"
          ],
          "name": "stdout"
        }
      ]
    }
  ]
}