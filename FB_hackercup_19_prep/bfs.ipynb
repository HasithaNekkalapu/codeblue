{
  "nbformat": 4,
  "nbformat_minor": 0,
  "metadata": {
    "colab": {
      "name": "bfs.ipynb",
      "version": "0.3.2",
      "provenance": [],
      "include_colab_link": true
    },
    "kernelspec": {
      "name": "python3",
      "display_name": "Python 3"
    }
  },
  "cells": [
    {
      "cell_type": "markdown",
      "metadata": {
        "id": "view-in-github",
        "colab_type": "text"
      },
      "source": [
        "<a href=\"https://colab.research.google.com/github/thefr33radical/codeblue/blob/master/FB_hackercup_19_prep/bfs.ipynb\" target=\"_parent\"><img src=\"https://colab.research.google.com/assets/colab-badge.svg\" alt=\"Open In Colab\"/></a>"
      ]
    },
    {
      "metadata": {
        "id": "PM23kEhZl_aX",
        "colab_type": "text"
      },
      "cell_type": "markdown",
      "source": [
        "###  Breadth First Search - Unweighted Graph Matrix\n",
        "*  T(C) = O(n2)\n",
        "\n",
        "* problems - https://stackoverflow.com/questions/240178/list-of-lists-changes-reflected-across-sublists-unexpectedly\n"
      ]
    },
    {
      "metadata": {
        "id": "fhCChplhl_lW",
        "colab_type": "code",
        "colab": {}
      },
      "cell_type": "code",
      "source": [
        "def bfs(graph):\n",
        "  \"\"\"\n",
        "  Function to run a bfs on a unweighted graph represented in form of a matrix\n",
        "  \"\"\"\n",
        "  \n",
        "  q=[]\n",
        "  q.append(0)\n",
        "  visited_matrix = [ [0]*len(graph) for _ in range(len(graph[0])) ] \n",
        "  visited_matrix[0][0] = 1\n",
        "  \n",
        "  while q:\n",
        "    vertex = q.pop(len(q)-1)\n",
        "    print(vertex)\n",
        "       \n",
        "    if vertex is not None:\n",
        "      i = 0\n",
        "      while i< len(graph[0]):\n",
        "        if (visited_matrix[vertex][i]==0 and graph[vertex][i]==1):\n",
        "          visited_matrix[vertex][i]=1\n",
        "          q.append(i)\n",
        "\n",
        "        i+=1\n",
        "  print(visited_matrix)\n",
        "\n",
        "    \n",
        "graph = [[0,1,0,0,0,0,0],\n",
        "        [0,0,0,1,0,0,0],\n",
        "        [0,1,0,0,0,0,1],\n",
        "        [0,0,1,0,1,0,0],\n",
        "        [0,0,1,0,0,1,0],\n",
        "        [0,0,0,0,0,0,0],\n",
        "        [0,0,0,0,0,0,0]]\n",
        "\n",
        "visited_matrix = [[0]*len(graph)] *len(graph[0])\n",
        "#print(visited_matrix)\n",
        "bfs(graph)  \n"
      ],
      "execution_count": 0,
      "outputs": []
    }
  ]
}