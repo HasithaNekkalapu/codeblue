{
  "nbformat": 4,
  "nbformat_minor": 0,
  "metadata": {
    "colab": {
      "name": "random_functions.ipynb",
      "version": "0.3.2",
      "provenance": [],
      "collapsed_sections": [],
      "include_colab_link": true
    },
    "kernelspec": {
      "name": "python3",
      "display_name": "Python 3"
    }
  },
  "cells": [
    {
      "cell_type": "markdown",
      "metadata": {
        "id": "view-in-github",
        "colab_type": "text"
      },
      "source": [
        "<a href=\"https://colab.research.google.com/github/thefr33radical/codeblue/blob/master/FB_hackercup_19_prep/random_functions.ipynb\" target=\"_parent\"><img src=\"https://colab.research.google.com/assets/colab-badge.svg\" alt=\"Open In Colab\"/></a>"
      ]
    },
    {
      "metadata": {
        "id": "Gt4nPnYaoFak",
        "colab_type": "code",
        "colab": {}
      },
      "cell_type": "code",
      "source": [
        "\n",
        "# Example of service time \n",
        "from random import expovariate, gauss\n",
        "from statistics import mean, median, stdev\n",
        "\n",
        "\n",
        "average_arrival_interval = 5.6\n",
        "# initial avg eaiting time\n",
        "average_service_time = 5.0\n",
        "#  Initial average service tiem\n",
        "stdev_service_time = 0.5\n",
        "# standard deviation of the servixe time\n",
        "\n",
        "num_waiting = 0\n",
        "# Initially waiting Q is empty\n",
        "arrivals = []\n",
        "# initially arrival q is empty\n",
        "starts = []\n",
        "\n",
        "arrival = service_end = 0.0\n",
        "\n",
        "for i in range(20000):\n",
        "  # if there are any process running add to arrival Q\n",
        "    if arrival <= service_end:\n",
        "        num_waiting += 1\n",
        "        arrival += expovariate(1.0 / average_arrival_interval)\n",
        "        arrivals.append(arrival)\n",
        "    else:\n",
        "        # if service end open a job from arrival Q\n",
        "        num_waiting -= 1\n",
        "        # Decrement wait counter\n",
        "        service_start = service_end if num_waiting else arrival\n",
        "        # start time of the job\n",
        "        service_time = gauss(average_service_time, stdev_service_time)\n",
        "        # service time of the job\n",
        "        service_end = service_start + service_time\n",
        "        # end time of the job\n",
        "        starts.append(service_start)\n",
        "\n",
        "waits = [start - arrival for arrival, start in zip(arrivals, starts)]\n",
        "print(f'Mean wait: {mean(waits):.1f}.  Stdev wait: {stdev(waits):.1f}.')\n",
        "print(f'Median wait: {median(waits):.1f}.  Max wait: {max(waits):.1f}.')\n",
        "\n",
        "\n",
        "import random\n",
        "\n",
        "# print(random.seed(5),random.seed(),random.seed(\"abc\"))\n",
        "# set random seed as int else take time\n",
        "print(random.getstate())\n",
        "# gets the current state of random generator\n",
        "print(random.randrange(99),random.randrange(12,19,1))\n",
        "# returns randomly selected integer from random.randrange(start,stop,step)\n",
        "print(random.choice([1,2,3,4,5,6,7]))\n",
        "# Select a number from a list\n",
        "print(random.choices([1,2,3,4,5,6,7],k=2))\n",
        "# Return a random list of lists with k=2\n",
        "print(random.shuffle([1,2,3,4,5,6,7]))\n",
        "# Shuffle a list\n",
        "print(random.sample([1,2,3,4,5,6,7],k=2))\n",
        "# Sampling without replacement\n",
        "\n",
        "## Real valued Distributions\n",
        "\n",
        "print(random.random())\n",
        "# Get a random float number\n",
        "print(random.uniform(2,10))\n"
      ],
      "execution_count": 0,
      "outputs": []
    },
    {
      "metadata": {
        "id": "urE-fNPDc9Xr",
        "colab_type": "code",
        "colab": {}
      },
      "cell_type": "code",
      "source": [
        "import secrets\n",
        "\n",
        "print(secrets.randbelow(11))\n",
        "# get random number below specified\n",
        "print(secrets.token_bytes(10),secrets.token_urlsafe(10),secrets.token_hex(10))\n",
        "# Get specified bytes, urlsafe tokens, token_hex"
      ],
      "execution_count": 0,
      "outputs": []
    }
  ]
}