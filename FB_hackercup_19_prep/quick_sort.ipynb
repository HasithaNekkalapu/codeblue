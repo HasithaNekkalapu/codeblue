{
  "nbformat": 4,
  "nbformat_minor": 0,
  "metadata": {
    "colab": {
      "name": "quick_sort.ipynb",
      "version": "0.3.2",
      "provenance": [],
      "include_colab_link": true
    },
    "kernelspec": {
      "name": "python3",
      "display_name": "Python 3"
    }
  },
  "cells": [
    {
      "cell_type": "markdown",
      "metadata": {
        "id": "view-in-github",
        "colab_type": "text"
      },
      "source": [
        "<a href=\"https://colab.research.google.com/github/thefr33radical/codeblue/blob/master/FB_hackercup_19_prep/quick_sort.ipynb\" target=\"_parent\"><img src=\"https://colab.research.google.com/assets/colab-badge.svg\" alt=\"Open In Colab\"/></a>"
      ]
    },
    {
      "cell_type": "code",
      "metadata": {
        "id": "jDkBPM47V8IX",
        "colab_type": "code",
        "colab": {}
      },
      "source": [
        ""
      ],
      "execution_count": 0,
      "outputs": []
    },
    {
      "cell_type": "markdown",
      "metadata": {
        "id": "7GFhzvsJV9EB",
        "colab_type": "text"
      },
      "source": [
        ""
      ]
    },
    {
      "cell_type": "code",
      "metadata": {
        "id": "T2Tq7_bWV9Pq",
        "colab_type": "code",
        "colab": {
          "base_uri": "https://localhost:8080/",
          "height": 34
        },
        "outputId": "0aeacb15-a214-4301-d8a0-ee10d0bf2af4"
      },
      "source": [
        "import random\n",
        "\n",
        "\n",
        "arr= [5,5,5,5,5,5]\n",
        "\n",
        "def swap(arr,i,j):\n",
        "  temp=arr[i]\n",
        "  arr[i]=arr[j]\n",
        "  arr[j]=temp\n",
        "\n",
        "def pfind(arr,low,high):\n",
        "  if low<high:\n",
        "    p=qsort(arr,low,high)\n",
        "    pfind(arr,low,p-1)\n",
        "    pfind(arr,p+1,high)\n",
        "    # mid+1 and mi-1 becasus we have got the pivot already\n",
        "    \n",
        "    \n",
        "def qsort(arr,low,high):\n",
        "  r=random.randint(low,high)\n",
        "  swap(arr,low,r)\n",
        "  pivot = arr[low]\n",
        "  i=low+1\n",
        "  j=high\n",
        "  \n",
        "  \n",
        "  while 1:\n",
        "    \n",
        "    while arr[i]<pivot and  i<=high:\n",
        "      i+=1\n",
        "  #one of them must be equivalent\n",
        "    while arr[j]>=+pivot and j>=low+1:\n",
        "      j-=1\n",
        "  #Repeated mistake of not decrementing \n",
        "      \n",
        "    if i <j:\n",
        "      swap(arr,i,j)\n",
        "    else:\n",
        "      break\n",
        "  #mistake break out of loop\n",
        "    \n",
        "  arr[low]=arr[j]\n",
        "  arr[j]=pivot\n",
        "  return j    \n",
        "    \n",
        "pfind(arr,0,len(arr)-1)\n",
        "print(arr)\n",
        "    \n",
        "    \n",
        "    \n",
        "    \n",
        "    \n",
        "    \n",
        "    \n",
        "    \n",
        "    \n",
        "    \n",
        "    \n",
        "    \n",
        "    \n",
        "    \n",
        "    "
      ],
      "execution_count": 19,
      "outputs": [
        {
          "output_type": "stream",
          "text": [
            "[5, 5, 5, 5, 5, 5]\n"
          ],
          "name": "stdout"
        }
      ]
    }
  ]
}