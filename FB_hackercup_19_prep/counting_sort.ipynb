{
  "nbformat": 4,
  "nbformat_minor": 0,
  "metadata": {
    "colab": {
      "name": "counting_sort.ipynb",
      "version": "0.3.2",
      "provenance": [],
      "collapsed_sections": [],
      "include_colab_link": true
    },
    "kernelspec": {
      "name": "python3",
      "display_name": "Python 3"
    }
  },
  "cells": [
    {
      "cell_type": "markdown",
      "metadata": {
        "id": "view-in-github",
        "colab_type": "text"
      },
      "source": [
        "<a href=\"https://colab.research.google.com/github/thefr33radical/codeblue/blob/master/FB_hackercup_19_prep/counting_sort.ipynb\" target=\"_parent\"><img src=\"https://colab.research.google.com/assets/colab-badge.svg\" alt=\"Open In Colab\"/></a>"
      ]
    },
    {
      "cell_type": "code",
      "metadata": {
        "id": "Yw-RVvMo2dqx",
        "colab_type": "code",
        "colab": {}
      },
      "source": [
        ""
      ],
      "execution_count": 0,
      "outputs": []
    },
    {
      "cell_type": "code",
      "metadata": {
        "id": "FyUNOJgnAEOr",
        "colab_type": "code",
        "outputId": "42124d05-23fb-490a-daaa-2f35863cfd9f",
        "colab": {
          "base_uri": "https://localhost:8080/",
          "height": 71
        }
      },
      "source": [
        "\n",
        "\n",
        "class CountingSort():\n",
        "  def __init__(self,val):\n",
        "    self.arr = val\n",
        "  \n",
        "  def compute(self):\n",
        "    self.arr = [ord(i) for i in self.arr]\n",
        "    self.sz = max(self.arr)\n",
        "    self.pos_arr = [0] * (self.sz+1)\n",
        "    self.output_arr = [0] * len(arr)\n",
        " \n",
        "    \n",
        "    for i in range(0,len(arr)):\n",
        "      self.pos_arr[self.arr[i]]+=1\n",
        "      \n",
        "    for i in range(1,self.sz+1):\n",
        "      self.pos_arr[i]+=self.pos_arr[i-1]\n",
        "    print(self.pos_arr)\n",
        "    for i in range(0,len(arr)):\n",
        "      self.output_arr[self.pos_arr[self.arr[i]]-1] = self.arr[i] \n",
        "      self.pos_arr[self.arr[i]]-=1\n",
        "      \n",
        "    self.output_arr2 = [chr(i) for i in self.output_arr]\n",
        "    print(self.output_arr2)\n",
        "    \n",
        "\n",
        "arr = \"eeeefggkkorss\"\n",
        "\n",
        "obj = CountingSort(arr)\n",
        "obj.compute()\n",
        "    \n",
        "    "
      ],
      "execution_count": 39,
      "outputs": [
        {
          "output_type": "stream",
          "text": [
            "[0, 0, 0, 0, 0, 0, 0, 0, 0, 0, 0, 0, 0, 0, 0, 0, 0, 0, 0, 0, 0, 0, 0, 0, 0, 0, 0, 0, 0, 0, 0, 0, 0, 0, 0, 0, 0, 0, 0, 0, 0, 0, 0, 0, 0, 0, 0, 0, 0, 0, 0, 0, 0, 0, 0, 0, 0, 0, 0, 0, 0, 0, 0, 0, 0, 0, 0, 0, 0, 0, 0, 0, 0, 0, 0, 0, 0, 0, 0, 0, 0, 0, 0, 0, 0, 0, 0, 0, 0, 0, 0, 0, 0, 0, 0, 0, 0, 0, 0, 0, 0, 4, 5, 7, 7, 7, 7, 9, 9, 9, 9, 10, 10, 10, 11, 13]\n",
            "['e', 'e', 'e', 'e', 'f', 'g', 'g', 'k', 'k', 'o', 'r', 's', 's']\n"
          ],
          "name": "stdout"
        }
      ]
    }
  ]
}