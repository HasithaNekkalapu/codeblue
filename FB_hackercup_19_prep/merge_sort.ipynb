{
  "nbformat": 4,
  "nbformat_minor": 0,
  "metadata": {
    "colab": {
      "name": "merge_sort.ipynb",
      "version": "0.3.2",
      "provenance": [],
      "include_colab_link": true
    },
    "kernelspec": {
      "name": "python3",
      "display_name": "Python 3"
    }
  },
  "cells": [
    {
      "cell_type": "markdown",
      "metadata": {
        "id": "view-in-github",
        "colab_type": "text"
      },
      "source": [
        "<a href=\"https://colab.research.google.com/github/thefr33radical/codeblue/blob/master/FB_hackercup_19_prep/merge_sort.ipynb\" target=\"_parent\"><img src=\"https://colab.research.google.com/assets/colab-badge.svg\" alt=\"Open In Colab\"/></a>"
      ]
    },
    {
      "cell_type": "code",
      "metadata": {
        "id": "ZmGrX3SAC0K9",
        "colab_type": "code",
        "colab": {
          "base_uri": "https://localhost:8080/",
          "height": 493
        },
        "outputId": "0953fd75-73f3-41ac-8184-cf011aeb8dc2"
      },
      "source": [
        "\n",
        "def msort(arr,low,high):\n",
        "  if low <high:\n",
        "    \n",
        "    mid = int((low+high)/2)\n",
        "    \n",
        "    print(mid)\n",
        "    msort(arr,low,mid)\n",
        "    msort(arr,mid+1,high)\n",
        "    arr = merge(arr,low,mid,high)\n",
        "    print(arr)\n",
        "    return arr\n",
        "    \n",
        "def merge(arr,low,mid,high):\n",
        "  start1 = int(low)\n",
        "  start2 = int(mid)+1\n",
        "  temp =[]\n",
        "  \n",
        "  while start1 <= mid and start2 <= high:\n",
        "    if arr[start1] < arr[start2]:\n",
        "      temp.append(arr[start1])\n",
        "      start1+=1\n",
        "      \n",
        "    else:\n",
        "      temp.append(arr[start2])\n",
        "      start2+=1\n",
        "  \n",
        "  while start1 <= mid:\n",
        "      temp.append(arr[start1])\n",
        "      start1+=1\n",
        "      \n",
        "  while start2 <= high:\n",
        "      temp.append(arr[start2])\n",
        "      start2+=1\n",
        "      \n",
        "  print(\"tmp\",temp, low, high)\n",
        "  \n",
        "  k = 0\n",
        "  for i in range(low,high+1):\n",
        "    arr[i]=temp[k]\n",
        "    k+=1\n",
        "    \n",
        "  return arr\n",
        "\n",
        "\n",
        "arr =[2,4,33,2,44,65,32,21,67,3]\n",
        "arr = msort(arr,0,len(arr)-1)\n",
        "print(arr)\n"
      ],
      "execution_count": 28,
      "outputs": [
        {
          "output_type": "stream",
          "text": [
            "4\n",
            "2\n",
            "1\n",
            "0\n",
            "tmp [2, 4] 0 1\n",
            "[2, 4, 33, 2, 44, 65, 32, 21, 67, 3]\n",
            "tmp [2, 4, 33] 0 2\n",
            "[2, 4, 33, 2, 44, 65, 32, 21, 67, 3]\n",
            "3\n",
            "tmp [2, 44] 3 4\n",
            "[2, 4, 33, 2, 44, 65, 32, 21, 67, 3]\n",
            "tmp [2, 2, 4, 33, 44] 0 4\n",
            "[2, 2, 4, 33, 44, 65, 32, 21, 67, 3]\n",
            "7\n",
            "6\n",
            "5\n",
            "tmp [32, 65] 5 6\n",
            "[2, 2, 4, 33, 44, 32, 65, 21, 67, 3]\n",
            "tmp [21, 32, 65] 5 7\n",
            "[2, 2, 4, 33, 44, 21, 32, 65, 67, 3]\n",
            "8\n",
            "tmp [3, 67] 8 9\n",
            "[2, 2, 4, 33, 44, 21, 32, 65, 3, 67]\n",
            "tmp [3, 21, 32, 65, 67] 5 9\n",
            "[2, 2, 4, 33, 44, 3, 21, 32, 65, 67]\n",
            "tmp [2, 2, 3, 4, 21, 32, 33, 44, 65, 67] 0 9\n",
            "[2, 2, 3, 4, 21, 32, 33, 44, 65, 67]\n",
            "[2, 2, 3, 4, 21, 32, 33, 44, 65, 67]\n"
          ],
          "name": "stdout"
        }
      ]
    }
  ]
}