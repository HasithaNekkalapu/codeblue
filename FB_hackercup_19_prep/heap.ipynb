{
  "nbformat": 4,
  "nbformat_minor": 0,
  "metadata": {
    "colab": {
      "name": "heap.ipynb",
      "version": "0.3.2",
      "provenance": [],
      "include_colab_link": true
    },
    "kernelspec": {
      "name": "python3",
      "display_name": "Python 3"
    }
  },
  "cells": [
    {
      "cell_type": "markdown",
      "metadata": {
        "id": "view-in-github",
        "colab_type": "text"
      },
      "source": [
        "<a href=\"https://colab.research.google.com/github/thefr33radical/codeblue/blob/master/FB_hackercup_19_prep/heap.ipynb\" target=\"_parent\"><img src=\"https://colab.research.google.com/assets/colab-badge.svg\" alt=\"Open In Colab\"/></a>"
      ]
    },
    {
      "cell_type": "code",
      "metadata": {
        "id": "P9HsXOLzYunG",
        "colab_type": "code",
        "colab": {
          "base_uri": "https://localhost:8080/",
          "height": 153
        },
        "outputId": "a920846b-84e6-4bdc-afba-f9e0be1c029f"
      },
      "source": [
        "\n",
        "\n",
        "class MINHeap():\n",
        "  \n",
        "  def __init__(self,n):\n",
        "    self.arr=[0]*n\n",
        "    self.last=0\n",
        "    \n",
        "  def parent(self,index):\n",
        "    return int(index/2)\n",
        "  \n",
        "  def swap(self,index1,index2):\n",
        "    temp = self.arr[index1]\n",
        "    self.arr[index1]=self.arr[index2]\n",
        "    self.arr[index2]=temp\n",
        "    \n",
        "  def delete(self):\n",
        "    if self.last <= 0:\n",
        "      print(\"Empty Heap\")\n",
        "      return\n",
        "    self.last-=1\n",
        "    \n",
        "    self.swap(0,self.last)\n",
        "    self.arr[self.last] = 0\n",
        "    self.heapify(0)\n",
        "  \n",
        "  def heapify(self,index):\n",
        "    if index <0:\n",
        "      return\n",
        "    \n",
        "    smallest = index\n",
        "    \n",
        "    # Assumption left and right node exists\n",
        "    left_index = int(2*index+1)\n",
        "    right_index = int(2*index+2)\n",
        "                \n",
        "    # if both index exits\n",
        "    if left_index < self.last and self.arr[left_index] < self.arr[index]:\n",
        "      smallest = left_index\n",
        "    if right_index < self.last and self.arr[right_index] < self.arr[index] and self.arr[right_index] < self.arr[left_index]:\n",
        "      smallest = right_index\n",
        "      \n",
        "    if smallest != index:\n",
        "      self.swap(index,smallest)\n",
        "      self.heapify(smallest)\n",
        "    \n",
        "    \n",
        "  def insert(self,val):\n",
        "    if self.last == len(self.arr):\n",
        "      print(\"Max elements reached\")\n",
        "      return \n",
        "    \n",
        "    self.arr[self.last]=val\n",
        "    current =self.last\n",
        "    p_index = self.parent(self.last)\n",
        "    \n",
        "    while p_index >=0 and self.arr[p_index] > self.arr[current]:\n",
        "      self.swap(p_index,current)\n",
        "      current = p_index\n",
        "      p_index = self.parent(current)\n",
        "      \n",
        "    self.last+=1\n",
        "    \n",
        "    \n",
        "obj = MINHeap(7)\n",
        "obj.insert(2)\n",
        "obj.insert(7)\n",
        "obj.insert(1)\n",
        "obj.insert(4)\n",
        "obj.insert(3)\n",
        "print(obj.arr)\n",
        "obj.insert(5)\n",
        "obj.insert(6)\n",
        "print(obj.arr)\n",
        "obj.delete()\n",
        "print(obj.arr)\n",
        "obj.delete()\n",
        "print(obj.arr) \n",
        "obj.delete()\n",
        "print(obj.arr) \n",
        "obj.delete()\n",
        "print(obj.arr) \n",
        "obj.delete()\n",
        "print(obj.arr) \n",
        "obj.insert(7)\n",
        "obj.insert(1)\n",
        "print(obj.arr) "
      ],
      "execution_count": 29,
      "outputs": [
        {
          "output_type": "stream",
          "text": [
            "[1, 2, 3, 4, 7, 0, 0]\n",
            "[1, 2, 3, 4, 7, 5, 6]\n",
            "[2, 4, 3, 6, 7, 5, 0]\n",
            "[3, 4, 5, 6, 7, 0, 0]\n",
            "[4, 6, 5, 7, 0, 0, 0]\n",
            "[5, 6, 7, 0, 0, 0, 0]\n",
            "[6, 7, 0, 0, 0, 0, 0]\n",
            "[1, 6, 7, 7, 0, 0, 0]\n"
          ],
          "name": "stdout"
        }
      ]
    }
  ]
}