{
  "nbformat": 4,
  "nbformat_minor": 0,
  "metadata": {
    "colab": {
      "name": "heap.ipynb",
      "version": "0.3.2",
      "provenance": [],
      "include_colab_link": true
    },
    "kernelspec": {
      "name": "python3",
      "display_name": "Python 3"
    }
  },
  "cells": [
    {
      "cell_type": "markdown",
      "metadata": {
        "id": "view-in-github",
        "colab_type": "text"
      },
      "source": [
        "<a href=\"https://colab.research.google.com/github/thefr33radical/codeblue/blob/master/FB_hackercup_19_prep/heap.ipynb\" target=\"_parent\"><img src=\"https://colab.research.google.com/assets/colab-badge.svg\" alt=\"Open In Colab\"/></a>"
      ]
    },
    {
      "cell_type": "code",
      "metadata": {
        "id": "LReUFi_gBCU6",
        "colab_type": "code",
        "colab": {
          "base_uri": "https://localhost:8080/",
          "height": 350
        },
        "outputId": "e8c009d4-a703-452d-9bfb-9062e26ff5c2"
      },
      "source": [
        "\n",
        "max_capacity = 8\n",
        "present_hcapacity = 0\n",
        "heap_tree = [0]*max_capacity\n",
        "\n",
        "def swap_elements(i,j):\n",
        "  temp=arr[i]\n",
        "  arr[i]=arr[j]\n",
        "  arr[j]=temp\n",
        "  \n",
        "def parent(index):\n",
        "  return int((index-1)/2)\n",
        "  \n",
        "\n",
        "  \n",
        "def heapify(node):\n",
        "  l = int((node+1)/2)\n",
        "  r = int((node+2)/2)\n",
        "  \n",
        "  smallet = node\n",
        "  if arr[node] <= arr[l] and arr[node] <= arr[r]:\n",
        "    return\n",
        "  elif arr[l] < arr [node] and arr[l] < arr[r]:\n",
        "    smallest = l\n",
        "  else:\n",
        "    smallest = r\n",
        "    \n",
        "  swap(arr[node],arr[smallest])\n",
        "  heapify(smallest)\n",
        "\n",
        "def delete_node():\n",
        "  swap(0,arr[present_capacity])\n",
        "  arr[present_capacity]=0\n",
        "  present_capacit-=1\n",
        "  heapify(0)\n",
        "  \n",
        "  \n",
        "def insert_node(node):\n",
        "  \"\"\"\n",
        "  \n",
        "  \"\"\" \n",
        "  if present_hcapacity == max_capacity:\n",
        "    return\n",
        "  \n",
        "  present_hcapacity+=1\n",
        "  i = present_capacity\n",
        "  arr[i] = node\n",
        "  \n",
        "  while i >=0 and  arr[parent(i)] < arr[i]:\n",
        "    swap_elements(parent(i),i)\n",
        "    i = parent(i)  \n",
        "    \n",
        "insert_node(3) \n",
        "insert_node(2) \n",
        "insert_node(1) \n",
        "insert_node(15) \n",
        "insert_node(5) \n",
        "insert_node(4) \n",
        "insert_node(45) \n",
        "  \n",
        "  \n",
        "   \n",
        "  "
      ],
      "execution_count": 4,
      "outputs": [
        {
          "output_type": "error",
          "ename": "UnboundLocalError",
          "evalue": "ignored",
          "traceback": [
            "\u001b[0;31m---------------------------------------------------------------------------\u001b[0m",
            "\u001b[0;31mUnboundLocalError\u001b[0m                         Traceback (most recent call last)",
            "\u001b[0;32m<ipython-input-4-261b0c5cde29>\u001b[0m in \u001b[0;36m<module>\u001b[0;34m()\u001b[0m\n\u001b[1;32m     51\u001b[0m     \u001b[0mi\u001b[0m \u001b[0;34m=\u001b[0m \u001b[0mparent\u001b[0m\u001b[0;34m(\u001b[0m\u001b[0mi\u001b[0m\u001b[0;34m)\u001b[0m\u001b[0;34m\u001b[0m\u001b[0;34m\u001b[0m\u001b[0m\n\u001b[1;32m     52\u001b[0m \u001b[0;34m\u001b[0m\u001b[0m\n\u001b[0;32m---> 53\u001b[0;31m \u001b[0minsert_node\u001b[0m\u001b[0;34m(\u001b[0m\u001b[0;36m3\u001b[0m\u001b[0;34m)\u001b[0m\u001b[0;34m\u001b[0m\u001b[0;34m\u001b[0m\u001b[0m\n\u001b[0m\u001b[1;32m     54\u001b[0m \u001b[0minsert_node\u001b[0m\u001b[0;34m(\u001b[0m\u001b[0;36m2\u001b[0m\u001b[0;34m)\u001b[0m\u001b[0;34m\u001b[0m\u001b[0;34m\u001b[0m\u001b[0m\n\u001b[1;32m     55\u001b[0m \u001b[0minsert_node\u001b[0m\u001b[0;34m(\u001b[0m\u001b[0;36m1\u001b[0m\u001b[0;34m)\u001b[0m\u001b[0;34m\u001b[0m\u001b[0;34m\u001b[0m\u001b[0m\n",
            "\u001b[0;32m<ipython-input-4-261b0c5cde29>\u001b[0m in \u001b[0;36minsert_node\u001b[0;34m(node)\u001b[0m\n\u001b[1;32m     40\u001b[0m \u001b[0;34m\u001b[0m\u001b[0m\n\u001b[1;32m     41\u001b[0m   \"\"\" \n\u001b[0;32m---> 42\u001b[0;31m   \u001b[0;32mif\u001b[0m \u001b[0mpresent_hcapacity\u001b[0m \u001b[0;34m==\u001b[0m \u001b[0mmax_capacity\u001b[0m\u001b[0;34m:\u001b[0m\u001b[0;34m\u001b[0m\u001b[0;34m\u001b[0m\u001b[0m\n\u001b[0m\u001b[1;32m     43\u001b[0m     \u001b[0;32mreturn\u001b[0m\u001b[0;34m\u001b[0m\u001b[0;34m\u001b[0m\u001b[0m\n\u001b[1;32m     44\u001b[0m \u001b[0;34m\u001b[0m\u001b[0m\n",
            "\u001b[0;31mUnboundLocalError\u001b[0m: local variable 'present_hcapacity' referenced before assignment"
          ]
        }
      ]
    },
    {
      "cell_type": "code",
      "metadata": {
        "id": "Y9YFqF7itdjJ",
        "colab_type": "code",
        "colab": {}
      },
      "source": [
        "\n",
        "\n",
        "\n",
        "\n"
      ],
      "execution_count": 0,
      "outputs": []
    }
  ]
}