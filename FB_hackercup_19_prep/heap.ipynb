{
  "nbformat": 4,
  "nbformat_minor": 0,
  "metadata": {
    "colab": {
      "name": "heap.ipynb",
      "version": "0.3.2",
      "provenance": [],
      "include_colab_link": true
    },
    "kernelspec": {
      "name": "python3",
      "display_name": "Python 3"
    }
  },
  "cells": [
    {
      "cell_type": "markdown",
      "metadata": {
        "id": "view-in-github",
        "colab_type": "text"
      },
      "source": [
        "<a href=\"https://colab.research.google.com/github/thefr33radical/codeblue/blob/master/FB_hackercup_19_prep/heap.ipynb\" target=\"_parent\"><img src=\"https://colab.research.google.com/assets/colab-badge.svg\" alt=\"Open In Colab\"/></a>"
      ]
    },
    {
      "cell_type": "code",
      "metadata": {
        "id": "LReUFi_gBCU6",
        "colab_type": "code",
        "colab": {}
      },
      "source": [
        "\n"
      ],
      "execution_count": 0,
      "outputs": []
    },
    {
      "cell_type": "code",
      "metadata": {
        "id": "Y9YFqF7itdjJ",
        "colab_type": "code",
        "colab": {
          "base_uri": "https://localhost:8080/",
          "height": 204
        },
        "outputId": "4062091e-1533-42e0-96c6-6dd5ce72fc8a"
      },
      "source": [
        "\n",
        "\n",
        "\n",
        "def swap_elements(arr,i,j):\n",
        "  temp=arr[i]\n",
        "  arr[i]=arr[j]\n",
        "  arr[j]=temp\n",
        "  return arr\n",
        "  \n",
        "def parent(index):\n",
        "  return int((index-1)/2)\n",
        "  \n",
        "\n",
        "  \n",
        "def heapify(arr, node):\n",
        "  l = int((node+1)/2)\n",
        "  r = int((node+2)/2)\n",
        "  \n",
        "  smallest = node\n",
        "  if arr[node] <= arr[l] and arr[node] <= arr[r]:\n",
        "    return\n",
        "  elif arr[l] < arr [node] and arr[l] < arr[r]:\n",
        "    smallest = l\n",
        "    arr = swap_elements(arr,node,smallest)\n",
        "    heapify(arr, smallest)\n",
        "  else:\n",
        "    smallest = r\n",
        "    arr = swap_elements(arr,node,smallest)\n",
        "    heapify(arr, smallest)\n",
        "    \n",
        "  \n",
        "\n",
        "def delete_node(arr, present_hcapacity):\n",
        "  print(present_hcapacity)\n",
        "  arr = swap_elements(arr,0,present_hcapacity-1)\n",
        "  arr[present_hcapacity-1]=0\n",
        "  present_hcapacity-=1\n",
        "  heapify(arr, 0)\n",
        "  print(arr)\n",
        "  return present_hcapacity,arr\n",
        "  \n",
        "  \n",
        "def insert_node(node, present_hcapacity,max_capacity,arr):\n",
        "  \"\"\"\n",
        "  \n",
        "  \"\"\" \n",
        "  if present_hcapacity == max_capacity:\n",
        "    return\n",
        "  \n",
        "  \n",
        "  i = present_hcapacity\n",
        "  arr[i] = node\n",
        "  present_hcapacity+=1\n",
        "  \n",
        "  while i >=0 and  arr[parent(i)] > arr[i]:\n",
        "    arr = swap_elements(arr,parent(i),i)\n",
        "    i = parent(i)  \n",
        "    \n",
        "  print(arr, present_hcapacity)\n",
        "  return present_hcapacity,max_capacity,arr\n",
        "\n",
        "max_capacity = 8\n",
        "present_hcapacity = 0\n",
        "arr = [999]*max_capacity\n",
        "present_hcapacity,max_capacity,arr = insert_node(3,present_hcapacity,max_capacity,arr) \n",
        "present_hcapacity,max_capacity,arr = insert_node(2,present_hcapacity,max_capacity,arr) \n",
        "present_hcapacity,max_capacity,arr= insert_node(1,present_hcapacity,max_capacity,arr) \n",
        "present_hcapacity,max_capacity,arr =insert_node(15,present_hcapacity,max_capacity,arr) \n",
        "present_hcapacity,max_capacity,arr = insert_node(5,present_hcapacity,max_capacity,arr) \n",
        "present_hcapacity,max_capacity,arr =insert_node(4,present_hcapacity,max_capacity,arr) \n",
        "present_hcapacity,max_capacity,arr =insert_node(45,present_hcapacity,max_capacity,arr) \n",
        "\n",
        "present_hcapacity, arr = delete_node(arr, present_hcapacity)\n",
        "present_hcapacity, arr = delete_node(arr, present_hcapacity)\n",
        "  \n",
        "   \n",
        "  "
      ],
      "execution_count": 34,
      "outputs": [
        {
          "output_type": "stream",
          "text": [
            "[3, 999, 999, 999, 999, 999, 999, 999] 1\n",
            "[2, 3, 999, 999, 999, 999, 999, 999] 2\n",
            "[1, 3, 2, 999, 999, 999, 999, 999] 3\n",
            "[1, 3, 2, 15, 999, 999, 999, 999] 4\n",
            "[1, 3, 2, 15, 5, 999, 999, 999] 5\n",
            "[1, 3, 2, 15, 5, 4, 999, 999] 6\n",
            "[1, 3, 2, 15, 5, 4, 45, 999] 7\n",
            "7\n",
            "[3, 45, 2, 15, 5, 4, 0, 999]\n",
            "6\n",
            "[4, 45, 2, 15, 5, 0, 0, 999]\n"
          ],
          "name": "stdout"
        }
      ]
    }
  ]
}