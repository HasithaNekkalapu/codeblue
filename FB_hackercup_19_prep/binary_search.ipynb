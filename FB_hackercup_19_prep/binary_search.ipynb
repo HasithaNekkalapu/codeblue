{
  "nbformat": 4,
  "nbformat_minor": 0,
  "metadata": {
    "colab": {
      "name": "binary_search.ipynb",
      "version": "0.3.2",
      "provenance": [],
      "include_colab_link": true
    },
    "kernelspec": {
      "name": "python3",
      "display_name": "Python 3"
    }
  },
  "cells": [
    {
      "cell_type": "markdown",
      "metadata": {
        "id": "view-in-github",
        "colab_type": "text"
      },
      "source": [
        "<a href=\"https://colab.research.google.com/github/thefr33radical/codeblue/blob/master/FB_hackercup_19_prep/binary_search.ipynb\" target=\"_parent\"><img src=\"https://colab.research.google.com/assets/colab-badge.svg\" alt=\"Open In Colab\"/></a>"
      ]
    },
    {
      "cell_type": "code",
      "metadata": {
        "id": "HhA_1k7RI4kr",
        "colab_type": "code",
        "colab": {
          "base_uri": "https://localhost:8080/",
          "height": 87
        },
        "outputId": "17821fa3-7241-4e2a-9e6e-1176e3601ce4"
      },
      "source": [
        "# T(C) = O(log n) | Number of Recursive function calls is O(number of sorter elements in array)\n",
        "# S(C) = O(n)+ O(logn) | size of array + depth of stack\n",
        "\n",
        "def bin_search(arr,low,high,key):\n",
        "  \"\"\"\n",
        "  Function to compute Binary Search\n",
        "  \"\"\"\n",
        "  mid = int((low+high)/2)\n",
        "  print(\" Low mid  high ele :\",low, mid,high, arr[mid])\n",
        "  if key == arr[mid]:\n",
        "    return 1,mid\n",
        "  else:\n",
        "    if key < arr[mid]:\n",
        "      return bin_search(arr,low,mid-1,key)\n",
        "    else:\n",
        "      return bin_search(arr,mid+1,high,key)\n",
        "            \n",
        "  return 0,0\n",
        "            \n",
        "arr =[1,2,3,4,5,6,87,89,90]\n",
        "key = 1\n",
        "print(\"output\",bin_search(arr,0,len(arr)-1,key))"
      ],
      "execution_count": 18,
      "outputs": [
        {
          "output_type": "stream",
          "text": [
            " Low mid  high ele : 0 4 8 5\n",
            " Low mid  high ele : 0 1 3 2\n",
            " Low mid  high ele : 0 0 0 1\n",
            "output (1, 0)\n"
          ],
          "name": "stdout"
        }
      ]
    }
  ]
}