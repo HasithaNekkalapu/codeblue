{
  "nbformat": 4,
  "nbformat_minor": 0,
  "metadata": {
    "colab": {
      "name": "graphs.ipynb",
      "provenance": [],
      "collapsed_sections": [],
      "authorship_tag": "ABX9TyO/48IWggt4UW09WAZ4feNs",
      "include_colab_link": true
    },
    "kernelspec": {
      "name": "python3",
      "display_name": "Python 3"
    }
  },
  "cells": [
    {
      "cell_type": "markdown",
      "metadata": {
        "id": "view-in-github",
        "colab_type": "text"
      },
      "source": [
        "<a href=\"https://colab.research.google.com/github/thefr33radical/codeblue/blob/master/graphs.ipynb\" target=\"_parent\"><img src=\"https://colab.research.google.com/assets/colab-badge.svg\" alt=\"Open In Colab\"/></a>"
      ]
    },
    {
      "cell_type": "markdown",
      "metadata": {
        "id": "sTr60UntwEKE",
        "colab_type": "text"
      },
      "source": [
        "# <b>Program to convert morse code to text & text to morse code"
      ]
    },
    {
      "cell_type": "code",
      "metadata": {
        "id": "quAkYR_fYN7_",
        "colab_type": "code",
        "colab": {}
      },
      "source": [
        "\n",
        "\n",
        "def insert_graph(morse_string):\n",
        "  g={}\n",
        "  \n",
        "  while i< len(morse_string):\n",
        "    g[]\n",
        "\n",
        "def string_to_morse(data):\n",
        "  \"\"\"\n",
        "  \"\"\"\n",
        "\n",
        "  morse_dct={}\n",
        "  morse_string=\"etmnusogkdwrus_.qzycxbjp#l_fvh\"\n",
        "\n",
        "  insert_graph(morse_string)\n",
        "\n",
        "\n"
      ],
      "execution_count": 0,
      "outputs": []
    },
    {
      "cell_type": "markdown",
      "metadata": {
        "id": "IeaknJBZwvt8",
        "colab_type": "text"
      },
      "source": [
        "# Topological Sorting"
      ]
    },
    {
      "cell_type": "code",
      "metadata": {
        "id": "H_GkIysnwurX",
        "colab_type": "code",
        "colab": {}
      },
      "source": [
        "import networkx as nx\n",
        "\n",
        "g=nx.Graph()\n",
        "edges=[(5,0),(5,2),(4,0),(4,1),(2,3),(3,1)]\n",
        "g.add_edges_from(edges)\n",
        "\n",
        "def construct_graph_from_edges(edges):\n",
        "  \"\"\"\n",
        "  Function to constuct \n",
        "  \"\"\"\n",
        "  graph={}\n",
        "\n",
        "  for ed in edges:\n",
        "    if ed[0] in graph:\n",
        "      pass\n",
        "    else:\n",
        "      graph[ed[0]]=[]\n",
        "      \n",
        "    if ed[1] in graph:\n",
        "        continue\n",
        "    else:\n",
        "      graph[ed[1]]=[]\n",
        "\n",
        "\n",
        "  for ed in edges:\n",
        "      graph[ed[0]].append(ed[1])\n",
        "  return graph    \n",
        "\n",
        "def topological_sort(graph,edges):\n",
        "  \"\"\"\n",
        "  Function to sort the vertices according to degree\n",
        "  \"\"\"\n",
        "  indegree={}\n",
        "  outdegree={}\n",
        "  visit={}\n",
        "  for i in graph.keys():\n",
        "    visit[i]=0\n",
        "  q=[]\n",
        "\n",
        "  for ed in edges:\n",
        "    try:  \n",
        "      indegree[ed[1]]+=1\n",
        "    except:\n",
        "      indegree[ed[1]]=1\n",
        "\n",
        "  for n in graph.keys():\n",
        "    if n not in indegree:\n",
        "      indegree[n]=0\n",
        "      q.append(n)\n",
        "\n",
        "  while(q):\n",
        "    \n",
        "    v=q.pop(0)\n",
        "    visit[v]=1\n",
        "    print(v,visit)\n",
        "    for i in graph[v]:\n",
        "      if visit[i]==1:\n",
        "        continue\n",
        "      else:                \n",
        "        indegree[i]-=1  \n",
        "        if indegree[i]==0:\n",
        "          q.append(i)\n",
        "\n",
        "  func=lambda x:x[1]\n",
        "\n",
        "graph=construct_graph_from_edges(edges)\n",
        "topological_sort(graph,edges)\n"
      ],
      "execution_count": 0,
      "outputs": []
    },
    {
      "cell_type": "code",
      "metadata": {
        "id": "JONeuv77pZ_F",
        "colab_type": "code",
        "colab": {}
      },
      "source": [
        "\n"
      ],
      "execution_count": 0,
      "outputs": []
    }
  ]
}