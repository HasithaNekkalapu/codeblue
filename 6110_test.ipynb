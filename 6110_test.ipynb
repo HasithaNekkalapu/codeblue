{
  "nbformat": 4,
  "nbformat_minor": 0,
  "metadata": {
    "colab": {
      "name": "6110_test.ipynb",
      "version": "0.3.2",
      "provenance": [],
      "include_colab_link": true
    },
    "kernelspec": {
      "name": "python3",
      "display_name": "Python 3"
    }
  },
  "cells": [
    {
      "cell_type": "markdown",
      "metadata": {
        "id": "view-in-github",
        "colab_type": "text"
      },
      "source": [
        "<a href=\"https://colab.research.google.com/github/thefr33radical/codeblue/blob/master/6110_test.ipynb\" target=\"_parent\"><img src=\"https://colab.research.google.com/assets/colab-badge.svg\" alt=\"Open In Colab\"/></a>"
      ]
    },
    {
      "cell_type": "code",
      "metadata": {
        "id": "cNp4aEZXuFvZ",
        "colab_type": "code",
        "colab": {}
      },
      "source": [
        "import pandas as pd\n",
        "import numpy as np\n",
        "# Create data set\n",
        "from google.colab import files\n",
        "import io\n",
        "\n",
        "\n",
        "data = files.upload()\n",
        "\n",
        "df1 = pd.read_csv(io.BytesIO(data[\"test.csv\"]))\n",
        "print(df1)\n"
      ],
      "execution_count": 0,
      "outputs": []
    },
    {
      "cell_type": "code",
      "metadata": {
        "id": "rTPkSFzuztBF",
        "colab_type": "code",
        "colab": {
          "base_uri": "https://localhost:8080/",
          "height": 297
        },
        "outputId": "7d27fe85-4df9-46e1-b734-d629011bb7b9"
      },
      "source": [
        "df1.describe()\n"
      ],
      "execution_count": 46,
      "outputs": [
        {
          "output_type": "execute_result",
          "data": {
            "text/html": [
              "<div>\n",
              "<style scoped>\n",
              "    .dataframe tbody tr th:only-of-type {\n",
              "        vertical-align: middle;\n",
              "    }\n",
              "\n",
              "    .dataframe tbody tr th {\n",
              "        vertical-align: top;\n",
              "    }\n",
              "\n",
              "    .dataframe thead th {\n",
              "        text-align: right;\n",
              "    }\n",
              "</style>\n",
              "<table border=\"1\" class=\"dataframe\">\n",
              "  <thead>\n",
              "    <tr style=\"text-align: right;\">\n",
              "      <th></th>\n",
              "      <th>PassengerId</th>\n",
              "      <th>Survived</th>\n",
              "      <th>Pclass</th>\n",
              "      <th>Age</th>\n",
              "      <th>SibSp</th>\n",
              "      <th>Parch</th>\n",
              "      <th>Fare</th>\n",
              "    </tr>\n",
              "  </thead>\n",
              "  <tbody>\n",
              "    <tr>\n",
              "      <th>count</th>\n",
              "      <td>891.000000</td>\n",
              "      <td>891.000000</td>\n",
              "      <td>891.000000</td>\n",
              "      <td>714.000000</td>\n",
              "      <td>891.000000</td>\n",
              "      <td>891.000000</td>\n",
              "      <td>891.000000</td>\n",
              "    </tr>\n",
              "    <tr>\n",
              "      <th>mean</th>\n",
              "      <td>446.000000</td>\n",
              "      <td>0.383838</td>\n",
              "      <td>2.308642</td>\n",
              "      <td>29.699118</td>\n",
              "      <td>0.523008</td>\n",
              "      <td>0.381594</td>\n",
              "      <td>32.204208</td>\n",
              "    </tr>\n",
              "    <tr>\n",
              "      <th>std</th>\n",
              "      <td>257.353842</td>\n",
              "      <td>0.486592</td>\n",
              "      <td>0.836071</td>\n",
              "      <td>14.526497</td>\n",
              "      <td>1.102743</td>\n",
              "      <td>0.806057</td>\n",
              "      <td>49.693429</td>\n",
              "    </tr>\n",
              "    <tr>\n",
              "      <th>min</th>\n",
              "      <td>1.000000</td>\n",
              "      <td>0.000000</td>\n",
              "      <td>1.000000</td>\n",
              "      <td>0.420000</td>\n",
              "      <td>0.000000</td>\n",
              "      <td>0.000000</td>\n",
              "      <td>0.000000</td>\n",
              "    </tr>\n",
              "    <tr>\n",
              "      <th>25%</th>\n",
              "      <td>223.500000</td>\n",
              "      <td>0.000000</td>\n",
              "      <td>2.000000</td>\n",
              "      <td>20.125000</td>\n",
              "      <td>0.000000</td>\n",
              "      <td>0.000000</td>\n",
              "      <td>7.910400</td>\n",
              "    </tr>\n",
              "    <tr>\n",
              "      <th>50%</th>\n",
              "      <td>446.000000</td>\n",
              "      <td>0.000000</td>\n",
              "      <td>3.000000</td>\n",
              "      <td>28.000000</td>\n",
              "      <td>0.000000</td>\n",
              "      <td>0.000000</td>\n",
              "      <td>14.454200</td>\n",
              "    </tr>\n",
              "    <tr>\n",
              "      <th>75%</th>\n",
              "      <td>668.500000</td>\n",
              "      <td>1.000000</td>\n",
              "      <td>3.000000</td>\n",
              "      <td>38.000000</td>\n",
              "      <td>1.000000</td>\n",
              "      <td>0.000000</td>\n",
              "      <td>31.000000</td>\n",
              "    </tr>\n",
              "    <tr>\n",
              "      <th>max</th>\n",
              "      <td>891.000000</td>\n",
              "      <td>1.000000</td>\n",
              "      <td>3.000000</td>\n",
              "      <td>80.000000</td>\n",
              "      <td>8.000000</td>\n",
              "      <td>6.000000</td>\n",
              "      <td>512.329200</td>\n",
              "    </tr>\n",
              "  </tbody>\n",
              "</table>\n",
              "</div>"
            ],
            "text/plain": [
              "       PassengerId    Survived      Pclass  ...       SibSp       Parch        Fare\n",
              "count   891.000000  891.000000  891.000000  ...  891.000000  891.000000  891.000000\n",
              "mean    446.000000    0.383838    2.308642  ...    0.523008    0.381594   32.204208\n",
              "std     257.353842    0.486592    0.836071  ...    1.102743    0.806057   49.693429\n",
              "min       1.000000    0.000000    1.000000  ...    0.000000    0.000000    0.000000\n",
              "25%     223.500000    0.000000    2.000000  ...    0.000000    0.000000    7.910400\n",
              "50%     446.000000    0.000000    3.000000  ...    0.000000    0.000000   14.454200\n",
              "75%     668.500000    1.000000    3.000000  ...    1.000000    0.000000   31.000000\n",
              "max     891.000000    1.000000    3.000000  ...    8.000000    6.000000  512.329200\n",
              "\n",
              "[8 rows x 7 columns]"
            ]
          },
          "metadata": {
            "tags": []
          },
          "execution_count": 46
        }
      ]
    },
    {
      "cell_type": "code",
      "metadata": {
        "id": "RkDel0jGz6XX",
        "colab_type": "code",
        "colab": {
          "base_uri": "https://localhost:8080/",
          "height": 315
        },
        "outputId": "9baa7494-1a16-416e-91f6-8e1da165045d"
      },
      "source": [
        "df1.hist(column=[\"Age\"])"
      ],
      "execution_count": 44,
      "outputs": [
        {
          "output_type": "execute_result",
          "data": {
            "text/plain": [
              "array([[<matplotlib.axes._subplots.AxesSubplot object at 0x7f024ece3e80>]],\n",
              "      dtype=object)"
            ]
          },
          "metadata": {
            "tags": []
          },
          "execution_count": 44
        },
        {
          "output_type": "display_data",
          "data": {
            "image/png": "[encoded data removed]",
            "text/plain": [
              "<Figure size 432x288 with 1 Axes>"
            ]
          },
          "metadata": {
            "tags": []
          }
        }
      ]
    },
    {
      "cell_type": "code",
      "metadata": {
        "id": "vbFGjKz11UzD",
        "colab_type": "code",
        "colab": {
          "base_uri": "https://localhost:8080/",
          "height": 1000
        },
        "outputId": "c7b6b939-913e-4c0e-abf8-ea10a1378447"
      },
      "source": [
        "from sklearn.linear_model import LinearRegression\n",
        "\n",
        "model = LinearRegression()\n",
        "\n",
        "df1=df1.fillna(0)\n",
        "x=np.array(df1[\"Age\"])\n",
        "\n",
        "x= x.reshape(1,-1)\n",
        "\n",
        "y=np.array(df1[\"Fare\"])\n",
        "y= y.reshape(1,-1)\n",
        "\n",
        "model.fit(x,y)\n",
        "print(model.intercept_)"
      ],
      "execution_count": 53,
      "outputs": [
        {
          "output_type": "stream",
          "text": [
            "[  7.25    71.2833   7.925   53.1      8.05     8.4583  51.8625  21.075\n",
            "  11.1333  30.0708  16.7     26.55     8.05    31.275    7.8542  16.\n",
            "  29.125   13.      18.       7.225   26.      13.       8.0292  35.5\n",
            "  21.075   31.3875   7.225  263.       7.8792   7.8958  27.7208 146.5208\n",
            "   7.75    10.5     82.1708  52.       7.2292   8.05    18.      11.2417\n",
            "   9.475   21.       7.8958  41.5792   7.8792   8.05    15.5      7.75\n",
            "  21.6792  17.8     39.6875   7.8     76.7292  26.      61.9792  35.5\n",
            "  10.5      7.2292  27.75    46.9      7.2292  80.      83.475   27.9\n",
            "  27.7208  15.2458  10.5      8.1583   7.925    8.6625  10.5     46.9\n",
            "  73.5     14.4542  56.4958   7.65     7.8958   8.05    29.      12.475\n",
            "   9.       9.5      7.7875  47.1     10.5     15.85    34.375    8.05\n",
            " 263.       8.05     8.05     7.8542  61.175   20.575    7.25     8.05\n",
            "  34.6542  63.3583  23.      26.       7.8958   7.8958  77.2875   8.6542\n",
            "   7.925    7.8958   7.65     7.775    7.8958  24.15    52.      14.4542\n",
            "   8.05     9.825   14.4583   7.925    7.75    21.     247.5208  31.275\n",
            "  73.5      8.05    30.0708  13.      77.2875  11.2417   7.75     7.1417\n",
            "  22.3583   6.975    7.8958   7.05    14.5     26.      13.      15.0458\n",
            "  26.2833  53.1      9.2167  79.2     15.2458   7.75    15.85     6.75\n",
            "  11.5     36.75     7.7958  34.375   26.      13.      12.525   66.6\n",
            "   8.05    14.5      7.3125  61.3792   7.7333   8.05     8.6625  69.55\n",
            "  16.1     15.75     7.775    8.6625  39.6875  20.525   55.      27.9\n",
            "  25.925   56.4958  33.5     29.125   11.1333   7.925   30.6958   7.8542\n",
            "  25.4667  28.7125  13.       0.      69.55    15.05    31.3875  39.\n",
            "  22.025   50.      15.5     26.55    15.5      7.8958  13.      13.\n",
            "   7.8542  26.      27.7208 146.5208   7.75     8.4042   7.75    13.\n",
            "   9.5     69.55     6.4958   7.225    8.05    10.4625  15.85    18.7875\n",
            "   7.75    31.       7.05    21.       7.25    13.       7.75   113.275\n",
            "   7.925   27.      76.2917  10.5      8.05    13.       8.05     7.8958\n",
            "  90.       9.35    10.5      7.25    13.      25.4667  83.475    7.775\n",
            "  13.5     31.3875  10.5      7.55    26.      26.25    10.5     12.275\n",
            "  14.4542  15.5     10.5      7.125    7.225   90.       7.775   14.5\n",
            "  52.5542  26.       7.25    10.4625  26.55    16.1     20.2125  15.2458\n",
            "  79.2     86.5    512.3292  26.       7.75    31.3875  79.65     0.\n",
            "   7.75    10.5     39.6875   7.775  153.4625 135.6333  31.       0.\n",
            "  19.5     29.7      7.75    77.9583   7.75     0.      29.125   20.25\n",
            "   7.75     7.8542   9.5      8.05    26.       8.6625   9.5      7.8958\n",
            "  13.       7.75    78.85    91.0792  12.875    8.85     7.8958  27.7208\n",
            "   7.2292 151.55    30.5    247.5208   7.75    23.25     0.      12.35\n",
            "   8.05   151.55   110.8833 108.9     24.      56.9292  83.1583 262.375\n",
            "  26.       7.8958  26.25     7.8542  26.      14.     164.8667 134.5\n",
            "   7.25     7.8958  12.35    29.      69.55   135.6333   6.2375  13.\n",
            "  20.525   57.9792  23.25    28.5    153.4625  18.     133.65     7.8958\n",
            "  66.6    134.5      8.05    35.5     26.     263.      13.      13.\n",
            "  13.      13.      13.      16.1     15.9      8.6625   9.225   35.\n",
            "   7.2292  17.8      7.225    9.5     55.      13.       7.8792   7.8792\n",
            "  27.9     27.7208  14.4542   7.05    15.5      7.25    75.25     7.2292\n",
            "   7.75    69.3     55.4417   6.4958   8.05   135.6333  21.075   82.1708\n",
            "   7.25   211.5      4.0125   7.775  227.525   15.7417   7.925   52.\n",
            "   7.8958  73.5     46.9     13.       7.7292  12.     120.       7.7958\n",
            "   7.925  113.275   16.7      7.7958   7.8542  26.      10.5     12.65\n",
            "   7.925    8.05     9.825   15.85     8.6625  21.       7.75    18.75\n",
            "   7.775   25.4667   7.8958   6.8583  90.       0.       7.925    8.05\n",
            "  32.5     13.      13.      24.15     7.8958   7.7333   7.875   14.4\n",
            "  20.2125   7.25    26.      26.       7.75     8.05    26.55    16.1\n",
            "  26.       7.125   55.9    120.      34.375   18.75   263.      10.5\n",
            "  26.25     9.5      7.775   13.       8.1125  81.8583  19.5     26.55\n",
            "  19.2583  30.5     27.75    19.9667  27.75    89.1042   8.05     7.8958\n",
            "  26.55    51.8625  10.5      7.75    26.55     8.05    38.5     13.\n",
            "   8.05     7.05     0.      26.55     7.725   19.2583   7.25     8.6625\n",
            "  27.75    13.7917   9.8375  52.      21.       7.0458   7.5208  12.2875\n",
            "  46.9      0.       8.05     9.5875  91.0792  25.4667  90.      29.7\n",
            "   8.05    15.9     19.9667   7.25    30.5     49.5042   8.05    14.4583\n",
            "  78.2667  15.1    151.55     7.7958   8.6625   7.75     7.6292   9.5875\n",
            "  86.5    108.9     26.      26.55    22.525   56.4958   7.75     8.05\n",
            "  26.2875  59.4      7.4958  34.0208  10.5     24.15    26.       7.8958\n",
            "  93.5      7.8958   7.225   57.9792   7.2292   7.75    10.5    221.7792\n",
            "   7.925   11.5     26.       7.2292   7.2292  22.3583   8.6625  26.25\n",
            "  26.55   106.425   14.5     49.5     71.      31.275   31.275   26.\n",
            " 106.425   26.      26.      13.8625  20.525   36.75   110.8833  26.\n",
            "   7.8292   7.225    7.775   26.55    39.6    227.525   79.65    17.4\n",
            "   7.75     7.8958  13.5      8.05     8.05    24.15     7.8958  21.075\n",
            "   7.2292   7.8542  10.5     51.4792  26.3875   7.75     8.05    14.5\n",
            "  13.      55.9     14.4583   7.925   30.     110.8833  26.      40.125\n",
            "   8.7125  79.65    15.      79.2      8.05     8.05     7.125   78.2667\n",
            "   7.25     7.75    26.      24.15    33.       0.       7.225   56.9292\n",
            "  27.       7.8958  42.4      8.05    26.55    15.55     7.8958  30.5\n",
            "  41.5792 153.4625  31.275    7.05    15.5      7.75     8.05    65.\n",
            "  14.4     16.1     39.      10.5     14.4542  52.5542  15.7417   7.8542\n",
            "  16.1     32.3208  12.35    77.9583   7.8958   7.7333  30.       7.0542\n",
            "  30.5      0.      27.9     13.       7.925   26.25    39.6875  16.1\n",
            "   7.8542  69.3     27.9     56.4958  19.2583  76.7292   7.8958  35.5\n",
            "   7.55     7.55     7.8958  23.       8.4333   7.8292   6.75    73.5\n",
            "   7.8958  15.5     13.     113.275  133.65     7.225   25.5875   7.4958\n",
            "   7.925   73.5     13.       7.775    8.05    52.      39.      52.\n",
            "  10.5     13.       0.       7.775    8.05     9.8417  46.9    512.3292\n",
            "   8.1375  76.7292   9.225   46.9     39.      41.5792  39.6875  10.1708\n",
            "   7.7958 211.3375  57.      13.4167  56.4958   7.225   26.55    13.5\n",
            "   8.05     7.7333 110.8833   7.65   227.525   26.2875  14.4542   7.7417\n",
            "   7.8542  26.      13.5     26.2875 151.55    15.2458  49.5042  26.55\n",
            "  52.       9.4833  13.       7.65   227.525   10.5     15.5      7.775\n",
            "  33.       7.0542  13.      13.      53.1      8.6625  21.       7.7375\n",
            "  26.       7.925  211.3375  18.7875   0.      13.      13.      16.1\n",
            "  34.375  512.3292   7.8958   7.8958  30.      78.85   262.375   16.1\n",
            "   7.925   71.      20.25    13.      53.1      7.75    23.      12.475\n",
            "   9.5      7.8958  65.      14.5      7.7958  11.5      8.05    86.5\n",
            "  14.5      7.125    7.2292 120.       7.775   77.9583  39.6      7.75\n",
            "  24.15     8.3625   9.5      7.8542  10.5      7.225   23.       7.75\n",
            "   7.75    12.475    7.7375 211.3375   7.2292  57.      30.      23.45\n",
            "   7.05     7.25     7.4958  29.125   20.575   79.2      7.75    26.\n",
            "  69.55    30.6958   7.8958  13.      25.9292   8.6833   7.2292  24.15\n",
            "  13.      26.25   120.       8.5167   6.975    7.775    0.       7.775\n",
            "  13.      53.1      7.8875  24.15    10.5     31.275    8.05     0.\n",
            "   7.925   37.0042   6.45    27.9     93.5      8.6625   0.      12.475\n",
            "  39.6875   6.95    56.4958  37.0042   7.75    80.      14.4542  18.75\n",
            "   7.2292   7.8542   8.3     83.1583   8.6625   8.05    56.4958  29.7\n",
            "   7.925   10.5     31.       6.4375   8.6625   7.55    69.55     7.8958\n",
            "  33.      89.1042  31.275    7.775   15.2458  39.4     26.       9.35\n",
            " 164.8667  26.55    19.2583   7.2292  14.1083  11.5     25.9292  69.55\n",
            "  13.      13.      13.8583  50.4958   9.5     11.1333   7.8958  52.5542\n",
            "   5.       9.      24.       7.225    9.8458   7.8958   7.8958  83.1583\n",
            "  26.       7.8958  10.5167  10.5      7.05    29.125   13.      30.\n",
            "  23.45    30.       7.75  ]\n"
          ],
          "name": "stdout"
        }
      ]
    }
  ]
}