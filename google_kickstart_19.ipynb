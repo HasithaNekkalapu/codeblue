{
  "nbformat": 4,
  "nbformat_minor": 0,
  "metadata": {
    "colab": {
      "name": "google_kickstart_19.ipynb",
      "version": "0.3.2",
      "provenance": [],
      "include_colab_link": true
    },
    "kernelspec": {
      "name": "python3",
      "display_name": "Python 3"
    }
  },
  "cells": [
    {
      "cell_type": "markdown",
      "metadata": {
        "id": "view-in-github",
        "colab_type": "text"
      },
      "source": [
        "<a href=\"https://colab.research.google.com/github/thefr33radical/codeblue/blob/master/google_kickstart_19.ipynb\" target=\"_parent\"><img src=\"https://colab.research.google.com/assets/colab-badge.svg\" alt=\"Open In Colab\"/></a>"
      ]
    },
    {
      "cell_type": "markdown",
      "metadata": {
        "id": "Uq503eifL_fv",
        "colab_type": "text"
      },
      "source": [
        "Algorithms\n",
        "\n",
        "* https://machinelearningmastery.com/develop-a-deep-learning-caption-generation-model-in-python/\n",
        "\n",
        "\n",
        "#### System Design\n",
        "* https://github.com/shashank88/system_design#designques\n",
        "* https://www.youtube.com/watch?v=ZgdS0EUmn70&list=PL73KFetZlkJSZ9vTDSJ1swZhe6CIYkqTL\n",
        "* https://www.youtube.com/playlist?list=PLrmLmBdmIlps7GJJWW9I7N0P0rB0C3eY2\n",
        "* https://medium.com/@harishoraon/system-design-interview-its-easy-if-you-do-it-smart-64f2c23d3f74\n",
        "* https://gist.github.com/vasanthk/485d1c25737e8e72759f\n",
        "* https://hackernoon.com/top-10-system-design-interview-questions-for-software-engineers-8561290f0444\n",
        "\n"
      ]
    },
    {
      "cell_type": "markdown",
      "metadata": {
        "id": "OXSoppb9t609",
        "colab_type": "text"
      },
      "source": [
        "### Questions\n",
        "\n",
        "Find th maximal at that level \n",
        "\n",
        "\n",
        "arr = []"
      ]
    },
    {
      "cell_type": "code",
      "metadata": {
        "colab_type": "code",
        "id": "nMZR9MSJ6ljx",
        "colab": {}
      },
      "source": [
        "arr= [1,2,3,4,5,0,8,0,0,0,0,10,7]\n",
        "\n",
        "\n",
        "def sum_level(arr,lvl_sum,node,l):\n",
        "  try:\n",
        "      lvl_sum[l] += arr[node]\n",
        "      #print(arr[node])\n",
        "  except:\n",
        "        lvl_sum[l] = arr[node]\n",
        "          \n",
        "\n",
        "def find_sum_at_level(arr):\n",
        "  level=0\n",
        "  max_sum = arr[0]\n",
        "  q=[]\n",
        "  q.append([0,0])\n",
        "  \n",
        "  lvl_sum={}\n",
        "  lvl_sum[0]=max_sum\n",
        "  \n",
        "  while(q):\n",
        "    node = q.pop(len(q)-1)\n",
        "    cur_level = node[0]\n",
        "    cur_node = node[1]\n",
        "    print(node)\n",
        "    \n",
        "    try :      \n",
        "      lkid = cur_node*2 + 1\n",
        "      lkid_level = cur_level+1\n",
        "      \n",
        "      # append node only if its valid\n",
        "      if lkid >len(arr)-1:\n",
        "        continue\n",
        "        \n",
        "      q.append([cur_level+1,lkid])\n",
        "      sum_level(arr,lvl_sum,lkid,lkid_level)\n",
        "    except:\n",
        "      continue\n",
        "      \n",
        "    try :\n",
        "      rkid = cur_node*2 + 2\n",
        "      rkid_level = cur_level+1  \n",
        "      \n",
        "      if rkid >len(arr)-1:\n",
        "        continue\n",
        "        \n",
        "      q.append([cur_level+1,rkid])\n",
        "      sum_level(arr,lvl_sum,rkid,rkid_level)\n",
        "    except:\n",
        "      continue        \n",
        "      \n",
        "      \n",
        "  print(max(lvl_sum, key=lambda k: lvl_sum[k]))\n",
        "\n",
        "  \n",
        "find_sum_at_level(arr)\n",
        "  "
      ],
      "execution_count": 0,
      "outputs": []
    },
    {
      "cell_type": "code",
      "metadata": {
        "id": "TiVcBD25Ykxz",
        "colab_type": "code",
        "colab": {}
      },
      "source": [
        "# Diagonal Traversal of Binary Tree\n",
        "# Find Leftmost and Rightmost node of BST from its given preorder traversal\n",
        "# Check if the given n-ary tree is a binary tree\n",
        "# Diagonal Sum of a Binary Tree\n",
        "# Fibonacci Heap\n",
        "# Edmond Karp/Bellman Ford\n",
        "# MST : Kruskal\n",
        "# MST : Prim\n",
        "# Shortest Path: Dijkstra\n",
        "# BFS/DFS/Traversal\n",
        "# All path shortest path : Ford Fulkerson\n",
        "# Flloyd Warshall\n",
        "# Check if two nodes in a Binary Tree are siblings\n",
        "# BST\n",
        "# https://www.geeksforgeeks.org/minimum-swap-required-convert-binary-tree-binary-search-tree/\n",
        "# Print Binary Search Tree in Min Max Fashion\n",
        "# Reverse tree path using Queue\n",
        "# Find the color of given node in an infinite binary tree"
      ],
      "execution_count": 0,
      "outputs": []
    },
    {
      "cell_type": "code",
      "metadata": {
        "id": "661vv_Cs9Jh6",
        "colab_type": "code",
        "colab": {
          "base_uri": "https://localhost:8080/",
          "height": 34
        },
        "outputId": "db91fbaa-bfe7-4ebd-91f9-0815f078c005"
      },
      "source": [
        "# String comparison Google internship Question\n",
        "\n",
        "def issmall(str1,str2):\n",
        "  t1=list(str1)\n",
        "  t2=list(str2)\n",
        "  \n",
        "  #if starting letter is less for str1 return 1\n",
        "  if t1[0]<t2[0]:\n",
        "    return 1\n",
        "  \n",
        "  d1={}\n",
        "  d2={}\n",
        "  # Load list of charecters into dictionary d1 and d2\n",
        "  for i in t1:\n",
        "    try:\n",
        "      d1[i]+=1\n",
        "    except:\n",
        "      d1[i]=1\n",
        "      \n",
        "  for i in t2:\n",
        "    try:\n",
        "      d2[i]+=1\n",
        "    except:\n",
        "      d2[i]=1\n",
        "      \n",
        "  while(1 and d1 and d2):\n",
        "    m1=min(d1)\n",
        "    m2=min(d2)\n",
        "    \n",
        "    # Casee1 : if both have different min character\n",
        "    if m1 < m2:\n",
        "      return 1\n",
        "    elif m2 >m1:\n",
        "      return 0\n",
        "    # Case2 : if both min characters of both string are equal but their frequency is unequal\n",
        "    if d1[m1] > d2[m2] and m1==m2:\n",
        "      return 1\n",
        "    elif d1[m1] < d2[m2] and m1==m2:\n",
        "      return 0\n",
        "    # Case3 : if both min characters of both string are equal and their frequency is equal\n",
        "    if d1[m1] == d2[m2] and m1==m2:\n",
        "      d1.pop(m1)\n",
        "      d2.pop(m2)\n",
        "    \n",
        "      # if one or both the string runs out of characters\n",
        "      # 3a\n",
        "      if d1 is None and d2 is None:\n",
        "        return 0\n",
        "      # 3b\n",
        "      if d1 is None and d2 is not None:\n",
        "        return 1\n",
        "      # 3c\n",
        "      if  d2 is None and d2 is not None:\n",
        "        return 0\n",
        "  \n",
        "a=\"abcd aabc abd\"\n",
        "b=\"aaa aa\"\n",
        "\n",
        "l1=a.split(\" \")\n",
        "l2=b.split(\" \")\n",
        "\n",
        "arr=[0]*len(l2)\n",
        "\n",
        "j=0\n",
        "while j <len(l2):\n",
        "  i=0\n",
        "  while i <len(l1):\n",
        "    if issmall(l2[j],l1[i]):\n",
        "      arr[j]+=1\n",
        "    i+=1\n",
        "  j+=1\n",
        "\n",
        "print(arr)"
      ],
      "execution_count": 14,
      "outputs": [
        {
          "output_type": "stream",
          "text": [
            "[3, 2]\n"
          ],
          "name": "stdout"
        }
      ]
    }
  ]
}