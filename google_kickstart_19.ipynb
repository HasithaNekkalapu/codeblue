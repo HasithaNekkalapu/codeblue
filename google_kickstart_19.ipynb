{
  "nbformat": 4,
  "nbformat_minor": 0,
  "metadata": {
    "colab": {
      "name": "google_kickstart_19.ipynb",
      "version": "0.3.2",
      "provenance": [],
      "include_colab_link": true
    },
    "kernelspec": {
      "name": "python3",
      "display_name": "Python 3"
    }
  },
  "cells": [
    {
      "cell_type": "markdown",
      "metadata": {
        "id": "view-in-github",
        "colab_type": "text"
      },
      "source": [
        "<a href=\"https://colab.research.google.com/github/thefr33radical/codeblue/blob/master/google_kickstart_19.ipynb\" target=\"_parent\"><img src=\"https://colab.research.google.com/assets/colab-badge.svg\" alt=\"Open In Colab\"/></a>"
      ]
    },
    {
      "cell_type": "markdown",
      "metadata": {
        "id": "Uq503eifL_fv",
        "colab_type": "text"
      },
      "source": [
        "Algorithms\n",
        "\n",
        "* https://machinelearningmastery.com/develop-a-deep-learning-caption-generation-model-in-python/\n",
        "\n",
        "\n",
        "#### System Design\n",
        "* https://github.com/shashank88/system_design#designques\n",
        "* https://www.youtube.com/watch?v=ZgdS0EUmn70&list=PL73KFetZlkJSZ9vTDSJ1swZhe6CIYkqTL\n",
        "* https://www.youtube.com/playlist?list=PLrmLmBdmIlps7GJJWW9I7N0P0rB0C3eY2\n",
        "* https://medium.com/@harishoraon/system-design-interview-its-easy-if-you-do-it-smart-64f2c23d3f74\n",
        "* https://gist.github.com/vasanthk/485d1c25737e8e72759f\n",
        "* https://hackernoon.com/top-10-system-design-interview-questions-for-software-engineers-8561290f0444\n",
        "\n"
      ]
    }
  ]
}