{
  "nbformat": 4,
  "nbformat_minor": 0,
  "metadata": {
    "colab": {
      "name": "decoder.ipynb",
      "version": "0.3.2",
      "provenance": [],
      "include_colab_link": true
    },
    "kernelspec": {
      "name": "python3",
      "display_name": "Python 3"
    }
  },
  "cells": [
    {
      "cell_type": "markdown",
      "metadata": {
        "id": "view-in-github",
        "colab_type": "text"
      },
      "source": [
        "<a href=\"https://colab.research.google.com/github/thefr33radical/codeblue/blob/master/scratch/decoder.ipynb\" target=\"_parent\"><img src=\"https://colab.research.google.com/assets/colab-badge.svg\" alt=\"Open In Colab\"/></a>"
      ]
    },
    {
      "cell_type": "code",
      "metadata": {
        "id": "8YJoLycI-6gm",
        "colab_type": "code",
        "colab": {
          "base_uri": "https://localhost:8080/",
          "height": 72
        },
        "outputId": "b952aa58-ff54-427a-a487-ff2d48af17ce"
      },
      "source": [
        "code = \"0123456789ABCDEFGHIJKLMNOPQRSTUVWXYZabcdefghijklmnopqrstuvwxyz!#$%&()*+-;<=>?@^_`{|}~\"\n",
        "messages = [\"Uc{5g9sm&reYjuV^niYop<LE*pc@=od<AWPV(F4$2v4=Y-A1Xj{$LlrkQ@7uh<XTRCEAN#Q6>2t-QtLK`nHq2Rf?Mw^uf-l#gt(G4m@6RVjH)Vb*L&#PoRlNK3^cX^ZY;#0Zy^Eo&81Y@)a%)aMqiqbTm3w3POA8tE|z$Hn;$rB7}}r6w2Og_UyYfWgR5%l^aohz`dbQyr1&H|jW~3Q%00d=UN3HfjaUqVD{xrKZ4s2T!jS^#CFNom91>38}nMOjAMOwnig&=;g$jsLRVExkcugsz67@IcO+Sq$g8jdK)kQ6|o>@xv+avx6%q|O&r8vsZ^~?$nGqd1VN3Zx6)H;i^;-QyNl48yN;fciWm^N@Ag4yZyHRW*Xy<oz<7hwetFCZI4tm=GjBTIu7|x>brq&nx;xO=Xz-6QX_W2UndWgatx(UvRiTgvTZc{zMpg{o$5UFnXBH&|fCgYH=L?SkPUE1lXwN=-L&cwowTajaN8<+wwH^d>zNX66SNB)KWF$4xlQbRXSDw#t6^Zb-f?xahO{5c|gM%MvLNXZns=Q=+V6ZK^(RQQ>V*CXtWaHC-GET%`V0X`bm8`@gzpnj;S#_WZ*iwcs6EnKZS6G0;<r3|PW\"]\n",
        "\n",
        "\n",
        "n_list = []\n",
        "print(len(messages))\n",
        "for message in messages:\n",
        "\n",
        "    N = len(message)\n",
        "\n",
        "    for i in range(N // 5):\n",
        "\n",
        "        n = 0\n",
        "\n",
        "        for j in range(4,-1,-1):\n",
        "\n",
        "            n = n * 85 + code.index(message[i*5 + j])\n",
        "\n",
        "        n_list.append(n)\n",
        "\n",
        "N = len(n_list)\n",
        "\n",
        "\n",
        "v_list = []\n",
        "\n",
        "for i in range(N // 3):\n",
        "\n",
        "    n1 = n_list[i*3]\n",
        "    n2 = n_list[i*3+1]\n",
        "    n3 = n_list[i*3+2]\n",
        "\n",
        "    v_list.append(n1 >> 20)\n",
        "    v_list.append((n1 >> 8) & 0xfff)\n",
        "    v_list.append(((n1 << 4) & 0xfff) | (n2 >> 28))\n",
        "    v_list.append((n2 >> 16) & 0xfff)\n",
        "    v_list.append((n2 >> 4) & 0xfff)\n",
        "    v_list.append(((n2 << 8) & 0xfff) | (n3 >> 24))\n",
        "    v_list.append((n3 >> 12) & 0xfff)\n",
        "    v_list.append(n3 & 0xfff)\n",
        "    \n",
        "    \n",
        "print(v_list)"
      ],
      "execution_count": 6,
      "outputs": [
        {
          "output_type": "stream",
          "text": [
            "1\n",
            "[2094, 1434, 1802, 1879, 1254, 1634, 2141, 1726, 2509, 1392, 1725, 1845, 1500, 2206, 1278, 1290, 1263, 1541, 2172, 1864, 1626, 2412, 2041, 983, 2259, 2223, 1994, 1698, 1222, 1710, 2162, 1320, 1361, 1403, 1116, 1245, 1244, 1707, 952, 1708, 1008, 1344, 1744, 2082, 1054, 1205, 1226, 1820, 2381, 2632, 1043, 1090, 1048, 1876, 1068, 1362, 1583, 823, 972, 1649, 2182, 1097, 1206, 1056, 1665, 2508, 1804, 1707, 603, 1582, 1805, 1759, 1693, 1014, 1341, 1528, 1665, 1699, 1744, 1974, 2889, 1921, 1393, 2372, 2183, 713, 1629, 2520, 2676, 1844, 1082, 2042, 1669, 1411, 2287, 1788, 2061, 1667, 1868, 2671, 2362, 1927, 2606, 1566, 1316, 1177, 2931, 1871, 1902, 2316, 1732, 2618, 1941, 2124, 2659, 1283, 2046, 1954, 3713, 2776, 2673, 2379, 3024, 2099, 2239, 2035, 3005, 2706, 2502, 2845, 1776, 3092, 1998, 2123, 2049, 2934, 2901, 2406, 2942, 2221, 2118, 2985, 2828, 2425, 2945, 2361, 2890, 2451, 3223, 3130, 3386, 2437, 2605, 2325, 2375, 2814, 3433, 2579, 2622, 2334, 2982, 3191, 2875, 2476, 3184, 2893, 2858, 2481, 2721, 2835, 3052, 2546, 2933, 2308, 2299, 3041, 2957, 2795, 2552, 2955, 1911, 1979, 2730, 2451, 2991, 2705, 1960, 2639, 2091, 2800, 1857, 2550, 1777, 2274, 2557, 2014, 2579, 2495, 2692, 2245, 2025, 2301, 2195, 2378, 2667, 1844, 2097, 2185, 2798, 2281, 2743, 1508, 2454, 2233, 1617, 2131, 1686, 1348, 2214, 1953, 2048, 2457, 2284, 2312, 2759, 1671, 1989, 1563, 2153, 2140, 1373, 1529, 1131, 2048, 1948, 2302, 2859, 2152, 1951, 1920, 2089, 2292, 2654, 1761, 1895, 1871, 1971, 876, 1670, 1449, 1300, 1016, 1641, 1974, 1296, 3118, 1166, 1607, 1307, 1693, 1562, 1984, 2285, 1090, 1397, 1905, 1222, 1107, 2104, 1684, 1628, 849, 1413, 1734, 1265, 1205, 2150, 1922, 747, 1086, 1220, 878, 1256, 1458, 1526, 1091, 1784, 2011, 2717, 783, 2214, 780, 890, 979, 1342, 1698, 1587, 1479, 1622, 1431, 2602, 1332, 1583, 1856, 1590, 2287, 2681, 1724, 1891, 1727, 1500, 2252, 1436, 1596, 2077, 2043, 1531, 1556, 2710, 1544, 1414, 2242, 2222, 1476, 2279, 1892, 2110, 1723]\n"
          ],
          "name": "stdout"
        }
      ]
    }
  ]
}