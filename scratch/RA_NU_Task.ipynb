{
  "nbformat": 4,
  "nbformat_minor": 0,
  "metadata": {
    "colab": {
      "name": "RA_NU_Task.ipynb",
      "provenance": [],
      "machine_shape": "hm",
      "include_colab_link": true
    },
    "kernelspec": {
      "name": "python3",
      "display_name": "Python 3"
    },
    "accelerator": "TPU"
  },
  "cells": [
    {
      "cell_type": "markdown",
      "metadata": {
        "id": "view-in-github",
        "colab_type": "text"
      },
      "source": [
        "<a href=\"https://colab.research.google.com/github/thefr33radical/codeblue/blob/master/scratch/RA_NU_Task.ipynb\" target=\"_parent\"><img src=\"https://colab.research.google.com/assets/colab-badge.svg\" alt=\"Open In Colab\"/></a>"
      ]
    },
    {
      "cell_type": "code",
      "metadata": {
        "id": "iYG75QSnhmR1",
        "colab_type": "code",
        "outputId": "cc7fbb26-705c-497a-8fa7-a04861d28c6b",
        "colab": {
          "base_uri": "https://localhost:8080/",
          "height": 54
        }
      },
      "source": [
        "!pip install partd\n",
        "!pip install toolz"
      ],
      "execution_count": 0,
      "outputs": [
        {
          "output_type": "stream",
          "text": [
            "Drive already mounted at /content/drive; to attempt to forcibly remount, call drive.mount(\"/content/drive\", force_remount=True).\n"
          ],
          "name": "stdout"
        }
      ]
    },
    {
      "cell_type": "code",
      "metadata": {
        "id": "q98HvCt65dps",
        "colab_type": "code",
        "colab": {}
      },
      "source": [
        "from google.colab import drive,files\n",
        "import pandas as pd\n",
        "import io\n",
        "import dask.dataframe as dd\n",
        "drive.mount('/content/drive')"
      ],
      "execution_count": 0,
      "outputs": []
    },
    {
      "cell_type": "code",
      "metadata": {
        "id": "doZzUca2bbTe",
        "colab_type": "code",
        "outputId": "b03a3f2b-59a8-49c9-c6a3-889d7663dfb5",
        "colab": {
          "base_uri": "https://localhost:8080/",
          "height": 218
        }
      },
      "source": [
        "## Table 1\n",
        "df1 = pd.read_excel('/content/drive/My Drive/Copy of Zephyr 2000-11 industry.xls',sheet_name=\"Results\")\n",
        "\n",
        "print(len(df1.columns),len(df1))\n",
        "df1=df1[df1['Deal Number'].notnull()]\n",
        "df1[\"Deal Number\"] = df1[\"Deal Number\"].astype(int)\n",
        "print(\"Zephyr 2000-11 industry.xls\",len(df1),len(set(df1[\"Deal Number\"])),\"\\n\")\n",
        "\n",
        "## Table 2\n",
        "df2 = pd.read_excel('drive/My Drive/Copy of Zephyr 2000-2011 Deals.xls',sheet_name=\"Results\")\n",
        "print(len(df2.columns),len(df2))\n",
        "df2=df2[df2['Deal Number'].notnull()]\n",
        "df2[\"Deal Number\"] = df2[\"Deal Number\"].astype(int)\n",
        "print(\"Zephyr 2000-2011 Deals.xls\",len(df2),len(set(df2[\"Deal Number\"])),\"\\n\")\n",
        "\n",
        "## Table 3\n",
        "df3 = pd.read_excel('drive/My Drive/Copy of Zephyr 2000-11 contact & legal.xls',sheet_name=\"Results\")\n",
        "print(len(df3.columns),len(df3))\n",
        "df3=df3[df3['Deal Number'].notnull()]\n",
        "df3[\"Deal Number\"] = df3[\"Deal Number\"].astype(int)\n",
        "print(\"Zephyr 2000-11 contact & legal.xls\",len(df3),len(set(df3[\"Deal Number\"])),\"\\n\")\n",
        "\n",
        "# Table 4\n",
        "df4 = pd.read_excel('drive/My Drive/Copy of Zephyr 2000-2011 Ownership.xls',sheet_name=\"Results\")\n",
        "print(len(df4.columns),len(df4))\n",
        "df4=df4[df4['Deal Number'].notnull()]\n",
        "df4[\"Deal Number\"] = df4[\"Deal Number\"].astype(int)\n",
        "print(\"Zephyr 2000-2011 Ownership.xls\",len(df4),len(set(df4[\"Deal Number\"])),\"\\n\")"
      ],
      "execution_count": 0,
      "outputs": [
        {
          "output_type": "stream",
          "text": [
            "36 26918\n",
            "Zephyr 2000-11 industry.xls 20764 20764 \n",
            "\n",
            "20 21256\n",
            "Zephyr 2000-2011 Deals.xls 20764 20764 \n",
            "\n",
            "12 26918\n",
            "Zephyr 2000-11 contact & legal.xls 20764 20764 \n",
            "\n",
            "33 26916\n",
            "Zephyr 2000-2011 Ownership.xls 20764 20764 \n",
            "\n"
          ],
          "name": "stdout"
        }
      ]
    },
    {
      "cell_type": "code",
      "metadata": {
        "id": "6H-SoQXy7sYc",
        "colab_type": "code",
        "colab": {}
      },
      "source": [
        "\n",
        "dd_df1 = dd.from_pandas(df1, npartitions=10)\n",
        "dd_df2 = dd.from_pandas(df2, npartitions=10)\n",
        "dd_df3 = dd.from_pandas(df3, npartitions=10)\n",
        "dd_df4 = dd.from_pandas(df4, npartitions=10)\n",
        "\n",
        "del(df1)\n",
        "del(df2)\n",
        "del(df3)\n",
        "del(df4)"
      ],
      "execution_count": 0,
      "outputs": []
    },
    {
      "cell_type": "code",
      "metadata": {
        "id": "Jm9nVOo8q6_M",
        "colab_type": "code",
        "outputId": "5b4f698a-bb21-497d-a950-3b86512a4eec",
        "colab": {
          "base_uri": "https://localhost:8080/",
          "height": 34
        }
      },
      "source": [
        "result_dd1 = dd_df1.merge(dd_df2, on='Deal Number',how='inner').compute()\n",
        "print(len(result_dd1))"
      ],
      "execution_count": 0,
      "outputs": [
        {
          "output_type": "stream",
          "text": [
            "20764\n"
          ],
          "name": "stdout"
        }
      ]
    },
    {
      "cell_type": "code",
      "metadata": {
        "id": "kT_hRlGjxcQI",
        "colab_type": "code",
        "outputId": "b7eab44c-2be1-42a2-87eb-36d33b93bef7",
        "colab": {
          "base_uri": "https://localhost:8080/",
          "height": 34
        }
      },
      "source": [
        "result_dd2 = dd_df3.merge(dd_df4, on='Deal Number',how='inner').compute()\n",
        "print(len(result_dd2))"
      ],
      "execution_count": 0,
      "outputs": [
        {
          "output_type": "stream",
          "text": [
            "20764\n"
          ],
          "name": "stdout"
        }
      ]
    },
    {
      "cell_type": "code",
      "metadata": {
        "id": "lrXXx11Anjj8",
        "colab_type": "code",
        "outputId": "e86258de-7f01-464f-9dc6-5a929640ad1c",
        "colab": {
          "base_uri": "https://localhost:8080/",
          "height": 34
        }
      },
      "source": [
        "result= pd.merge(result_dd1, result_dd2, on='Deal Number', how='inner')\n",
        "print(len(result),len(result.columns))\n"
      ],
      "execution_count": 0,
      "outputs": [
        {
          "output_type": "stream",
          "text": [
            "20764 98\n"
          ],
          "name": "stdout"
        }
      ]
    },
    {
      "cell_type": "code",
      "metadata": {
        "id": "7mJjS67Q9Z48",
        "colab_type": "code",
        "colab": {}
      },
      "source": [
        "result.to_csv(\"drive/My Drive/result.csv\")"
      ],
      "execution_count": 0,
      "outputs": []
    }
  ]
}