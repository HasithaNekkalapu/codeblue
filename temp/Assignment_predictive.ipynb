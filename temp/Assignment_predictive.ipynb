{
  "nbformat": 4,
  "nbformat_minor": 0,
  "metadata": {
    "colab": {
      "name": "Assignment_predictive.ipynb",
      "version": "0.3.2",
      "provenance": [],
      "include_colab_link": true
    },
    "kernelspec": {
      "name": "python3",
      "display_name": "Python 3"
    }
  },
  "cells": [
    {
      "cell_type": "markdown",
      "metadata": {
        "id": "view-in-github",
        "colab_type": "text"
      },
      "source": [
        "<a href=\"https://colab.research.google.com/github/thefr33radical/codeblue/blob/master/temp/Assignment_predictive.ipynb\" target=\"_parent\"><img src=\"https://colab.research.google.com/assets/colab-badge.svg\" alt=\"Open In Colab\"/></a>"
      ]
    },
    {
      "cell_type": "code",
      "metadata": {
        "id": "Fvafuo_lUHBx",
        "colab_type": "code",
        "colab": {
          "base_uri": "https://localhost:8080/",
          "height": 138
        },
        "outputId": "c2b48678-e65c-4baf-dca7-9929ef96e793"
      },
      "source": [
        "import pandas as pd\n",
        "\n",
        "from sklearn.model_selection import train_test_split\n",
        "from sklearn.linear_model import LinearRegression\n",
        "from sklearn import preprocessing\n",
        "import matplotlib.pyplot as plt\n",
        "from sklearn.metrics import mean_squared_error, r2_score\n",
        "\n",
        "data = pd.read_csv( 'http://data.princeton.edu/wws509/datasets/salary.dat',\n",
        "            header='infer',sep=\"\\s+\")\n",
        "#print(data)\n",
        "le = preprocessing.LabelEncoder()\n",
        "#data.drop([\"rk\",\"dg\",\"sx\"],inplace=True,axis=1)\n",
        "data[\"rk\"]=le.fit_transform(data[\"rk\"])\n",
        "data[\"dg\"]=le.fit_transform(data[\"dg\"])\n",
        "data[\"sx\"]=le.fit_transform(data[\"sx\"])\n",
        "\n",
        "X_train,X_test,y_train,y_test = train_test_split(data.iloc[:,:-1],data.iloc[:,-1],test_size=0.2,random_state=123)\n",
        "\n",
        "model = LinearRegression(fit_intercept=True, normalize=True)\n",
        "model.fit(X_train,y_train)\n",
        "y_predict = model.predict(X_test)\n",
        "\n",
        "\n",
        "# The coefficients\n",
        "print('Coefficients: \\n', model.coef_)\n",
        "# The mean squared error\n",
        "print(\"Mean squared error: %.2f\"% mean_squared_error(y_test, y_predict))\n",
        "\n",
        "print('Variance score: %.2f' % r2_score(y_test, y_predict))\n",
        "\n",
        "\n",
        "\"\"\"\n",
        "\n",
        "\n",
        "plt.figure(figsize=(4, 3))\n",
        "ax = plt.axes()\n",
        "x1= X_test[\"yd\"]\n",
        "x2= X_test[\"yr\"]\n",
        "ax.scatter(x1,x2)\n",
        "\n",
        "#ax.plot( y_predict)\n",
        "\n",
        "ax.set_xlabel('x')\n",
        "ax.set_ylabel('y')\n",
        "\n",
        "ax.axis('tight')\n",
        "\n",
        "\n",
        "plt.show()\n",
        "\n",
        "\"\"\"\n"
      ],
      "execution_count": 83,
      "outputs": [
        {
          "output_type": "stream",
          "text": [
            "Coefficients: \n",
            " [-1237.70506105  5718.81936389   501.68024961  1696.47297512\n",
            "  -149.84512752]\n",
            "Mean squared error: 2941324.05\n",
            "Variance score: 0.89\n"
          ],
          "name": "stdout"
        },
        {
          "output_type": "execute_result",
          "data": {
            "text/plain": [
              "'\\n\\n\\nplt.figure(figsize=(4, 3))\\nax = plt.axes()\\nx1= X_test[\"yd\"]\\nx2= X_test[\"yr\"]\\nax.scatter(x1,x2)\\n\\n#ax.plot( y_predict)\\n\\nax.set_xlabel(\\'x\\')\\nax.set_ylabel(\\'y\\')\\n\\nax.axis(\\'tight\\')\\n\\n\\nplt.show()\\n\\n'"
            ]
          },
          "metadata": {
            "tags": []
          },
          "execution_count": 83
        }
      ]
    }
  ]
}