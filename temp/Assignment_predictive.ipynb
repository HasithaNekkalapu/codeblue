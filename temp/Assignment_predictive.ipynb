{
  "nbformat": 4,
  "nbformat_minor": 0,
  "metadata": {
    "colab": {
      "name": "Assignment_predictive.ipynb",
      "version": "0.3.2",
      "provenance": [],
      "include_colab_link": true
    },
    "kernelspec": {
      "name": "python3",
      "display_name": "Python 3"
    }
  },
  "cells": [
    {
      "cell_type": "markdown",
      "metadata": {
        "id": "view-in-github",
        "colab_type": "text"
      },
      "source": [
        "<a href=\"https://colab.research.google.com/github/thefr33radical/codeblue/blob/master/temp/Assignment_predictive.ipynb\" target=\"_parent\"><img src=\"https://colab.research.google.com/assets/colab-badge.svg\" alt=\"Open In Colab\"/></a>"
      ]
    },
    {
      "cell_type": "code",
      "metadata": {
        "id": "Fvafuo_lUHBx",
        "colab_type": "code",
        "outputId": "53625e2b-8f69-4495-812a-5c63d95a05f8",
        "colab": {
          "base_uri": "https://localhost:8080/",
          "height": 34
        }
      },
      "source": [
        "# 1a\n",
        "\n",
        "def exponential(arg1,arg2):\n",
        "  return arg1**arg2\n",
        "\n",
        "print(exponential(2,10))"
      ],
      "execution_count": 0,
      "outputs": [
        {
          "output_type": "stream",
          "text": [
            "1024\n"
          ],
          "name": "stdout"
        }
      ]
    },
    {
      "cell_type": "code",
      "metadata": {
        "id": "OpQBBR4As2WM",
        "colab_type": "code",
        "colab": {
          "base_uri": "https://localhost:8080/",
          "height": 501
        },
        "outputId": "2dbd2a3e-dc89-4852-9353-bfcfc4abff06"
      },
      "source": [
        "# 1b\n",
        "\n",
        "import pandas as pd\n",
        "from sklearn.model_selection import train_test_split\n",
        "from sklearn.linear_model import LinearRegression\n",
        "from sklearn import preprocessing\n",
        "import matplotlib.pyplot as plt\n",
        "from sklearn.metrics import mean_squared_error, r2_score\n",
        "import math\n",
        "import matplotlib.pyplot as plt\n",
        "\n",
        "\n",
        "data = pd.read_csv( 'http://data.princeton.edu/wws509/datasets/salary.dat',\n",
        "            header='infer',sep=\"\\s+\")\n",
        "print(data.columns)\n",
        "le = preprocessing.LabelEncoder()\n",
        "#data.drop([\"rk\",\"dg\",\"sx\"],inplace=True,axis=1)\n",
        "data[\"rk\"]=le.fit_transform(data[\"rk\"])\n",
        "data[\"dg\"]=le.fit_transform(data[\"dg\"])\n",
        "data[\"sx\"]=le.fit_transform(data[\"sx\"])\n",
        "\n",
        "\n",
        "corr = data.corr()\n",
        "corr.style.background_gradient(cmap='coolwarm')\n",
        "plt.matshow(corr)\n",
        "print(corr)\n",
        "\n",
        "X_train,X_test,y_train,y_test = train_test_split(data.iloc[:,:-1],data.iloc[:,-1],test_size=0.2,random_state=123)\n",
        "\n",
        "model = LinearRegression(fit_intercept=True, normalize=True)\n",
        "model.fit(X_train,y_train)\n",
        "y_predict = model.predict(X_test)\n",
        "\n",
        "# The coefficients\n",
        "print('Coefficients: \\n', model.coef_)\n",
        "# The mean squared error\n",
        "print(\"Mean squared error: %.2f\" % math.sqrt(mean_squared_error(y_test, y_predict)))\n",
        "\n",
        "print('Variance score: %.2f' % r2_score(y_test, y_predict))\n",
        "\n"
      ],
      "execution_count": 21,
      "outputs": [
        {
          "output_type": "stream",
          "text": [
            "Index(['sx', 'rk', 'yr', 'dg', 'yd', 'sl'], dtype='object')\n",
            "          sx        rk        yr        dg        yd        sl\n",
            "sx  1.000000  0.230411  0.379404  0.077112  0.088288  0.252782\n",
            "rk  0.230411  1.000000  0.507980  0.014564  0.695724  0.867488\n",
            "yr  0.379404  0.507980  1.000000  0.143377  0.638776  0.700669\n",
            "dg  0.077112  0.014564  0.143377  1.000000  0.482836  0.069726\n",
            "yd  0.088288  0.695724  0.638776  0.482836  1.000000  0.674854\n",
            "sl  0.252782  0.867488  0.700669  0.069726  0.674854  1.000000\n",
            "Coefficients: \n",
            " [-1237.70506105  5718.81936389   501.68024961  1696.47297512\n",
            "  -149.84512752]\n",
            "Mean squared error: 1715.03\n",
            "Variance score: 0.89\n"
          ],
          "name": "stdout"
        },
        {
          "output_type": "display_data",
          "data": {
            "image/png": "[encoded data removed]",
            "text/plain": [
              "<Figure size 288x288 with 1 Axes>"
            ]
          },
          "metadata": {
            "tags": []
          }
        }
      ]
    },
    {
      "cell_type": "code",
      "metadata": {
        "id": "KZUGhguGvDcH",
        "colab_type": "code",
        "outputId": "b8039665-51d4-43c7-cebf-938a4a936113",
        "colab": {
          "base_uri": "https://localhost:8080/",
          "height": 154
        }
      },
      "source": [
        "import pandas as pd\n",
        "from sklearn.model_selection import train_test_split\n",
        "from sklearn.linear_model import LogisticRegression\n",
        "from sklearn import preprocessing\n",
        "import matplotlib.pyplot as plt\n",
        "from sklearn.metrics import mean_squared_error, r2_score\n",
        "\n",
        "import requests\n",
        "import io\n",
        "\n",
        "response = requests.get(\"http://ucanalytics.com/blogs/wp-content/uploads/2017/09/Data-L-Reg-Gradient-Descent.csv\")\n",
        "file_object = io.StringIO(response.content.decode('utf-8'))\n",
        "data = pd.read_csv(file_object,header=\"infer\",sep=\",\")\n",
        "print(data.columns)\n",
        "\n",
        "x= pd.concat([data[\"x1\"],data[\"x2\"],data[\"X1plusX2\"]],axis=1)\n",
        "y=data[\"y\"]\n",
        "\n",
        "X_train,X_test,y_train,y_test = train_test_split(x,y,test_size=0.25,random_state=5689)\n",
        "\n",
        "model = LogisticRegression()\n",
        "model.fit(X_train,y_train)\n",
        "y_predict = model.predict(X_test)\n",
        "\n",
        "print(y_predict)\n",
        "score = model.score(X_test, y_test)\n",
        "print(score)\n"
      ],
      "execution_count": 0,
      "outputs": [
        {
          "output_type": "stream",
          "text": [
            "Index(['x1', 'x2', 'y', 'X1plusX2'], dtype='object')\n",
            "[1 1 0 0 1 0 0 0 0 0 1 0 1 1 0 1 0 1 1 1 1 0 1 0 0 1 1 1 0 1 0 0 0 1 1 0 1\n",
            " 0 0 1 1 1 1 1 1 0 1 1 0 1 1 0 1 0 1 1 0 0 0 1 0 0 0 0 1 0 0 1 1 0 0 0 1 0\n",
            " 0 1 0 0 1 0 0 1 0 1 0 1 0 0 1 1 1 0 0 1 1 0 0 1 1 1]\n",
            "0.7\n"
          ],
          "name": "stdout"
        },
        {
          "output_type": "stream",
          "text": [
            "/usr/local/lib/python3.6/dist-packages/sklearn/linear_model/logistic.py:432: FutureWarning: Default solver will be changed to 'lbfgs' in 0.22. Specify a solver to silence this warning.\n",
            "  FutureWarning)\n"
          ],
          "name": "stderr"
        }
      ]
    }
  ]
}